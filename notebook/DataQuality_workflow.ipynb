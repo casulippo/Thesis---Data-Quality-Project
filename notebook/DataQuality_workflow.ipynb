{
 "cells": [
  {
   "cell_type": "markdown",
   "id": "cf5c362c",
   "metadata": {},
   "source": [
    "# Data Quality \n",
    "\n",
    "Dopo aver completato la fase di Data Ingestion tramite lo scraping il secondo step è quello di valutare la qualità dei dati raccolti.  \n",
    "Il dataframe studiato presenta 18 colonne. Ogni colonna presenta delle differenze dalle altre e ci si aspetta determinati valori da queste.\n",
    "\n",
    "Dopo aver settato:\n",
    "1. la datasource\n",
    "2. suite e le relative expectations (si rimanda al noteook SuiteSetUp_main)\n",
    "3. creazione del checkpoint e validazione\n",
    "\n",
    "Si condurrà una validazione del sample"
   ]
  },
  {
   "cell_type": "code",
   "execution_count": 2,
   "id": "6d6b8547",
   "metadata": {},
   "outputs": [],
   "source": [
    "import great_expectations as gx\n",
    "from ruamel import yaml\n",
    "from great_expectations.data_context.types.resource_identifiers import ExpectationSuiteIdentifier\n",
    "import os\n",
    "import sys\n",
    "sys.path.insert(0, '../funzioni')\n",
    "from funzioni import *"
   ]
  },
  {
   "cell_type": "code",
   "execution_count": null,
   "id": "93e92f5a",
   "metadata": {},
   "outputs": [],
   "source": [
    "context = gx.get_context()"
   ]
  },
  {
   "cell_type": "markdown",
   "id": "8f355df3",
   "metadata": {},
   "source": [
    "### Configurazione della datasource "
   ]
  },
  {
   "cell_type": "code",
   "execution_count": null,
   "id": "da1f776f",
   "metadata": {},
   "outputs": [],
   "source": [
    "datasource_config: dict = {\n",
    "    \"name\": \"glassdoor_scraping\",\n",
    "    \"class_name\": \"Datasource\",\n",
    "    \"module_name\": \"great_expectations.datasource\",\n",
    "    \"execution_engine\": {\n",
    "        \"class_name\": \"PandasExecutionEngine\",\n",
    "        \"module_name\": \"great_expectations.execution_engine\",\n",
    "    },\n",
    "     \"data_connectors\": {\n",
    "        \"all\": {\n",
    "            \"class_name\": \"InferredAssetFilesystemDataConnector\",\n",
    "            \"base_directory\": \"../data\",\n",
    "            \"default_regex\": {\"pattern\": \"(.*)\\\\.csv\",\n",
    "            \"group_names\": [\"data_asset_name\"]},\n",
    "            #\"batch_spec_passthrough\": {\n",
    "            #    \"reader_method\": \"read_csv\",\n",
    "            #    \"reader_options\": {\n",
    "            #        \"header\": True,\n",
    "            #        \"inferSchema\": True,\n",
    "            #    },\n",
    "            #},\n",
    "        }\n",
    "    },\n",
    "}"
   ]
  },
  {
   "cell_type": "code",
   "execution_count": null,
   "id": "bc8b964c",
   "metadata": {},
   "outputs": [],
   "source": [
    "#check configurazione\n",
    "context.test_yaml_config(yaml.dump(datasource_config))"
   ]
  },
  {
   "cell_type": "code",
   "execution_count": null,
   "id": "afcfc0fb",
   "metadata": {},
   "outputs": [],
   "source": [
    "## try to add\n",
    "try:\n",
    "    context.get_datasource(datasource_config[\"name\"])\n",
    "except ValueError:\n",
    "    context.add_datasource(**datasource_config)\n",
    "else:\n",
    "    print(\n",
    "        f\"The datasource {datasource_config['name']} already exists in your Data Context!\"\n",
    "    )"
   ]
  },
  {
   "cell_type": "markdown",
   "id": "7734d851",
   "metadata": {},
   "source": [
    "### Indicazione delle suite\n",
    "\n",
    "Si rimanda al noteook SuiteSetUp_main per eventuali modifiche della stessa"
   ]
  },
  {
   "cell_type": "code",
   "execution_count": null,
   "id": "992eeea2",
   "metadata": {},
   "outputs": [],
   "source": [
    "a = context.list_expectation_suite_names()\n",
    "suite_identifier = ExpectationSuiteIdentifier(expectation_suite_name=a[0])\n",
    "context.build_data_docs(resource_identifiers=[suite_identifier])\n",
    "context.open_data_docs(resource_identifier=suite_identifier)\n",
    "print('http://localhost:9000/view/great_expectations/uncommitted/data_docs/local_site/expectations/'+ a[0] +'.html')"
   ]
  },
  {
   "cell_type": "markdown",
   "id": "dbf1452b",
   "metadata": {},
   "source": [
    "### Creazione del checkpoint e validazione"
   ]
  },
  {
   "cell_type": "markdown",
   "id": "f83de8c8",
   "metadata": {},
   "source": [
    "E' stata creata una funzione che prendendo come input il data-asset (sotto gruppo della data-source) crerà per ogni data-asset un checkpoint.\n",
    "Poiché ogni data-asset corrisponde al giorno in cui è stato lanciato il processo di data-ingestion verrà creato un checkpoint per ogni giorno in cui appunto ha girato il processo di data-ingestion\n",
    "\n",
    "Per le funzioni si rimanda alla percorso `../funzioni/funzioni.py`.\n",
    "Per ogni validazione del checkpoint saranno disponibili i risultati in formato HTML"
   ]
  },
  {
   "cell_type": "code",
   "execution_count": 3,
   "id": "74108e2c",
   "metadata": {
    "scrolled": false
   },
   "outputs": [
    {
     "name": "stdout",
     "output_type": "stream",
     "text": [
      "Questa la documentazione sulla suite: Main \n",
      " http://localhost:9000/view/great_expectations/uncommitted/data_docs/local_site/expectations/Main.html\n"
     ]
    },
    {
     "data": {
      "application/vnd.jupyter.widget-view+json": {
       "model_id": "8ede87ea056b4b4ab5bce0b98235ffea",
       "version_major": 2,
       "version_minor": 0
      },
      "text/plain": [
       "Calculating Metrics:   0%|          | 0/240 [00:00<?, ?it/s]"
      ]
     },
     "metadata": {},
     "output_type": "display_data"
    },
    {
     "name": "stdout",
     "output_type": "stream",
     "text": [
      "Consulta i risultati del data_asset_name \"scraping_all_20230131\" al link:\n",
      "http://localhost:9000/view/great_expectations/uncommitted/data_docs/local_site/validations/Main/20230302-212348-scraping_all_20230131/20230302T212348.975967Z/a8c2603936f08f68234cfeb52d848e66.html\n"
     ]
    },
    {
     "data": {
      "application/vnd.jupyter.widget-view+json": {
       "model_id": "f9e9b243d4394bd9ae81bd1a9a8ae828",
       "version_major": 2,
       "version_minor": 0
      },
      "text/plain": [
       "Calculating Metrics:   0%|          | 0/240 [00:00<?, ?it/s]"
      ]
     },
     "metadata": {},
     "output_type": "display_data"
    },
    {
     "name": "stdout",
     "output_type": "stream",
     "text": [
      "Consulta i risultati del data_asset_name \"scraping_all_20230201\" al link:\n",
      "http://localhost:9000/view/great_expectations/uncommitted/data_docs/local_site/validations/Main/20230302-212352-scraping_all_20230201/20230302T212352.759815Z/6846293c9834bd8f9f0498067de4cc79.html\n"
     ]
    },
    {
     "data": {
      "application/vnd.jupyter.widget-view+json": {
       "model_id": "908b967e0cbf4b748b46963e0341fc74",
       "version_major": 2,
       "version_minor": 0
      },
      "text/plain": [
       "Calculating Metrics:   0%|          | 0/240 [00:00<?, ?it/s]"
      ]
     },
     "metadata": {},
     "output_type": "display_data"
    },
    {
     "name": "stdout",
     "output_type": "stream",
     "text": [
      "Consulta i risultati del data_asset_name \"scraping_all_20230202\" al link:\n",
      "http://localhost:9000/view/great_expectations/uncommitted/data_docs/local_site/validations/Main/20230302-212355-scraping_all_20230202/20230302T212355.126481Z/5e8fcbd3a476b02c69e7086e74c19643.html\n"
     ]
    },
    {
     "data": {
      "application/vnd.jupyter.widget-view+json": {
       "model_id": "7bb09d5290af4c8fa3476b738b2f2973",
       "version_major": 2,
       "version_minor": 0
      },
      "text/plain": [
       "Calculating Metrics:   0%|          | 0/240 [00:00<?, ?it/s]"
      ]
     },
     "metadata": {},
     "output_type": "display_data"
    },
    {
     "name": "stdout",
     "output_type": "stream",
     "text": [
      "Consulta i risultati del data_asset_name \"scraping_all_20230203\" al link:\n",
      "http://localhost:9000/view/great_expectations/uncommitted/data_docs/local_site/validations/Main/20230302-212357-scraping_all_20230203/20230302T212357.941576Z/b99595ff62aa1b77109a89d80ca06516.html\n"
     ]
    },
    {
     "data": {
      "application/vnd.jupyter.widget-view+json": {
       "model_id": "323a4db5540b45d78baab8f8aa8341e0",
       "version_major": 2,
       "version_minor": 0
      },
      "text/plain": [
       "Calculating Metrics:   0%|          | 0/240 [00:00<?, ?it/s]"
      ]
     },
     "metadata": {},
     "output_type": "display_data"
    },
    {
     "name": "stdout",
     "output_type": "stream",
     "text": [
      "Consulta i risultati del data_asset_name \"scraping_all_20230204\" al link:\n",
      "http://localhost:9000/view/great_expectations/uncommitted/data_docs/local_site/validations/Main/20230302-212400-scraping_all_20230204/20230302T212400.451121Z/60a12e85b58c629662f9400945fff6c4.html\n"
     ]
    },
    {
     "data": {
      "application/vnd.jupyter.widget-view+json": {
       "model_id": "b88d14cd91d14b8fb56b0137365f0b94",
       "version_major": 2,
       "version_minor": 0
      },
      "text/plain": [
       "Calculating Metrics:   0%|          | 0/240 [00:00<?, ?it/s]"
      ]
     },
     "metadata": {},
     "output_type": "display_data"
    },
    {
     "name": "stdout",
     "output_type": "stream",
     "text": [
      "Consulta i risultati del data_asset_name \"scraping_all_20230205\" al link:\n",
      "http://localhost:9000/view/great_expectations/uncommitted/data_docs/local_site/validations/Main/20230302-212402-scraping_all_20230205/20230302T212402.880101Z/359a3b77c11be2dce60e82e0630966f5.html\n"
     ]
    },
    {
     "data": {
      "application/vnd.jupyter.widget-view+json": {
       "model_id": "c84cd9de5dd84078a1b8e83d80cf4fef",
       "version_major": 2,
       "version_minor": 0
      },
      "text/plain": [
       "Calculating Metrics:   0%|          | 0/240 [00:00<?, ?it/s]"
      ]
     },
     "metadata": {},
     "output_type": "display_data"
    },
    {
     "name": "stdout",
     "output_type": "stream",
     "text": [
      "Consulta i risultati del data_asset_name \"scraping_all_20230206\" al link:\n",
      "http://localhost:9000/view/great_expectations/uncommitted/data_docs/local_site/validations/Main/20230302-212405-scraping_all_20230206/20230302T212405.389609Z/a73990dd45cb2af530da3ccffa2149bf.html\n"
     ]
    },
    {
     "data": {
      "application/vnd.jupyter.widget-view+json": {
       "model_id": "2dee5b5924ce4884a7aaf9e141a44f76",
       "version_major": 2,
       "version_minor": 0
      },
      "text/plain": [
       "Calculating Metrics:   0%|          | 0/240 [00:00<?, ?it/s]"
      ]
     },
     "metadata": {},
     "output_type": "display_data"
    },
    {
     "name": "stdout",
     "output_type": "stream",
     "text": [
      "Consulta i risultati del data_asset_name \"scraping_all_20230207\" al link:\n",
      "http://localhost:9000/view/great_expectations/uncommitted/data_docs/local_site/validations/Main/20230302-212407-scraping_all_20230207/20230302T212407.946158Z/57debcbab72ee490bf5b0cc7c6214d73.html\n"
     ]
    },
    {
     "data": {
      "application/vnd.jupyter.widget-view+json": {
       "model_id": "003d62e7f096464aa22aebc6575401a2",
       "version_major": 2,
       "version_minor": 0
      },
      "text/plain": [
       "Calculating Metrics:   0%|          | 0/240 [00:00<?, ?it/s]"
      ]
     },
     "metadata": {},
     "output_type": "display_data"
    },
    {
     "name": "stdout",
     "output_type": "stream",
     "text": [
      "Consulta i risultati del data_asset_name \"scraping_all_20230208\" al link:\n",
      "http://localhost:9000/view/great_expectations/uncommitted/data_docs/local_site/validations/Main/20230302-212410-scraping_all_20230208/20230302T212410.550522Z/8b5a58ecdfc8f3f2ce58991ab4e96bd6.html\n"
     ]
    },
    {
     "data": {
      "application/vnd.jupyter.widget-view+json": {
       "model_id": "d22d8c705985477ab7669d4ee784f01a",
       "version_major": 2,
       "version_minor": 0
      },
      "text/plain": [
       "Calculating Metrics:   0%|          | 0/240 [00:00<?, ?it/s]"
      ]
     },
     "metadata": {},
     "output_type": "display_data"
    },
    {
     "name": "stdout",
     "output_type": "stream",
     "text": [
      "Consulta i risultati del data_asset_name \"scraping_all_20230209\" al link:\n",
      "http://localhost:9000/view/great_expectations/uncommitted/data_docs/local_site/validations/Main/20230302-212413-scraping_all_20230209/20230302T212413.216446Z/c062ff09b524767dc467d1c23598650b.html\n"
     ]
    },
    {
     "data": {
      "application/vnd.jupyter.widget-view+json": {
       "model_id": "2c27092967f649529c72c69a87f62a2c",
       "version_major": 2,
       "version_minor": 0
      },
      "text/plain": [
       "Calculating Metrics:   0%|          | 0/240 [00:00<?, ?it/s]"
      ]
     },
     "metadata": {},
     "output_type": "display_data"
    },
    {
     "name": "stdout",
     "output_type": "stream",
     "text": [
      "Consulta i risultati del data_asset_name \"scraping_all_20230210\" al link:\n",
      "http://localhost:9000/view/great_expectations/uncommitted/data_docs/local_site/validations/Main/20230302-212416-scraping_all_20230210/20230302T212416.041973Z/8f2773112761e97a56da86f97ca2bfad.html\n"
     ]
    },
    {
     "data": {
      "application/vnd.jupyter.widget-view+json": {
       "model_id": "2a77d903448a4a1d862491a0b22c68c8",
       "version_major": 2,
       "version_minor": 0
      },
      "text/plain": [
       "Calculating Metrics:   0%|          | 0/240 [00:00<?, ?it/s]"
      ]
     },
     "metadata": {},
     "output_type": "display_data"
    },
    {
     "name": "stdout",
     "output_type": "stream",
     "text": [
      "Consulta i risultati del data_asset_name \"scraping_all_20230211\" al link:\n",
      "http://localhost:9000/view/great_expectations/uncommitted/data_docs/local_site/validations/Main/20230302-212418-scraping_all_20230211/20230302T212418.812072Z/fed9054f53dd4148b28cdff1a265776d.html\n"
     ]
    },
    {
     "data": {
      "application/vnd.jupyter.widget-view+json": {
       "model_id": "c5354990d69e4450b7cff457a7ad42f9",
       "version_major": 2,
       "version_minor": 0
      },
      "text/plain": [
       "Calculating Metrics:   0%|          | 0/240 [00:00<?, ?it/s]"
      ]
     },
     "metadata": {},
     "output_type": "display_data"
    },
    {
     "name": "stdout",
     "output_type": "stream",
     "text": [
      "Consulta i risultati del data_asset_name \"scraping_all_20230212\" al link:\n",
      "http://localhost:9000/view/great_expectations/uncommitted/data_docs/local_site/validations/Main/20230302-212421-scraping_all_20230212/20230302T212421.655963Z/4e90ae4b9334a6ab6e7f72dc32d27f65.html\n"
     ]
    },
    {
     "data": {
      "application/vnd.jupyter.widget-view+json": {
       "model_id": "a94c7549fce041a99b7a5fda533e467b",
       "version_major": 2,
       "version_minor": 0
      },
      "text/plain": [
       "Calculating Metrics:   0%|          | 0/240 [00:00<?, ?it/s]"
      ]
     },
     "metadata": {},
     "output_type": "display_data"
    },
    {
     "name": "stdout",
     "output_type": "stream",
     "text": [
      "Consulta i risultati del data_asset_name \"scraping_all_20230213\" al link:\n",
      "http://localhost:9000/view/great_expectations/uncommitted/data_docs/local_site/validations/Main/20230302-212424-scraping_all_20230213/20230302T212424.621533Z/a835edef57833302c353e9e1d06fbd82.html\n"
     ]
    },
    {
     "data": {
      "application/vnd.jupyter.widget-view+json": {
       "model_id": "c70315cde27f4095b8845c829ac9e4d4",
       "version_major": 2,
       "version_minor": 0
      },
      "text/plain": [
       "Calculating Metrics:   0%|          | 0/240 [00:00<?, ?it/s]"
      ]
     },
     "metadata": {},
     "output_type": "display_data"
    },
    {
     "name": "stdout",
     "output_type": "stream",
     "text": [
      "Consulta i risultati del data_asset_name \"scraping_all_20230214\" al link:\n",
      "http://localhost:9000/view/great_expectations/uncommitted/data_docs/local_site/validations/Main/20230302-212427-scraping_all_20230214/20230302T212427.728388Z/b04c43667dd9ad7593259992ace3ed41.html\n"
     ]
    },
    {
     "data": {
      "application/vnd.jupyter.widget-view+json": {
       "model_id": "33a11a4d35494d099fe111e4212fe189",
       "version_major": 2,
       "version_minor": 0
      },
      "text/plain": [
       "Calculating Metrics:   0%|          | 0/240 [00:00<?, ?it/s]"
      ]
     },
     "metadata": {},
     "output_type": "display_data"
    },
    {
     "name": "stdout",
     "output_type": "stream",
     "text": [
      "Consulta i risultati del data_asset_name \"scraping_all_20230215\" al link:\n",
      "http://localhost:9000/view/great_expectations/uncommitted/data_docs/local_site/validations/Main/20230302-212430-scraping_all_20230215/20230302T212430.949376Z/1c201e09ae18cc7a05cf80b5766dd557.html\n"
     ]
    },
    {
     "data": {
      "application/vnd.jupyter.widget-view+json": {
       "model_id": "29a43a2268be49dbb4faf66a56c36c2e",
       "version_major": 2,
       "version_minor": 0
      },
      "text/plain": [
       "Calculating Metrics:   0%|          | 0/240 [00:00<?, ?it/s]"
      ]
     },
     "metadata": {},
     "output_type": "display_data"
    },
    {
     "name": "stdout",
     "output_type": "stream",
     "text": [
      "Consulta i risultati del data_asset_name \"scraping_all_20230216\" al link:\n",
      "http://localhost:9000/view/great_expectations/uncommitted/data_docs/local_site/validations/Main/20230302-212434-scraping_all_20230216/20230302T212434.129440Z/c4e91d3d0445ea05aa5a84cca138ff6f.html\n"
     ]
    },
    {
     "data": {
      "application/vnd.jupyter.widget-view+json": {
       "model_id": "277ba885cc8f447b9bdb1ea6fe7f7824",
       "version_major": 2,
       "version_minor": 0
      },
      "text/plain": [
       "Calculating Metrics:   0%|          | 0/240 [00:00<?, ?it/s]"
      ]
     },
     "metadata": {},
     "output_type": "display_data"
    },
    {
     "name": "stdout",
     "output_type": "stream",
     "text": [
      "Consulta i risultati del data_asset_name \"scraping_all_20230217\" al link:\n",
      "http://localhost:9000/view/great_expectations/uncommitted/data_docs/local_site/validations/Main/20230302-212437-scraping_all_20230217/20230302T212437.316138Z/3efa08eb01bba7de1266fd8bb26c5cf3.html\n"
     ]
    },
    {
     "data": {
      "application/vnd.jupyter.widget-view+json": {
       "model_id": "d1d6f4f160184b669b4886d5e4869a3e",
       "version_major": 2,
       "version_minor": 0
      },
      "text/plain": [
       "Calculating Metrics:   0%|          | 0/240 [00:00<?, ?it/s]"
      ]
     },
     "metadata": {},
     "output_type": "display_data"
    },
    {
     "name": "stdout",
     "output_type": "stream",
     "text": [
      "Consulta i risultati del data_asset_name \"scraping_all_20230218\" al link:\n",
      "http://localhost:9000/view/great_expectations/uncommitted/data_docs/local_site/validations/Main/20230302-212440-scraping_all_20230218/20230302T212440.728079Z/0793b2276f717bcfe6adfb106b5137ef.html\n"
     ]
    },
    {
     "data": {
      "application/vnd.jupyter.widget-view+json": {
       "model_id": "94387ce17083415e9d1781725a4e4f9c",
       "version_major": 2,
       "version_minor": 0
      },
      "text/plain": [
       "Calculating Metrics:   0%|          | 0/240 [00:00<?, ?it/s]"
      ]
     },
     "metadata": {},
     "output_type": "display_data"
    },
    {
     "name": "stdout",
     "output_type": "stream",
     "text": [
      "Consulta i risultati del data_asset_name \"scraping_all_20230219\" al link:\n",
      "http://localhost:9000/view/great_expectations/uncommitted/data_docs/local_site/validations/Main/20230302-212444-scraping_all_20230219/20230302T212444.198912Z/e9bd252c14835612b1e4ae4a3ac712c0.html\n"
     ]
    },
    {
     "data": {
      "application/vnd.jupyter.widget-view+json": {
       "model_id": "813f951e787f461f80dff8b5ae917ca0",
       "version_major": 2,
       "version_minor": 0
      },
      "text/plain": [
       "Calculating Metrics:   0%|          | 0/240 [00:00<?, ?it/s]"
      ]
     },
     "metadata": {},
     "output_type": "display_data"
    },
    {
     "name": "stdout",
     "output_type": "stream",
     "text": [
      "Consulta i risultati del data_asset_name \"scraping_all_20230220\" al link:\n",
      "http://localhost:9000/view/great_expectations/uncommitted/data_docs/local_site/validations/Main/20230302-212447-scraping_all_20230220/20230302T212447.763253Z/565e0e70a3781a19ef552fba61f84a26.html\n"
     ]
    },
    {
     "data": {
      "application/vnd.jupyter.widget-view+json": {
       "model_id": "dfb96549ff5748e19376b2ea11bb95ca",
       "version_major": 2,
       "version_minor": 0
      },
      "text/plain": [
       "Calculating Metrics:   0%|          | 0/240 [00:00<?, ?it/s]"
      ]
     },
     "metadata": {},
     "output_type": "display_data"
    },
    {
     "name": "stdout",
     "output_type": "stream",
     "text": [
      "Consulta i risultati del data_asset_name \"scraping_all_20230221\" al link:\n",
      "http://localhost:9000/view/great_expectations/uncommitted/data_docs/local_site/validations/Main/20230302-212451-scraping_all_20230221/20230302T212451.165640Z/e011940fbbbe0aa7eefeed483ce088c6.html\n"
     ]
    },
    {
     "data": {
      "application/vnd.jupyter.widget-view+json": {
       "model_id": "17d442182f8946e09dd29c5113901e19",
       "version_major": 2,
       "version_minor": 0
      },
      "text/plain": [
       "Calculating Metrics:   0%|          | 0/240 [00:00<?, ?it/s]"
      ]
     },
     "metadata": {},
     "output_type": "display_data"
    },
    {
     "name": "stdout",
     "output_type": "stream",
     "text": [
      "Consulta i risultati del data_asset_name \"scraping_all_20230222\" al link:\n",
      "http://localhost:9000/view/great_expectations/uncommitted/data_docs/local_site/validations/Main/20230302-212454-scraping_all_20230222/20230302T212454.749741Z/3664fb024a69ca338ea65b49c7d539d3.html\n"
     ]
    },
    {
     "data": {
      "application/vnd.jupyter.widget-view+json": {
       "model_id": "e65eb8bc82d34f61a0bd1262ec743966",
       "version_major": 2,
       "version_minor": 0
      },
      "text/plain": [
       "Calculating Metrics:   0%|          | 0/240 [00:00<?, ?it/s]"
      ]
     },
     "metadata": {},
     "output_type": "display_data"
    },
    {
     "name": "stdout",
     "output_type": "stream",
     "text": [
      "Consulta i risultati del data_asset_name \"scraping_all_20230224\" al link:\n",
      "http://localhost:9000/view/great_expectations/uncommitted/data_docs/local_site/validations/Main/20230302-212458-scraping_all_20230224/20230302T212458.275953Z/4d7cdc08e0ee331cce276f99b1b7442b.html\n"
     ]
    },
    {
     "data": {
      "application/vnd.jupyter.widget-view+json": {
       "model_id": "3c51c79b719a4ce694ac10080f07f6f7",
       "version_major": 2,
       "version_minor": 0
      },
      "text/plain": [
       "Calculating Metrics:   0%|          | 0/240 [00:00<?, ?it/s]"
      ]
     },
     "metadata": {},
     "output_type": "display_data"
    },
    {
     "name": "stdout",
     "output_type": "stream",
     "text": [
      "Consulta i risultati del data_asset_name \"scraping_all_20230225\" al link:\n",
      "http://localhost:9000/view/great_expectations/uncommitted/data_docs/local_site/validations/Main/20230302-212502-scraping_all_20230225/20230302T212502.187687Z/44443cc4de44ba37642b43bd85f3a657.html\n"
     ]
    },
    {
     "data": {
      "application/vnd.jupyter.widget-view+json": {
       "model_id": "d37f94687dbf4916ae3bdb2382484770",
       "version_major": 2,
       "version_minor": 0
      },
      "text/plain": [
       "Calculating Metrics:   0%|          | 0/240 [00:00<?, ?it/s]"
      ]
     },
     "metadata": {},
     "output_type": "display_data"
    },
    {
     "name": "stdout",
     "output_type": "stream",
     "text": [
      "Consulta i risultati del data_asset_name \"scraping_all_20230226\" al link:\n",
      "http://localhost:9000/view/great_expectations/uncommitted/data_docs/local_site/validations/Main/20230302-212506-scraping_all_20230226/20230302T212506.297204Z/3734f5237bcc9347478ba28c3ae377b2.html\n"
     ]
    },
    {
     "data": {
      "application/vnd.jupyter.widget-view+json": {
       "model_id": "e2a75109b42e4694a6dda532d6a928e8",
       "version_major": 2,
       "version_minor": 0
      },
      "text/plain": [
       "Calculating Metrics:   0%|          | 0/240 [00:00<?, ?it/s]"
      ]
     },
     "metadata": {},
     "output_type": "display_data"
    },
    {
     "name": "stdout",
     "output_type": "stream",
     "text": [
      "Consulta i risultati del data_asset_name \"scraping_all_20230227\" al link:\n",
      "http://localhost:9000/view/great_expectations/uncommitted/data_docs/local_site/validations/Main/20230302-212510-scraping_all_20230227/20230302T212510.001717Z/6a90907f0867eb7df7eb6ab73d221a00.html\n"
     ]
    },
    {
     "data": {
      "application/vnd.jupyter.widget-view+json": {
       "model_id": "d974d7a91df44a4b9c3d6244244210ce",
       "version_major": 2,
       "version_minor": 0
      },
      "text/plain": [
       "Calculating Metrics:   0%|          | 0/240 [00:00<?, ?it/s]"
      ]
     },
     "metadata": {},
     "output_type": "display_data"
    },
    {
     "name": "stdout",
     "output_type": "stream",
     "text": [
      "Consulta i risultati del data_asset_name \"scraping_all_20230228\" al link:\n",
      "http://localhost:9000/view/great_expectations/uncommitted/data_docs/local_site/validations/Main/20230302-212513-scraping_all_20230228/20230302T212513.845939Z/fbf67c19836929edb6be46e22e84d420.html\n"
     ]
    },
    {
     "data": {
      "application/vnd.jupyter.widget-view+json": {
       "model_id": "5f4b89835ead4e1eb5a6e5c9f21a0e74",
       "version_major": 2,
       "version_minor": 0
      },
      "text/plain": [
       "Calculating Metrics:   0%|          | 0/240 [00:00<?, ?it/s]"
      ]
     },
     "metadata": {},
     "output_type": "display_data"
    },
    {
     "name": "stdout",
     "output_type": "stream",
     "text": [
      "Consulta i risultati del data_asset_name \"scraping_all_20230301\" al link:\n",
      "http://localhost:9000/view/great_expectations/uncommitted/data_docs/local_site/validations/Main/20230302-212517-scraping_all_20230301/20230302T212517.761606Z/29ab79bcc15897ac1099d480a1c3cdc1.html\n"
     ]
    },
    {
     "data": {
      "application/vnd.jupyter.widget-view+json": {
       "model_id": "e860b3fc2def49d998bcca78e372e8db",
       "version_major": 2,
       "version_minor": 0
      },
      "text/plain": [
       "Calculating Metrics:   0%|          | 0/240 [00:00<?, ?it/s]"
      ]
     },
     "metadata": {},
     "output_type": "display_data"
    },
    {
     "name": "stdout",
     "output_type": "stream",
     "text": [
      "Consulta i risultati del data_asset_name \"scraping_all_20230302\" al link:\n",
      "http://localhost:9000/view/great_expectations/uncommitted/data_docs/local_site/validations/Main/20230302-212521-scraping_all_20230302/20230302T212521.767271Z/7887d0883a8a229b88c80fba8e4f2cd7.html\n",
      "Checkpoint aggiornati o aggiunti:\n",
      " ['checkpoint_20230131', 'checkpoint_20230201', 'checkpoint_20230202', 'checkpoint_20230203', 'checkpoint_20230204', 'checkpoint_20230205', 'checkpoint_20230206', 'checkpoint_20230207', 'checkpoint_20230208', 'checkpoint_20230209', 'checkpoint_20230210', 'checkpoint_20230211', 'checkpoint_20230212', 'checkpoint_20230213', 'checkpoint_20230214', 'checkpoint_20230215', 'checkpoint_20230216', 'checkpoint_20230217', 'checkpoint_20230218', 'checkpoint_20230219', 'checkpoint_20230220', 'checkpoint_20230221', 'checkpoint_20230222', 'checkpoint_20230224', 'checkpoint_20230225', 'checkpoint_20230226', 'checkpoint_20230227', 'checkpoint_20230228', 'checkpoint_20230301', 'checkpoint_20230302', 'main_checkpoint']\n"
     ]
    }
   ],
   "source": [
    "run_dataq()"
   ]
  },
  {
   "cell_type": "code",
   "execution_count": null,
   "id": "6cd3ce1e",
   "metadata": {},
   "outputs": [],
   "source": []
  }
 ],
 "metadata": {
  "kernelspec": {
   "display_name": "Python 3 (ipykernel)",
   "language": "python",
   "name": "python3"
  },
  "language_info": {
   "codemirror_mode": {
    "name": "ipython",
    "version": 3
   },
   "file_extension": ".py",
   "mimetype": "text/x-python",
   "name": "python",
   "nbconvert_exporter": "python",
   "pygments_lexer": "ipython3",
   "version": "3.10.9"
  }
 },
 "nbformat": 4,
 "nbformat_minor": 5
}
