{
 "cells": [
  {
   "cell_type": "markdown",
   "id": "cf5c362c",
   "metadata": {},
   "source": [
    "# Data Quality \n",
    "\n",
    "Dopo aver completato la fase di Data Ingestion tramite lo scraping il secondo step è quello di valutare la qualità dei dati raccolti.  \n",
    "Il dataframe studiato presenta 18 colonne. Ogni colonna presenta delle differenze dalle altre e ci si aspetta determinati valori da queste.\n",
    "\n",
    "Dopo aver settato:\n",
    "1. la datasource\n",
    "2. suite e le relative expectations (si rimanda al noteook SuiteSetUp_main)\n",
    "3. creazione del checkpoint e validazione\n",
    "\n",
    "Si condurrà una validazione del sample"
   ]
  },
  {
   "cell_type": "code",
   "execution_count": null,
   "id": "6d6b8547",
   "metadata": {},
   "outputs": [],
   "source": [
    "import great_expectations as gx\n",
    "from ruamel import yaml\n",
    "from great_expectations.data_context.types.resource_identifiers import ExpectationSuiteIdentifier\n",
    "import os\n",
    "import sys\n",
    "sys.path.insert(0, '../funzioni')\n",
    "from funzioni import *"
   ]
  },
  {
   "cell_type": "code",
   "execution_count": null,
   "id": "93e92f5a",
   "metadata": {},
   "outputs": [],
   "source": [
    "context = gx.get_context()"
   ]
  },
  {
   "cell_type": "markdown",
   "id": "8f355df3",
   "metadata": {},
   "source": [
    "### Configurazione della datasource "
   ]
  },
  {
   "cell_type": "code",
   "execution_count": null,
   "id": "da1f776f",
   "metadata": {},
   "outputs": [],
   "source": [
    "datasource_config: dict = {\n",
    "    \"name\": \"glassdoor_scraping\",\n",
    "    \"class_name\": \"Datasource\",\n",
    "    \"module_name\": \"great_expectations.datasource\",\n",
    "    \"execution_engine\": {\n",
    "        \"class_name\": \"PandasExecutionEngine\",\n",
    "        \"module_name\": \"great_expectations.execution_engine\",\n",
    "    },\n",
    "     \"data_connectors\": {\n",
    "        \"all\": {\n",
    "            \"class_name\": \"InferredAssetFilesystemDataConnector\",\n",
    "            \"base_directory\": \"../data\",\n",
    "            \"default_regex\": {\"pattern\": \"(.*)\\\\.csv\",\n",
    "            \"group_names\": [\"data_asset_name\"]},\n",
    "            #\"batch_spec_passthrough\": {\n",
    "            #    \"reader_method\": \"read_csv\",\n",
    "            #    \"reader_options\": {\n",
    "            #        \"header\": True,\n",
    "            #        \"inferSchema\": True,\n",
    "            #    },\n",
    "            #},\n",
    "        }\n",
    "    },\n",
    "}"
   ]
  },
  {
   "cell_type": "code",
   "execution_count": null,
   "id": "bc8b964c",
   "metadata": {},
   "outputs": [],
   "source": [
    "#check configurazione\n",
    "context.test_yaml_config(yaml.dump(datasource_config))"
   ]
  },
  {
   "cell_type": "code",
   "execution_count": null,
   "id": "afcfc0fb",
   "metadata": {},
   "outputs": [],
   "source": [
    "## try to add\n",
    "try:\n",
    "    context.get_datasource(datasource_config[\"name\"])\n",
    "except ValueError:\n",
    "    context.add_datasource(**datasource_config)\n",
    "else:\n",
    "    print(\n",
    "        f\"The datasource {datasource_config['name']} already exists in your Data Context!\"\n",
    "    )"
   ]
  },
  {
   "cell_type": "markdown",
   "id": "7734d851",
   "metadata": {},
   "source": [
    "### Indicazione delle suite\n",
    "\n",
    "Si rimanda al noteook SuiteSetUp_main per eventuali modifiche della stessa"
   ]
  },
  {
   "cell_type": "code",
   "execution_count": null,
   "id": "992eeea2",
   "metadata": {},
   "outputs": [],
   "source": [
    "a = context.list_expectation_suite_names()\n",
    "suite_identifier = ExpectationSuiteIdentifier(expectation_suite_name=a[0])\n",
    "context.build_data_docs(resource_identifiers=[suite_identifier])\n",
    "context.open_data_docs(resource_identifier=suite_identifier)\n",
    "print('http://localhost:9000/view/great_expectations/uncommitted/data_docs/local_site/expectations/'+ a[0] +'.html')"
   ]
  },
  {
   "cell_type": "markdown",
   "id": "dbf1452b",
   "metadata": {},
   "source": [
    "### Creazione del checkpoint e validazione"
   ]
  },
  {
   "cell_type": "markdown",
   "id": "f83de8c8",
   "metadata": {},
   "source": [
    "E' stata creata una funzione che prendendo come input il data-asset (sotto gruppo della data-source) crerà per ogni data-asset un checkpoint.\n",
    "Poiché ogni data-asset corrisponde al giorno in cui è stato lanciato il processo di data-ingestion verrà creato un checkpoint per ogni giorno in cui appunto ha girato il processo di data-ingestion\n",
    "\n",
    "Per le funzioni si rimanda alla percorso `../funzioni/funzioni.py`.\n",
    "Per ogni validazione del checkpoint saranno disponibili i risultati in formato HTML"
   ]
  },
  {
   "cell_type": "code",
   "execution_count": null,
   "id": "74108e2c",
   "metadata": {
    "scrolled": false
   },
   "outputs": [],
   "source": [
    "run_dataq()"
   ]
  },
  {
   "cell_type": "code",
   "execution_count": null,
   "id": "6cd3ce1e",
   "metadata": {},
   "outputs": [],
   "source": []
  }
 ],
 "metadata": {
  "kernelspec": {
   "display_name": "Python 3 (ipykernel)",
   "language": "python",
   "name": "python3"
  },
  "language_info": {
   "codemirror_mode": {
    "name": "ipython",
    "version": 3
   },
   "file_extension": ".py",
   "mimetype": "text/x-python",
   "name": "python",
   "nbconvert_exporter": "python",
   "pygments_lexer": "ipython3",
   "version": "3.10.9"
  }
 },
 "nbformat": 4,
 "nbformat_minor": 5
}
