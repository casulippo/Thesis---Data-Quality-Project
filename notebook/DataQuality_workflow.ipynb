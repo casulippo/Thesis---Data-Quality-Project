{
 "cells": [
  {
   "cell_type": "markdown",
   "id": "cf5c362c",
   "metadata": {},
   "source": [
    "# Data Quality \n",
    "\n",
    "Dopo aver completato la fase di Data Ingestion tramite lo scraping il secondo step è quello di valutare la qualità dei dati raccolti.  \n",
    "Il dataframe studiato presenta 18 colonne. Ogni colonna presenta delle differenze dalle altre e ci si aspetta determinati valori da queste.\n",
    "\n",
    "Dopo aver settato:\n",
    "1. la datasource\n",
    "2. suite e le relative expectations (si rimanda al noteook SuiteSetUp_main)\n",
    "3. creazione del checkpoint e validazione\n",
    "\n",
    "Si condurrà una validazione del sample"
   ]
  },
  {
   "cell_type": "code",
   "execution_count": 13,
   "id": "6d6b8547",
   "metadata": {},
   "outputs": [],
   "source": [
    "import great_expectations as gx\n",
    "from ruamel import yaml\n",
    "from great_expectations.data_context.types.resource_identifiers import ExpectationSuiteIdentifier\n",
    "import os\n",
    "import sys\n",
    "sys.path.insert(0, '../funzioni')\n",
    "from funzioni import *"
   ]
  },
  {
   "cell_type": "code",
   "execution_count": 2,
   "id": "93e92f5a",
   "metadata": {},
   "outputs": [],
   "source": [
    "context = gx.get_context()"
   ]
  },
  {
   "cell_type": "markdown",
   "id": "8f355df3",
   "metadata": {},
   "source": [
    "### Configurazione della datasource "
   ]
  },
  {
   "cell_type": "code",
   "execution_count": 3,
   "id": "da1f776f",
   "metadata": {},
   "outputs": [],
   "source": [
    "datasource_config: dict = {\n",
    "    \"name\": \"glassdoor_scraping\",\n",
    "    \"class_name\": \"Datasource\",\n",
    "    \"module_name\": \"great_expectations.datasource\",\n",
    "    \"execution_engine\": {\n",
    "        \"class_name\": \"PandasExecutionEngine\",\n",
    "        \"module_name\": \"great_expectations.execution_engine\",\n",
    "    },\n",
    "     \"data_connectors\": {\n",
    "        \"all\": {\n",
    "            \"class_name\": \"InferredAssetFilesystemDataConnector\",\n",
    "            \"base_directory\": \"../data\",\n",
    "            \"default_regex\": {\"pattern\": \"(.*)\\\\.csv\",\n",
    "            \"group_names\": [\"data_asset_name\"]},\n",
    "            #\"batch_spec_passthrough\": {\n",
    "            #    \"reader_method\": \"read_csv\",\n",
    "            #    \"reader_options\": {\n",
    "            #        \"header\": True,\n",
    "            #        \"inferSchema\": True,\n",
    "            #    },\n",
    "            #},\n",
    "        }\n",
    "    },\n",
    "}"
   ]
  },
  {
   "cell_type": "code",
   "execution_count": 4,
   "id": "bc8b964c",
   "metadata": {},
   "outputs": [
    {
     "name": "stdout",
     "output_type": "stream",
     "text": [
      "Attempting to instantiate class from config...\n",
      "\tInstantiating as a Datasource, since class_name is Datasource\n",
      "\tSuccessfully instantiated Datasource\n",
      "\n",
      "\n",
      "ExecutionEngine class name: PandasExecutionEngine\n",
      "Data Connectors:\n",
      "\tall : InferredAssetFilesystemDataConnector\n",
      "\n",
      "\tAvailable data_asset_names (3 of 30):\n",
      "\t\tcompany_overview (1 of 1): ['company_overview.csv']\n",
      "\t\tscraping_all_20230131 (1 of 1): ['scraping_all_20230131.csv']\n",
      "\t\tscraping_all_20230201 (1 of 1): ['scraping_all_20230201.csv']\n",
      "\n",
      "\tUnmatched data_references (1 of 1):['jobs']\n",
      "\n"
     ]
    },
    {
     "data": {
      "text/plain": [
       "<great_expectations.datasource.new_datasource.Datasource at 0x7f451310bfd0>"
      ]
     },
     "execution_count": 4,
     "metadata": {},
     "output_type": "execute_result"
    }
   ],
   "source": [
    "#check configurazione\n",
    "context.test_yaml_config(yaml.dump(datasource_config))"
   ]
  },
  {
   "cell_type": "code",
   "execution_count": null,
   "id": "afcfc0fb",
   "metadata": {},
   "outputs": [],
   "source": [
    "## try to add\n",
    "try:\n",
    "    context.get_datasource(datasource_config[\"name\"])\n",
    "except ValueError:\n",
    "    context.add_datasource(**datasource_config)\n",
    "else:\n",
    "    print(\n",
    "        f\"The datasource {datasource_config['name']} already exists in your Data Context!\"\n",
    "    )"
   ]
  },
  {
   "cell_type": "markdown",
   "id": "7734d851",
   "metadata": {},
   "source": [
    "### Indicazione delle suite\n",
    "\n",
    "Si rimanda al noteook SuiteSetUp_main per eventuali modifiche della stessa"
   ]
  },
  {
   "cell_type": "code",
   "execution_count": 12,
   "id": "992eeea2",
   "metadata": {},
   "outputs": [
    {
     "name": "stdout",
     "output_type": "stream",
     "text": [
      "http://localhost:9000/view/great_expectations/uncommitted/data_docs/local_site/expectations/Main.html\n"
     ]
    }
   ],
   "source": [
    "a = context.list_expectation_suite_names()\n",
    "suite_identifier = ExpectationSuiteIdentifier(expectation_suite_name=a[0])\n",
    "context.build_data_docs(resource_identifiers=[suite_identifier])\n",
    "context.open_data_docs(resource_identifier=suite_identifier)\n",
    "print('http://localhost:9000/view/great_expectations/uncommitted/data_docs/local_site/expectations/'+ a[0] +'.html')"
   ]
  },
  {
   "cell_type": "markdown",
   "id": "dbf1452b",
   "metadata": {},
   "source": [
    "### Creazione del checkpoint e validazione"
   ]
  },
  {
   "cell_type": "markdown",
   "id": "f83de8c8",
   "metadata": {},
   "source": [
    "E' stata creata una funzione che prendendo come input il data-asset (sotto gruppo della data-source) crerà per ogni data-asset un checkpoint.\n",
    "Poiché ogni data-asset corrisponde al giorno in cui è stato lanciato il processo di data-ingestion verrà creato un checkpoint per ogni giorno in cui appunto ha girato il processo di data-ingestion\n",
    "\n",
    "Per le funzioni si rimanda alla percorso `../funzioni/funzioni.py`.\n",
    "Per ogni validazione del checkpoint saranno disponibili i risultati in formato HTML"
   ]
  },
  {
   "cell_type": "code",
   "execution_count": 14,
   "id": "74108e2c",
   "metadata": {
    "scrolled": false
   },
   "outputs": [
    {
     "name": "stdout",
     "output_type": "stream",
     "text": [
      "Questa la documentazione sulla suite: Main \n",
      " http://localhost:9000/view/great_expectations/uncommitted/data_docs/local_site/expectations/Main.html\n"
     ]
    },
    {
     "data": {
      "application/vnd.jupyter.widget-view+json": {
       "model_id": "44c72aef9829436eae316a0638b13f56",
       "version_major": 2,
       "version_minor": 0
      },
      "text/plain": [
       "Calculating Metrics:   0%|          | 0/240 [00:00<?, ?it/s]"
      ]
     },
     "metadata": {},
     "output_type": "display_data"
    },
    {
     "name": "stdout",
     "output_type": "stream",
     "text": [
      "Consulta i risultati del data_asset_name \"scraping_all_20230131\" al link:\n",
      "http://localhost:9000/view/great_expectations/uncommitted/data_docs/local_site/validations/Main/20230301-121253-scraping_all_20230131/20230301T121253.330414Z/a8c2603936f08f68234cfeb52d848e66.html\n"
     ]
    },
    {
     "data": {
      "application/vnd.jupyter.widget-view+json": {
       "model_id": "fe03675c28da45428b0c8d5270833a3d",
       "version_major": 2,
       "version_minor": 0
      },
      "text/plain": [
       "Calculating Metrics:   0%|          | 0/240 [00:00<?, ?it/s]"
      ]
     },
     "metadata": {},
     "output_type": "display_data"
    },
    {
     "name": "stdout",
     "output_type": "stream",
     "text": [
      "Consulta i risultati del data_asset_name \"scraping_all_20230201\" al link:\n",
      "http://localhost:9000/view/great_expectations/uncommitted/data_docs/local_site/validations/Main/20230301-121257-scraping_all_20230201/20230301T121257.269391Z/6846293c9834bd8f9f0498067de4cc79.html\n"
     ]
    },
    {
     "data": {
      "application/vnd.jupyter.widget-view+json": {
       "model_id": "820eca85317a4a04bf6bb3633bef66e4",
       "version_major": 2,
       "version_minor": 0
      },
      "text/plain": [
       "Calculating Metrics:   0%|          | 0/240 [00:00<?, ?it/s]"
      ]
     },
     "metadata": {},
     "output_type": "display_data"
    },
    {
     "name": "stdout",
     "output_type": "stream",
     "text": [
      "Consulta i risultati del data_asset_name \"scraping_all_20230202\" al link:\n",
      "http://localhost:9000/view/great_expectations/uncommitted/data_docs/local_site/validations/Main/20230301-121301-scraping_all_20230202/20230301T121301.044052Z/5e8fcbd3a476b02c69e7086e74c19643.html\n"
     ]
    },
    {
     "data": {
      "application/vnd.jupyter.widget-view+json": {
       "model_id": "cdfc325fe74e4a41918e287151af96ad",
       "version_major": 2,
       "version_minor": 0
      },
      "text/plain": [
       "Calculating Metrics:   0%|          | 0/240 [00:00<?, ?it/s]"
      ]
     },
     "metadata": {},
     "output_type": "display_data"
    },
    {
     "name": "stdout",
     "output_type": "stream",
     "text": [
      "Consulta i risultati del data_asset_name \"scraping_all_20230203\" al link:\n",
      "http://localhost:9000/view/great_expectations/uncommitted/data_docs/local_site/validations/Main/20230301-121304-scraping_all_20230203/20230301T121304.959164Z/b99595ff62aa1b77109a89d80ca06516.html\n"
     ]
    },
    {
     "data": {
      "application/vnd.jupyter.widget-view+json": {
       "model_id": "5fabbb4b7478409fa0beb2a757139b0b",
       "version_major": 2,
       "version_minor": 0
      },
      "text/plain": [
       "Calculating Metrics:   0%|          | 0/240 [00:00<?, ?it/s]"
      ]
     },
     "metadata": {},
     "output_type": "display_data"
    },
    {
     "name": "stdout",
     "output_type": "stream",
     "text": [
      "Consulta i risultati del data_asset_name \"scraping_all_20230204\" al link:\n",
      "http://localhost:9000/view/great_expectations/uncommitted/data_docs/local_site/validations/Main/20230301-121308-scraping_all_20230204/20230301T121308.984578Z/60a12e85b58c629662f9400945fff6c4.html\n"
     ]
    },
    {
     "data": {
      "application/vnd.jupyter.widget-view+json": {
       "model_id": "648138315e4745088a43dcc17b002a01",
       "version_major": 2,
       "version_minor": 0
      },
      "text/plain": [
       "Calculating Metrics:   0%|          | 0/240 [00:00<?, ?it/s]"
      ]
     },
     "metadata": {},
     "output_type": "display_data"
    },
    {
     "name": "stdout",
     "output_type": "stream",
     "text": [
      "Consulta i risultati del data_asset_name \"scraping_all_20230205\" al link:\n",
      "http://localhost:9000/view/great_expectations/uncommitted/data_docs/local_site/validations/Main/20230301-121313-scraping_all_20230205/20230301T121313.116252Z/359a3b77c11be2dce60e82e0630966f5.html\n"
     ]
    },
    {
     "data": {
      "application/vnd.jupyter.widget-view+json": {
       "model_id": "d073a428a0bb40b9a8380e6d4c81fe1c",
       "version_major": 2,
       "version_minor": 0
      },
      "text/plain": [
       "Calculating Metrics:   0%|          | 0/240 [00:00<?, ?it/s]"
      ]
     },
     "metadata": {},
     "output_type": "display_data"
    },
    {
     "name": "stdout",
     "output_type": "stream",
     "text": [
      "Consulta i risultati del data_asset_name \"scraping_all_20230206\" al link:\n",
      "http://localhost:9000/view/great_expectations/uncommitted/data_docs/local_site/validations/Main/20230301-121317-scraping_all_20230206/20230301T121317.257335Z/a73990dd45cb2af530da3ccffa2149bf.html\n"
     ]
    },
    {
     "data": {
      "application/vnd.jupyter.widget-view+json": {
       "model_id": "ee823becab234444a3455bc525cab8cb",
       "version_major": 2,
       "version_minor": 0
      },
      "text/plain": [
       "Calculating Metrics:   0%|          | 0/240 [00:00<?, ?it/s]"
      ]
     },
     "metadata": {},
     "output_type": "display_data"
    },
    {
     "name": "stdout",
     "output_type": "stream",
     "text": [
      "Consulta i risultati del data_asset_name \"scraping_all_20230207\" al link:\n",
      "http://localhost:9000/view/great_expectations/uncommitted/data_docs/local_site/validations/Main/20230301-121321-scraping_all_20230207/20230301T121321.445978Z/57debcbab72ee490bf5b0cc7c6214d73.html\n"
     ]
    },
    {
     "data": {
      "application/vnd.jupyter.widget-view+json": {
       "model_id": "dc879d63c7714653804cd2eaff8deddc",
       "version_major": 2,
       "version_minor": 0
      },
      "text/plain": [
       "Calculating Metrics:   0%|          | 0/240 [00:00<?, ?it/s]"
      ]
     },
     "metadata": {},
     "output_type": "display_data"
    },
    {
     "name": "stdout",
     "output_type": "stream",
     "text": [
      "Consulta i risultati del data_asset_name \"scraping_all_20230208\" al link:\n",
      "http://localhost:9000/view/great_expectations/uncommitted/data_docs/local_site/validations/Main/20230301-121325-scraping_all_20230208/20230301T121325.817822Z/8b5a58ecdfc8f3f2ce58991ab4e96bd6.html\n"
     ]
    },
    {
     "data": {
      "application/vnd.jupyter.widget-view+json": {
       "model_id": "c563194289644caaadf5fa5c4e3e215c",
       "version_major": 2,
       "version_minor": 0
      },
      "text/plain": [
       "Calculating Metrics:   0%|          | 0/240 [00:00<?, ?it/s]"
      ]
     },
     "metadata": {},
     "output_type": "display_data"
    },
    {
     "name": "stdout",
     "output_type": "stream",
     "text": [
      "Consulta i risultati del data_asset_name \"scraping_all_20230209\" al link:\n",
      "http://localhost:9000/view/great_expectations/uncommitted/data_docs/local_site/validations/Main/20230301-121330-scraping_all_20230209/20230301T121330.086541Z/c062ff09b524767dc467d1c23598650b.html\n"
     ]
    },
    {
     "data": {
      "application/vnd.jupyter.widget-view+json": {
       "model_id": "a71cf69524214ab88336c91d34030b52",
       "version_major": 2,
       "version_minor": 0
      },
      "text/plain": [
       "Calculating Metrics:   0%|          | 0/240 [00:00<?, ?it/s]"
      ]
     },
     "metadata": {},
     "output_type": "display_data"
    },
    {
     "name": "stdout",
     "output_type": "stream",
     "text": [
      "Consulta i risultati del data_asset_name \"scraping_all_20230210\" al link:\n",
      "http://localhost:9000/view/great_expectations/uncommitted/data_docs/local_site/validations/Main/20230301-121334-scraping_all_20230210/20230301T121334.362230Z/8f2773112761e97a56da86f97ca2bfad.html\n"
     ]
    },
    {
     "data": {
      "application/vnd.jupyter.widget-view+json": {
       "model_id": "be6a3d425d854f63abd4303412bd97cc",
       "version_major": 2,
       "version_minor": 0
      },
      "text/plain": [
       "Calculating Metrics:   0%|          | 0/240 [00:00<?, ?it/s]"
      ]
     },
     "metadata": {},
     "output_type": "display_data"
    },
    {
     "name": "stdout",
     "output_type": "stream",
     "text": [
      "Consulta i risultati del data_asset_name \"scraping_all_20230211\" al link:\n",
      "http://localhost:9000/view/great_expectations/uncommitted/data_docs/local_site/validations/Main/20230301-121338-scraping_all_20230211/20230301T121338.858758Z/fed9054f53dd4148b28cdff1a265776d.html\n"
     ]
    },
    {
     "data": {
      "application/vnd.jupyter.widget-view+json": {
       "model_id": "b21e671f19ee48b483ece028008d428f",
       "version_major": 2,
       "version_minor": 0
      },
      "text/plain": [
       "Calculating Metrics:   0%|          | 0/240 [00:00<?, ?it/s]"
      ]
     },
     "metadata": {},
     "output_type": "display_data"
    },
    {
     "name": "stdout",
     "output_type": "stream",
     "text": [
      "Consulta i risultati del data_asset_name \"scraping_all_20230212\" al link:\n",
      "http://localhost:9000/view/great_expectations/uncommitted/data_docs/local_site/validations/Main/20230301-121343-scraping_all_20230212/20230301T121343.772258Z/4e90ae4b9334a6ab6e7f72dc32d27f65.html\n"
     ]
    },
    {
     "data": {
      "application/vnd.jupyter.widget-view+json": {
       "model_id": "2dec2cea1f184a65b7b99c598dbfee62",
       "version_major": 2,
       "version_minor": 0
      },
      "text/plain": [
       "Calculating Metrics:   0%|          | 0/240 [00:00<?, ?it/s]"
      ]
     },
     "metadata": {},
     "output_type": "display_data"
    },
    {
     "name": "stdout",
     "output_type": "stream",
     "text": [
      "Consulta i risultati del data_asset_name \"scraping_all_20230213\" al link:\n",
      "http://localhost:9000/view/great_expectations/uncommitted/data_docs/local_site/validations/Main/20230301-121348-scraping_all_20230213/20230301T121348.751237Z/a835edef57833302c353e9e1d06fbd82.html\n"
     ]
    },
    {
     "data": {
      "application/vnd.jupyter.widget-view+json": {
       "model_id": "7db1adb960de443db9296e7730f51f98",
       "version_major": 2,
       "version_minor": 0
      },
      "text/plain": [
       "Calculating Metrics:   0%|          | 0/240 [00:00<?, ?it/s]"
      ]
     },
     "metadata": {},
     "output_type": "display_data"
    },
    {
     "name": "stdout",
     "output_type": "stream",
     "text": [
      "Consulta i risultati del data_asset_name \"scraping_all_20230214\" al link:\n",
      "http://localhost:9000/view/great_expectations/uncommitted/data_docs/local_site/validations/Main/20230301-121353-scraping_all_20230214/20230301T121353.623452Z/b04c43667dd9ad7593259992ace3ed41.html\n"
     ]
    },
    {
     "data": {
      "application/vnd.jupyter.widget-view+json": {
       "model_id": "99e6d2533f8b421486a22ca5c23499c1",
       "version_major": 2,
       "version_minor": 0
      },
      "text/plain": [
       "Calculating Metrics:   0%|          | 0/240 [00:00<?, ?it/s]"
      ]
     },
     "metadata": {},
     "output_type": "display_data"
    },
    {
     "name": "stdout",
     "output_type": "stream",
     "text": [
      "Consulta i risultati del data_asset_name \"scraping_all_20230215\" al link:\n",
      "http://localhost:9000/view/great_expectations/uncommitted/data_docs/local_site/validations/Main/20230301-121358-scraping_all_20230215/20230301T121358.404775Z/1c201e09ae18cc7a05cf80b5766dd557.html\n"
     ]
    },
    {
     "data": {
      "application/vnd.jupyter.widget-view+json": {
       "model_id": "1a8386cd8e8042b0800e15c180e5a440",
       "version_major": 2,
       "version_minor": 0
      },
      "text/plain": [
       "Calculating Metrics:   0%|          | 0/240 [00:00<?, ?it/s]"
      ]
     },
     "metadata": {},
     "output_type": "display_data"
    },
    {
     "name": "stdout",
     "output_type": "stream",
     "text": [
      "Consulta i risultati del data_asset_name \"scraping_all_20230216\" al link:\n",
      "http://localhost:9000/view/great_expectations/uncommitted/data_docs/local_site/validations/Main/20230301-121403-scraping_all_20230216/20230301T121403.502179Z/c4e91d3d0445ea05aa5a84cca138ff6f.html\n"
     ]
    },
    {
     "data": {
      "application/vnd.jupyter.widget-view+json": {
       "model_id": "e4212410063740bf8618f26237405b41",
       "version_major": 2,
       "version_minor": 0
      },
      "text/plain": [
       "Calculating Metrics:   0%|          | 0/240 [00:00<?, ?it/s]"
      ]
     },
     "metadata": {},
     "output_type": "display_data"
    },
    {
     "name": "stdout",
     "output_type": "stream",
     "text": [
      "Consulta i risultati del data_asset_name \"scraping_all_20230217\" al link:\n",
      "http://localhost:9000/view/great_expectations/uncommitted/data_docs/local_site/validations/Main/20230301-121408-scraping_all_20230217/20230301T121408.469436Z/3efa08eb01bba7de1266fd8bb26c5cf3.html\n"
     ]
    },
    {
     "data": {
      "application/vnd.jupyter.widget-view+json": {
       "model_id": "ba868be277374c6b9a64784c2ef561d3",
       "version_major": 2,
       "version_minor": 0
      },
      "text/plain": [
       "Calculating Metrics:   0%|          | 0/240 [00:00<?, ?it/s]"
      ]
     },
     "metadata": {},
     "output_type": "display_data"
    },
    {
     "name": "stdout",
     "output_type": "stream",
     "text": [
      "Consulta i risultati del data_asset_name \"scraping_all_20230218\" al link:\n",
      "http://localhost:9000/view/great_expectations/uncommitted/data_docs/local_site/validations/Main/20230301-121413-scraping_all_20230218/20230301T121413.492118Z/0793b2276f717bcfe6adfb106b5137ef.html\n"
     ]
    },
    {
     "data": {
      "application/vnd.jupyter.widget-view+json": {
       "model_id": "0b2d1b91d60b444ebd0b0000ec0c8df2",
       "version_major": 2,
       "version_minor": 0
      },
      "text/plain": [
       "Calculating Metrics:   0%|          | 0/240 [00:00<?, ?it/s]"
      ]
     },
     "metadata": {},
     "output_type": "display_data"
    },
    {
     "name": "stdout",
     "output_type": "stream",
     "text": [
      "Consulta i risultati del data_asset_name \"scraping_all_20230219\" al link:\n",
      "http://localhost:9000/view/great_expectations/uncommitted/data_docs/local_site/validations/Main/20230301-121418-scraping_all_20230219/20230301T121418.910503Z/e9bd252c14835612b1e4ae4a3ac712c0.html\n"
     ]
    },
    {
     "data": {
      "application/vnd.jupyter.widget-view+json": {
       "model_id": "83647fa756bd46c98df64153a67db4a9",
       "version_major": 2,
       "version_minor": 0
      },
      "text/plain": [
       "Calculating Metrics:   0%|          | 0/240 [00:00<?, ?it/s]"
      ]
     },
     "metadata": {},
     "output_type": "display_data"
    },
    {
     "name": "stdout",
     "output_type": "stream",
     "text": [
      "Consulta i risultati del data_asset_name \"scraping_all_20230220\" al link:\n",
      "http://localhost:9000/view/great_expectations/uncommitted/data_docs/local_site/validations/Main/20230301-121424-scraping_all_20230220/20230301T121424.173623Z/565e0e70a3781a19ef552fba61f84a26.html\n"
     ]
    },
    {
     "data": {
      "application/vnd.jupyter.widget-view+json": {
       "model_id": "96fad749b1194edc9d40c8c63f0c8861",
       "version_major": 2,
       "version_minor": 0
      },
      "text/plain": [
       "Calculating Metrics:   0%|          | 0/240 [00:00<?, ?it/s]"
      ]
     },
     "metadata": {},
     "output_type": "display_data"
    },
    {
     "name": "stdout",
     "output_type": "stream",
     "text": [
      "Consulta i risultati del data_asset_name \"scraping_all_20230221\" al link:\n",
      "http://localhost:9000/view/great_expectations/uncommitted/data_docs/local_site/validations/Main/20230301-121429-scraping_all_20230221/20230301T121429.397971Z/e011940fbbbe0aa7eefeed483ce088c6.html\n"
     ]
    },
    {
     "data": {
      "application/vnd.jupyter.widget-view+json": {
       "model_id": "839045ba0a474dc5ab0070d2c0983ab3",
       "version_major": 2,
       "version_minor": 0
      },
      "text/plain": [
       "Calculating Metrics:   0%|          | 0/240 [00:00<?, ?it/s]"
      ]
     },
     "metadata": {},
     "output_type": "display_data"
    },
    {
     "name": "stdout",
     "output_type": "stream",
     "text": [
      "Consulta i risultati del data_asset_name \"scraping_all_20230222\" al link:\n",
      "http://localhost:9000/view/great_expectations/uncommitted/data_docs/local_site/validations/Main/20230301-121434-scraping_all_20230222/20230301T121434.575365Z/3664fb024a69ca338ea65b49c7d539d3.html\n"
     ]
    },
    {
     "data": {
      "application/vnd.jupyter.widget-view+json": {
       "model_id": "11b09a0c10a142729be4948a791a3614",
       "version_major": 2,
       "version_minor": 0
      },
      "text/plain": [
       "Calculating Metrics:   0%|          | 0/240 [00:00<?, ?it/s]"
      ]
     },
     "metadata": {},
     "output_type": "display_data"
    },
    {
     "name": "stdout",
     "output_type": "stream",
     "text": [
      "Consulta i risultati del data_asset_name \"scraping_all_20230224\" al link:\n",
      "http://localhost:9000/view/great_expectations/uncommitted/data_docs/local_site/validations/Main/20230301-121440-scraping_all_20230224/20230301T121440.168506Z/4d7cdc08e0ee331cce276f99b1b7442b.html\n"
     ]
    },
    {
     "data": {
      "application/vnd.jupyter.widget-view+json": {
       "model_id": "2c73fe1330ed43849c45ca8ce3359cde",
       "version_major": 2,
       "version_minor": 0
      },
      "text/plain": [
       "Calculating Metrics:   0%|          | 0/240 [00:00<?, ?it/s]"
      ]
     },
     "metadata": {},
     "output_type": "display_data"
    },
    {
     "name": "stdout",
     "output_type": "stream",
     "text": [
      "Consulta i risultati del data_asset_name \"scraping_all_20230225\" al link:\n",
      "http://localhost:9000/view/great_expectations/uncommitted/data_docs/local_site/validations/Main/20230301-121445-scraping_all_20230225/20230301T121445.863330Z/44443cc4de44ba37642b43bd85f3a657.html\n"
     ]
    },
    {
     "data": {
      "application/vnd.jupyter.widget-view+json": {
       "model_id": "945b2451c3f4437e94302f9b4d3245a3",
       "version_major": 2,
       "version_minor": 0
      },
      "text/plain": [
       "Calculating Metrics:   0%|          | 0/240 [00:00<?, ?it/s]"
      ]
     },
     "metadata": {},
     "output_type": "display_data"
    },
    {
     "name": "stdout",
     "output_type": "stream",
     "text": [
      "Consulta i risultati del data_asset_name \"scraping_all_20230226\" al link:\n",
      "http://localhost:9000/view/great_expectations/uncommitted/data_docs/local_site/validations/Main/20230301-121451-scraping_all_20230226/20230301T121451.233040Z/3734f5237bcc9347478ba28c3ae377b2.html\n"
     ]
    },
    {
     "data": {
      "application/vnd.jupyter.widget-view+json": {
       "model_id": "d0bc11c608b6478da6c77295f531d9fe",
       "version_major": 2,
       "version_minor": 0
      },
      "text/plain": [
       "Calculating Metrics:   0%|          | 0/240 [00:00<?, ?it/s]"
      ]
     },
     "metadata": {},
     "output_type": "display_data"
    },
    {
     "name": "stdout",
     "output_type": "stream",
     "text": [
      "Consulta i risultati del data_asset_name \"scraping_all_20230227\" al link:\n",
      "http://localhost:9000/view/great_expectations/uncommitted/data_docs/local_site/validations/Main/20230301-121456-scraping_all_20230227/20230301T121456.760728Z/6a90907f0867eb7df7eb6ab73d221a00.html\n"
     ]
    },
    {
     "data": {
      "application/vnd.jupyter.widget-view+json": {
       "model_id": "9aef52ea502a4ceabefc0dd6ff118bb9",
       "version_major": 2,
       "version_minor": 0
      },
      "text/plain": [
       "Calculating Metrics:   0%|          | 0/240 [00:00<?, ?it/s]"
      ]
     },
     "metadata": {},
     "output_type": "display_data"
    },
    {
     "name": "stdout",
     "output_type": "stream",
     "text": [
      "Consulta i risultati del data_asset_name \"scraping_all_20230228\" al link:\n",
      "http://localhost:9000/view/great_expectations/uncommitted/data_docs/local_site/validations/Main/20230301-121502-scraping_all_20230228/20230301T121502.587903Z/fbf67c19836929edb6be46e22e84d420.html\n"
     ]
    },
    {
     "data": {
      "application/vnd.jupyter.widget-view+json": {
       "model_id": "143ea71b41984cba9dd88ea81d92c7a3",
       "version_major": 2,
       "version_minor": 0
      },
      "text/plain": [
       "Calculating Metrics:   0%|          | 0/240 [00:00<?, ?it/s]"
      ]
     },
     "metadata": {},
     "output_type": "display_data"
    },
    {
     "name": "stdout",
     "output_type": "stream",
     "text": [
      "Consulta i risultati del data_asset_name \"scraping_all_20230301\" al link:\n",
      "http://localhost:9000/view/great_expectations/uncommitted/data_docs/local_site/validations/Main/20230301-121508-scraping_all_20230301/20230301T121508.078576Z/29ab79bcc15897ac1099d480a1c3cdc1.html\n",
      "Checkpoint aggiornati o aggiunti:\n",
      " ['checkpoint_20230131', 'checkpoint_20230201', 'checkpoint_20230202', 'checkpoint_20230203', 'checkpoint_20230204', 'checkpoint_20230205', 'checkpoint_20230206', 'checkpoint_20230207', 'checkpoint_20230208', 'checkpoint_20230209', 'checkpoint_20230210', 'checkpoint_20230211', 'checkpoint_20230212', 'checkpoint_20230213', 'checkpoint_20230214', 'checkpoint_20230215', 'checkpoint_20230216', 'checkpoint_20230217', 'checkpoint_20230218', 'checkpoint_20230219', 'checkpoint_20230220', 'checkpoint_20230221', 'checkpoint_20230222', 'checkpoint_20230224', 'checkpoint_20230225', 'checkpoint_20230226', 'checkpoint_20230227', 'checkpoint_20230228', 'checkpoint_20230301', 'main_checkpoint']\n"
     ]
    }
   ],
   "source": [
    "run_dataq()"
   ]
  },
  {
   "cell_type": "code",
   "execution_count": null,
   "id": "6cd3ce1e",
   "metadata": {},
   "outputs": [],
   "source": []
  }
 ],
 "metadata": {
  "kernelspec": {
   "display_name": "Python 3 (ipykernel)",
   "language": "python",
   "name": "python3"
  },
  "language_info": {
   "codemirror_mode": {
    "name": "ipython",
    "version": 3
   },
   "file_extension": ".py",
   "mimetype": "text/x-python",
   "name": "python",
   "nbconvert_exporter": "python",
   "pygments_lexer": "ipython3",
   "version": "3.10.9"
  }
 },
 "nbformat": 4,
 "nbformat_minor": 5
}
