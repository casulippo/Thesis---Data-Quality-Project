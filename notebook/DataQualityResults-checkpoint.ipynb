{
 "cells": [
  {
   "cell_type": "code",
   "execution_count": 1,
   "id": "03b4d822",
   "metadata": {},
   "outputs": [
    {
     "ename": "ModuleNotFoundError",
     "evalue": "No module named 'funzioni'",
     "output_type": "error",
     "traceback": [
      "\u001b[0;31m---------------------------------------------------------------------------\u001b[0m",
      "\u001b[0;31mModuleNotFoundError\u001b[0m                       Traceback (most recent call last)",
      "Cell \u001b[0;32mIn[1], line 4\u001b[0m\n\u001b[1;32m      2\u001b[0m \u001b[38;5;28;01mimport\u001b[39;00m \u001b[38;5;21;01msys\u001b[39;00m\n\u001b[1;32m      3\u001b[0m sys\u001b[38;5;241m.\u001b[39mpath\u001b[38;5;241m.\u001b[39minsert(\u001b[38;5;241m0\u001b[39m, \u001b[38;5;124m'\u001b[39m\u001b[38;5;124m../funzioni\u001b[39m\u001b[38;5;124m'\u001b[39m)\n\u001b[0;32m----> 4\u001b[0m \u001b[38;5;28;01mfrom\u001b[39;00m \u001b[38;5;21;01mfunzioni\u001b[39;00m \u001b[38;5;28;01mimport\u001b[39;00m \u001b[38;5;241m*\u001b[39m\n\u001b[1;32m      5\u001b[0m \u001b[38;5;28;01mimport\u001b[39;00m \u001b[38;5;21;01mjson\u001b[39;00m\n\u001b[1;32m      6\u001b[0m \u001b[38;5;28;01mimport\u001b[39;00m \u001b[38;5;21;01mos\u001b[39;00m\n",
      "\u001b[0;31mModuleNotFoundError\u001b[0m: No module named 'funzioni'"
     ]
    }
   ],
   "source": [
    "import os\n",
    "import sys\n",
    "sys.path.insert(0, '../funzioni')\n",
    "from funzioni import *\n",
    "import json\n",
    "import os\n",
    "import sys\n",
    "import re\n",
    "import pandas as pd\n",
    "sys.path.append('../../')"
   ]
  },
  {
   "cell_type": "code",
   "execution_count": null,
   "id": "02340ec7",
   "metadata": {},
   "outputs": [],
   "source": [
    "run_dataq()"
   ]
  },
  {
   "cell_type": "code",
   "execution_count": null,
   "id": "fcfbf994",
   "metadata": {},
   "outputs": [],
   "source": [
    "df  = parse_json()\n",
    "df"
   ]
  },
  {
   "cell_type": "code",
   "execution_count": null,
   "id": "70870547",
   "metadata": {},
   "outputs": [],
   "source": [
    "df_scrapingdate = df.iloc[:,:-3].groupby('scraping_date').agg({'element_count':max,'unexpected_percent':'mean', 'unexpected_percent_nonmissing':'mean', 'missing_percent':'mean' })\n",
    "df_scrapingdate"
   ]
  },
  {
   "cell_type": "code",
   "execution_count": null,
   "id": "6d937d71",
   "metadata": {},
   "outputs": [],
   "source": [
    "df_scrapingdate_column = df.iloc[:,:-3].groupby(['scraping_date', 'column']).agg({'element_count':max,'unexpected_percent':'mean', 'unexpected_percent_nonmissing':'mean', 'missing_percent':'mean' }).reset_index()\n",
    "df_scrapingdate_column"
   ]
  },
  {
   "cell_type": "code",
   "execution_count": null,
   "id": "0936eada",
   "metadata": {},
   "outputs": [],
   "source": [
    "df_column = df.iloc[:,:-3].groupby(['column']).agg({'element_count':'mean','unexpected_percent':'mean', 'unexpected_percent_nonmissing':'mean', 'missing_percent':'mean' }).reset_index()\n",
    "df_column"
   ]
  },
  {
   "cell_type": "code",
   "execution_count": null,
   "id": "a1cb3ac9",
   "metadata": {},
   "outputs": [],
   "source": [
    "df_expectation = df.iloc[:,:-3].groupby(['expectation_type']).agg({'element_count':max,'unexpected_percent':'mean', 'unexpected_percent_nonmissing':'mean', 'missing_percent':'mean' }).reset_index()\n",
    "df_expectation"
   ]
  },
  {
   "cell_type": "code",
   "execution_count": null,
   "id": "e12abaa9",
   "metadata": {},
   "outputs": [],
   "source": []
  },
  {
   "cell_type": "code",
   "execution_count": null,
   "id": "23de0e06",
   "metadata": {},
   "outputs": [],
   "source": []
  }
 ],
 "metadata": {
  "kernelspec": {
   "display_name": "Python 3 (ipykernel)",
   "language": "python",
   "name": "python3"
  },
  "language_info": {
   "codemirror_mode": {
    "name": "ipython",
    "version": 3
   },
   "file_extension": ".py",
   "mimetype": "text/x-python",
   "name": "python",
   "nbconvert_exporter": "python",
   "pygments_lexer": "ipython3",
   "version": "3.10.9"
  }
 },
 "nbformat": 4,
 "nbformat_minor": 5
}
