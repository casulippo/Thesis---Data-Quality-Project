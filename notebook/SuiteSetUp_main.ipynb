{
 "cells": [
  {
   "cell_type": "markdown",
   "id": "b9f48bc5",
   "metadata": {},
   "source": [
    "# 1. Creazione della suite Main\n",
    "\n",
    "Questo notebook prevede la configurazione delle suite \"Main\" e le relative expectations\n"
   ]
  },
  {
   "cell_type": "markdown",
   "id": "b04c9557",
   "metadata": {},
   "source": [
    "## Macrocatergorie colonne \n",
    "\n",
    "**ALL COLUMNS** : company, job_title, location, company_rating,\n",
    "       job_age, job_link, run_date, oppurtunita_carriera,\n",
    "       stipendio_e_benefit, cultura_e_valori, dirigenti_senior,equilibrio_lavoro_vita_privata, sede_centrale, dimensioni, tipo,\n",
    "       entrate, fondata_nel, settore, segmento, scraping_date\n",
    "       \n",
    "### Per tipo\n",
    "**FLOAT COLUMNS**: company_rating,oppurtunita_carriera, stipendio_e_benefit,cultura_e_valori, dirigenti_senior,equilibrio_lavoro_vita_privata\n",
    "**STRING COLUMNS**:\n",
    "**INTEGER COLUMNS**:\n",
    "\n",
    "\n",
    "\n",
    "### Per tema\n",
    "**RATING COLUMNS**: company_rating, oppurtunita_carriera, stipendio_e_benefit, cultura_e_valori, dirigenti_senior,equilibrio_lavoro_vita_privata"
   ]
  },
  {
   "cell_type": "code",
   "execution_count": 1,
   "id": "140db1f8",
   "metadata": {},
   "outputs": [],
   "source": [
    "import great_expectations as gx\n",
    "from great_expectations.core.expectation_configuration import ExpectationConfiguration\n",
    "from great_expectations.data_context.types.resource_identifiers import ExpectationSuiteIdentifier\n",
    "from great_expectations.exceptions import DataContextError\n"
   ]
  },
  {
   "cell_type": "code",
   "execution_count": 2,
   "id": "4ae78d23",
   "metadata": {},
   "outputs": [],
   "source": [
    "expectation_suite_name = 'Main'"
   ]
  },
  {
   "cell_type": "code",
   "execution_count": 3,
   "id": "fef208c5",
   "metadata": {},
   "outputs": [
    {
     "name": "stdout",
     "output_type": "stream",
     "text": [
      "Created ExpectationSuite \"Main\".\n"
     ]
    }
   ],
   "source": [
    "context = gx.get_context()\n",
    "\n",
    "\n",
    "# Feel free to change the name of your suite here. Renaming this will not remove the other one.\n",
    "#expectation_suite_name = \"Main\"\n",
    "try:\n",
    "    suite = context.get_expectation_suite(expectation_suite_name=expectation_suite_name)\n",
    "    print(f'Loaded ExpectationSuite \"{suite.expectation_suite_name}\" containing {len(suite.expectations)} expectations.')\n",
    "except DataContextError:\n",
    "    suite = context.create_expectation_suite(expectation_suite_name=expectation_suite_name)\n",
    "    print(f'Created ExpectationSuite \"{suite.expectation_suite_name}\".')"
   ]
  },
  {
   "cell_type": "code",
   "execution_count": 4,
   "id": "5477d4ad",
   "metadata": {},
   "outputs": [],
   "source": [
    "all_columns = ['company', 'job_title', 'location', 'company_rating',\n",
    "       'job_age', 'job_link',  'oppurtunita_carriera',\n",
    "       'stipendio_e_benefit', 'cultura_e_valori', 'dirigenti_senior','equilibrio_lavoro_vita_privata', 'sede_centrale', 'dimensioni', 'tipo',\n",
    "       'entrate', 'fondata_nel', 'settore', 'segmento', 'scraping_date']\n",
    "## TIPO\n",
    "float_columns = [\n",
    "        'company_rating','oppurtunita_carriera', 'stipendio_e_benefit',\n",
    "       'cultura_e_valori', 'dirigenti_senior',\n",
    "       'equilibrio_lavoro_vita_privata']\n",
    "\n",
    "string_columns = [\n",
    "    'company', 'job_title', 'location', 'job_age','scraping_date',\n",
    "       'job_link', 'sede_centrale', 'dimensioni', 'tipo', 'settore', 'segmento', 'entrate']\n",
    "\n",
    "integer_columns = ['fondata_nel']\n",
    "\n",
    "## TEMA\n",
    "\n",
    "rating_columns = [\n",
    "            'company_rating', 'oppurtunita_carriera', 'stipendio_e_benefit',\n",
    "           'cultura_e_valori', 'dirigenti_senior',\n",
    "           'equilibrio_lavoro_vita_privata']\n",
    "\n"
   ]
  },
  {
   "cell_type": "markdown",
   "id": "95f26eb3",
   "metadata": {},
   "source": [
    "# 2.Expectation"
   ]
  },
  {
   "cell_type": "markdown",
   "id": "fcbc4215",
   "metadata": {},
   "source": [
    "## 2.1 Table Expectation\n"
   ]
  },
  {
   "cell_type": "markdown",
   "id": "e7baf5b9",
   "metadata": {},
   "source": [
    "#### Questa Expectation verifica che le colonne nella tabella abbiano questo ordine\n",
    "- company\n",
    "- job_title\n",
    "- location\n",
    "- company_rating\n",
    "- job_age\n",
    "- job_link\n",
    "- Sedeentrale'\n",
    "- Dimensioni\n",
    "- Fondatael'\n",
    "- Tipo\n",
    "- Entrate\n",
    "- Opportunitài carriera'\n",
    "- Stipendio benefit'\n",
    "- Cultura valori'\n",
    "- Dirigentienior'\n",
    "- Equilibrioavoro/vita privata'\n",
    "- Settore\n",
    "- Segmento\n",
    "- scraping_date"
   ]
  },
  {
   "cell_type": "code",
   "execution_count": 5,
   "id": "a02689b0",
   "metadata": {},
   "outputs": [],
   "source": [
    "# # Create an Expectation\n",
    "# expectation_configuration = ExpectationConfiguration(\n",
    "#    # Name of expectation type being added\n",
    "#    expectation_type=\"expect_table_columns_to_match_ordered_list\",\n",
    "#    # These are the arguments of the expectation\n",
    "#    # The keys allowed in the dictionary are Parameters and\n",
    "#    # Keyword Arguments of this Expectation Type\n",
    "#    kwargs={\n",
    "#       \"column_list\": ['company',\n",
    "#                      'job_title',\n",
    "#                      'location',\n",
    "#                      'company_rating',\n",
    "#                      'job_age',\n",
    "#                      'job_link',\n",
    "#                      'run_date',\n",
    "#                      'oppurtunita_carriera',\n",
    "#                      'stipendio_e_benefit',\n",
    "#                      'cultura_e_valori',\n",
    "#                      'dirigenti_senior',\n",
    "#                      'equilibrio_lavoro_vita_privata',\n",
    "#                      'sede_centrale',\n",
    "#                      'dimensioni',\n",
    "#                      'tipo',\n",
    "#                      'entrate',\n",
    "#                      'fondata_nel',\n",
    "#                      'settore',\n",
    "#                      'segmento',\n",
    "#                      'scraping_date']\n",
    "#    },\n",
    "#    # This is how you can optionally add a comment about this expectation.\n",
    "#    # It will be rendered in Data Docs.\n",
    "#    # See this guide for details:\n",
    "#    # `How to add comments to Expectations and display them in Data Docs`.\n",
    "#    meta={\n",
    "#       \"notes\": {\n",
    "#          \"format\": \"markdown\",\n",
    "#          \"content\": \"\"\n",
    "#       }\n",
    "#    }\n",
    "# )\n",
    "# # Add the Expectation to the suite\n",
    "# suite.add_expectation(expectation_configuration=expectation_configuration)"
   ]
  },
  {
   "cell_type": "markdown",
   "id": "ff7655e8",
   "metadata": {},
   "source": [
    "## 2.2 Expectation column by macrogroup\n",
    "\n",
    "In questa seconda sezione sono presenti dei controlli relativi a macrogruppi di colonne"
   ]
  },
  {
   "cell_type": "markdown",
   "id": "70b98c77",
   "metadata": {},
   "source": [
    "#### All_columns\n",
    "    Questa Expectation verifica che TUTTE le colonne non siano mai nulle"
   ]
  },
  {
   "cell_type": "code",
   "execution_count": 6,
   "id": "01b56e59",
   "metadata": {},
   "outputs": [],
   "source": [
    "for e in all_columns:\n",
    "    \n",
    "    expectation_configuration = ExpectationConfiguration(\n",
    "       expectation_type=\"expect_column_values_to_not_be_null\",\n",
    "       kwargs={\n",
    "          \"column\": e,\n",
    "       },\n",
    "       # Note optional comments omitted\n",
    "    )\n",
    "    suite.add_expectation(expectation_configuration=expectation_configuration)"
   ]
  },
  {
   "cell_type": "markdown",
   "id": "f6e8be14",
   "metadata": {},
   "source": [
    "### String columns"
   ]
  },
  {
   "cell_type": "markdown",
   "id": "7d75a5a1",
   "metadata": {},
   "source": [
    "#### string_columns\n",
    "    Questa Expectation verifica che le colonne di tipo stringa siano stringhe"
   ]
  },
  {
   "cell_type": "code",
   "execution_count": 7,
   "id": "cd10ca85",
   "metadata": {},
   "outputs": [],
   "source": [
    "for e in string_columns:\n",
    "    \n",
    "    expectation_configuration = ExpectationConfiguration(\n",
    "       expectation_type=\"expect_column_values_to_be_in_type_list\",\n",
    "       kwargs={\n",
    "            \"column\": e,\n",
    "          \"type_list\": ['str'],\n",
    "       },\n",
    "       # Note optional comments omitted\n",
    "    )\n",
    "    suite.add_expectation(expectation_configuration=expectation_configuration)"
   ]
  },
  {
   "cell_type": "markdown",
   "id": "d6f8d62d",
   "metadata": {},
   "source": [
    "### Integer columns"
   ]
  },
  {
   "cell_type": "markdown",
   "id": "30f3f2c5",
   "metadata": {},
   "source": [
    "#### integer_columns\n",
    "    Questa Expectation verifica che le colonne di tipo intero siano di tipo intero"
   ]
  },
  {
   "cell_type": "code",
   "execution_count": 8,
   "id": "f95e9c72",
   "metadata": {},
   "outputs": [],
   "source": [
    "for e in integer_columns:\n",
    "    \n",
    "    expectation_configuration = ExpectationConfiguration(\n",
    "       expectation_type=\"expect_column_values_to_be_in_type_list\",\n",
    "       kwargs={\n",
    "            \"column\": e,\n",
    "          \"type_list\": ['int'],\n",
    "       },\n",
    "       # Note optional comments omitted\n",
    "    )\n",
    "    suite.add_expectation(expectation_configuration=expectation_configuration)"
   ]
  },
  {
   "cell_type": "markdown",
   "id": "fc64fe6b",
   "metadata": {},
   "source": [
    "### Float columns"
   ]
  },
  {
   "cell_type": "markdown",
   "id": "cbb81f2d",
   "metadata": {},
   "source": [
    "#### float_columns\n",
    "\n",
    "    Questa Expectation verifica che le colonne di tipo float siano float\n"
   ]
  },
  {
   "cell_type": "code",
   "execution_count": 9,
   "id": "e536e2ed",
   "metadata": {},
   "outputs": [],
   "source": [
    "for e in float_columns:\n",
    "    \n",
    "    expectation_configuration = ExpectationConfiguration(\n",
    "       expectation_type=\"expect_column_values_to_be_in_type_list\",\n",
    "       kwargs={\n",
    "            \"column\": e,\n",
    "          \"type_list\": ['float'],\n",
    "       },\n",
    "       # Note optional comments omitted\n",
    "    )\n",
    "    suite.add_expectation(expectation_configuration=expectation_configuration)"
   ]
  },
  {
   "cell_type": "markdown",
   "id": "6718783a",
   "metadata": {},
   "source": [
    "#### float_columns\n",
    "    Questa Expectation verifica che le colonne di tipo float siano valorizzati con un numero maggiore di zero"
   ]
  },
  {
   "cell_type": "code",
   "execution_count": 10,
   "id": "70f963b8",
   "metadata": {},
   "outputs": [],
   "source": [
    "for e in float_columns:\n",
    "    \n",
    "    expectation_configuration = ExpectationConfiguration(\n",
    "       expectation_type=\"expect_column_min_to_be_between\",\n",
    "       kwargs={\n",
    "            \"column\": e,\n",
    "          \"min_value\": 0.0,\n",
    "       },\n",
    "       # Note optional comments omitted\n",
    "    )\n",
    "    suite.add_expectation(expectation_configuration=expectation_configuration)"
   ]
  },
  {
   "cell_type": "markdown",
   "id": "774c03e4",
   "metadata": {},
   "source": [
    "### Rating columns"
   ]
  },
  {
   "cell_type": "markdown",
   "id": "b45c7136",
   "metadata": {},
   "source": [
    "#### rating_columns\n",
    "    Questa Expectation verifica che le colonne di tipo float siano valorizzati con un numero maggiore di zero e minore/uguale a 5.0"
   ]
  },
  {
   "cell_type": "code",
   "execution_count": 11,
   "id": "9f8a3a81",
   "metadata": {},
   "outputs": [],
   "source": [
    "for e in rating_columns:\n",
    "    \n",
    "    expectation_configuration = ExpectationConfiguration(\n",
    "       expectation_type=\"expect_column_values_to_be_between\",\n",
    "       kwargs={\n",
    "            \"column\": e,\n",
    "            \"min_value\":0.0,\n",
    "            \"max_value\":5.0\n",
    "       },\n",
    "       # Note optional comments omitted\n",
    "    )\n",
    "    suite.add_expectation(expectation_configuration=expectation_configuration)"
   ]
  },
  {
   "cell_type": "markdown",
   "id": "ac95554a",
   "metadata": {},
   "source": [
    "## 2.3 Expectation column by column\n",
    "\n",
    "In questa terza sezione sono presenti dei controlli relativi alle singole colonne"
   ]
  },
  {
   "cell_type": "markdown",
   "id": "3ef769eb",
   "metadata": {},
   "source": [
    "### fondata_nel\n",
    "    Questa Expectation verifica che la colonna fondata_nel rispetti al regex [0-9]{4}"
   ]
  },
  {
   "cell_type": "code",
   "execution_count": 12,
   "id": "6cb6806b",
   "metadata": {},
   "outputs": [
    {
     "data": {
      "text/plain": [
       "{\"meta\": {}, \"kwargs\": {\"column\": \"fondata_nel\", \"regex\": \"[0-9]{4}\"}, \"expectation_type\": \"expect_column_values_to_match_regex\"}"
      ]
     },
     "execution_count": 12,
     "metadata": {},
     "output_type": "execute_result"
    }
   ],
   "source": [
    "expectation_configuration = ExpectationConfiguration(\n",
    "   expectation_type=\"expect_column_values_to_match_regex\",\n",
    "   kwargs={\n",
    "        \"column\": 'fondata_nel',\n",
    "       \"regex\":\"[0-9]{4}\"\n",
    "   },\n",
    "   # Note optional comments omitted\n",
    ")\n",
    "suite.add_expectation(expectation_configuration=expectation_configuration)"
   ]
  },
  {
   "cell_type": "code",
   "execution_count": 13,
   "id": "78703d8d",
   "metadata": {},
   "outputs": [
    {
     "data": {
      "text/plain": [
       "{\"meta\": {}, \"kwargs\": {\"column\": \"fondata_nel\", \"min_value\": 1000}, \"expectation_type\": \"expect_column_min_to_be_between\"}"
      ]
     },
     "execution_count": 13,
     "metadata": {},
     "output_type": "execute_result"
    }
   ],
   "source": [
    "expectation_configuration = ExpectationConfiguration(\n",
    "   expectation_type=\"expect_column_min_to_be_between\",\n",
    "   kwargs={\n",
    "        \"column\": 'fondata_nel',\n",
    "      \"min_value\": 1000,\n",
    "   },\n",
    "   # Note optional comments omitted\n",
    ")\n",
    "suite.add_expectation(expectation_configuration=expectation_configuration)"
   ]
  },
  {
   "cell_type": "markdown",
   "id": "b58cb821",
   "metadata": {},
   "source": [
    "### scraping_date\n",
    "    Questa Expectation verifica che la colonna scraping_date rispetti il formato %Y-%m-%d"
   ]
  },
  {
   "cell_type": "code",
   "execution_count": 14,
   "id": "bdd8393d",
   "metadata": {},
   "outputs": [
    {
     "data": {
      "text/plain": [
       "{\"meta\": {}, \"kwargs\": {\"column\": \"scraping_date\", \"strftime_format\": \"%Y-%m-%d\"}, \"expectation_type\": \"expect_column_values_to_match_strftime_format\"}"
      ]
     },
     "execution_count": 14,
     "metadata": {},
     "output_type": "execute_result"
    }
   ],
   "source": [
    "expectation_configuration = ExpectationConfiguration(\n",
    "   expectation_type=\"expect_column_values_to_match_strftime_format\",\n",
    "   kwargs={\n",
    "        \"column\": 'scraping_date',\n",
    "         \"strftime_format\":\"%Y-%m-%d\"\n",
    "   },\n",
    "   # Note optional comments omitted\n",
    ")\n",
    "suite.add_expectation(expectation_configuration=expectation_configuration)"
   ]
  },
  {
   "cell_type": "markdown",
   "id": "3b36f9eb",
   "metadata": {},
   "source": [
    "### job_link\n",
    "    Questa Expectation verifica che la colonna job_link rispetti al regex \"^https://www\\.glassdoor\\.it/job-listing/.*\""
   ]
  },
  {
   "cell_type": "code",
   "execution_count": 15,
   "id": "0e038833",
   "metadata": {},
   "outputs": [
    {
     "data": {
      "text/plain": [
       "{\"meta\": {}, \"kwargs\": {\"column\": \"job_link\", \"regex\": \"^https://www\\\\.glassdoor\\\\.it/job-listing/.*\"}, \"expectation_type\": \"expect_column_values_to_match_regex\"}"
      ]
     },
     "execution_count": 15,
     "metadata": {},
     "output_type": "execute_result"
    }
   ],
   "source": [
    "expectation_configuration = ExpectationConfiguration(\n",
    "   expectation_type=\"expect_column_values_to_match_regex\",\n",
    "   kwargs={\n",
    "        \"column\": 'job_link',\n",
    "       \"regex\":\"^https://www\\.glassdoor\\.it/job-listing/.*\"\n",
    "   },\n",
    "   # Note optional comments omitted\n",
    ")\n",
    "suite.add_expectation(expectation_configuration=expectation_configuration)"
   ]
  },
  {
   "cell_type": "markdown",
   "id": "4b61db31",
   "metadata": {},
   "source": [
    "### job_link\n",
    "    Questa Expectation verifica che la colonna job_link non abbia valori ripetuti nel dataset"
   ]
  },
  {
   "cell_type": "code",
   "execution_count": 25,
   "id": "a488c9d7",
   "metadata": {},
   "outputs": [
    {
     "data": {
      "text/plain": [
       "{\"meta\": {}, \"kwargs\": {\"column\": \"job_link\"}, \"expectation_type\": \"expect_column_values_to_be_unique\"}"
      ]
     },
     "execution_count": 25,
     "metadata": {},
     "output_type": "execute_result"
    }
   ],
   "source": [
    "expectation_configuration = ExpectationConfiguration(\n",
    "   expectation_type=\"expect_column_values_to_be_unique\",\n",
    "   kwargs={\n",
    "        \"column\": 'job_link'\n",
    "   },\n",
    "   # Note optional comments omitted\n",
    ")\n",
    "suite.add_expectation(expectation_configuration=expectation_configuration)"
   ]
  },
  {
   "cell_type": "markdown",
   "id": "961a9ce6",
   "metadata": {},
   "source": [
    "### company\n",
    "    Questa Expectation verifica che i valori della olonna company inizino con la lettera maiuscola"
   ]
  },
  {
   "cell_type": "code",
   "execution_count": 16,
   "id": "f8b3ddd3",
   "metadata": {},
   "outputs": [
    {
     "data": {
      "text/plain": [
       "{\"meta\": {}, \"kwargs\": {\"column\": \"company\", \"regex\": \"^[A-Z].*$\"}, \"expectation_type\": \"expect_column_values_to_match_regex\"}"
      ]
     },
     "execution_count": 16,
     "metadata": {},
     "output_type": "execute_result"
    }
   ],
   "source": [
    "expectation_configuration = ExpectationConfiguration(\n",
    "   expectation_type=\"expect_column_values_to_match_regex\",\n",
    "   kwargs={\n",
    "        \"column\": 'company',\n",
    "       \"regex\": '^[A-Z].*$'\n",
    "   },\n",
    "   # Note optional comments omitted\n",
    ")\n",
    "suite.add_expectation(expectation_configuration=expectation_configuration)"
   ]
  },
  {
   "cell_type": "markdown",
   "id": "b4a10d7a",
   "metadata": {},
   "source": [
    "### location\n",
    "    Questa Expectation verifica che i valori della colonna location inizino con la lettera maiuscola"
   ]
  },
  {
   "cell_type": "code",
   "execution_count": 17,
   "id": "7fe39973",
   "metadata": {},
   "outputs": [
    {
     "data": {
      "text/plain": [
       "{\"meta\": {}, \"kwargs\": {\"column\": \"location\", \"regex\": \"^[A-Z].*$\"}, \"expectation_type\": \"expect_column_values_to_match_regex\"}"
      ]
     },
     "execution_count": 17,
     "metadata": {},
     "output_type": "execute_result"
    }
   ],
   "source": [
    "expectation_configuration = ExpectationConfiguration(\n",
    "   expectation_type=\"expect_column_values_to_match_regex\",\n",
    "   kwargs={\n",
    "        \"column\": 'location',\n",
    "       \"regex\": '^[A-Z].*$'\n",
    "   },\n",
    "   # Note optional comments omitted\n",
    ")\n",
    "suite.add_expectation(expectation_configuration=expectation_configuration)"
   ]
  },
  {
   "cell_type": "markdown",
   "id": "cdd9366d",
   "metadata": {},
   "source": [
    "### dimensioni\n",
    "    Questa Expectation verifica che la colonna dimensioni sia valorizzata da uno dei seguenti valori:\n",
    "    - Da 1 a 50 dipendenti,\t\n",
    "    - Da 1.001 a 5.000 dipendenti,\t\n",
    "    - Da 201 a 500 dipendenti,\t\n",
    "    - Da 5.001 a 10.000 dipendenti,\t\n",
    "    - Da 501 a 1.000 dipendenti,\t\n",
    "    - Da 51 a 200 dipendenti,\t\n",
    "    - Oltre 10.000 dipendenti,\t\n",
    "    - Sconosciuto"
   ]
  },
  {
   "cell_type": "code",
   "execution_count": 18,
   "id": "ee4aa4a5",
   "metadata": {},
   "outputs": [
    {
     "data": {
      "text/plain": [
       "{\"meta\": {}, \"kwargs\": {\"column\": \"dimensioni\", \"value_set\": [\"Oltre 10.000 dipendenti\", \"Da 201 a 500 dipendenti\", \"Da 51 a 200 dipendenti\", \"Sconosciuto\", \"Da 1 a 50 dipendenti\", \"Da 501 a 1.000 dipendenti\", \"Da 1.001 a 5.000 dipendenti\", \"Da 5.001 a 10.000 dipendenti\"]}, \"expectation_type\": \"expect_column_values_to_be_in_set\"}"
      ]
     },
     "execution_count": 18,
     "metadata": {},
     "output_type": "execute_result"
    }
   ],
   "source": [
    "dimensioni_value_list = ['Oltre 10.000 dipendenti', 'Da 201 a 500 dipendenti',\n",
    "       'Da 51 a 200 dipendenti', 'Sconosciuto', 'Da 1 a 50 dipendenti',\n",
    "       'Da 501 a 1.000 dipendenti', 'Da 1.001 a 5.000 dipendenti',\n",
    "       'Da 5.001 a 10.000 dipendenti']\n",
    "\n",
    " #expect_column_values_to_be_in_set\n",
    "    \n",
    "expectation_configuration = ExpectationConfiguration(\n",
    "   expectation_type=\"expect_column_values_to_be_in_set\",\n",
    "   kwargs={\n",
    "        \"column\": 'dimensioni',\n",
    "       \"value_set\" : dimensioni_value_list\n",
    "   },\n",
    "   # Note optional comments omitted\n",
    ")\n",
    "suite.add_expectation(expectation_configuration=expectation_configuration)"
   ]
  },
  {
   "cell_type": "markdown",
   "id": "80ea4628",
   "metadata": {},
   "source": [
    "### entrate\n",
    "    Questa Expectation verifica che la colonna dimensioni sia valorizzata da uno dei seguenti valori:\n",
    "    - Sconosciuto/Non applicabile, \n",
    "    - Più di 10 miliardi (USD),\n",
    "    - 1 - 5 miliardi (USD), \n",
    "    - 100 - 500 milioni (USD),\n",
    "    - 25 - 100 milioni (USD), \n",
    "    - 1 - 5 milioni (USD),\n",
    "    - 5 - 10 miliardi (USD), \n",
    "    - 5 - 25 milioni (USD),\n",
    "    - Meno di 1 milione (USD), \n",
    "    - 500 milioni - 1 miliardo (USD)"
   ]
  },
  {
   "cell_type": "code",
   "execution_count": 19,
   "id": "c4219d9a",
   "metadata": {},
   "outputs": [
    {
     "data": {
      "text/plain": [
       "{\"meta\": {}, \"kwargs\": {\"column\": \"entrate\", \"value_set\": [\"Pi\\u00f9 di $ 10 miliardi (USD)\", \"$ 1 - $ 5 miliardi (USD)\", \"Sconosciuto/Non applicabile\", \"$ 100 - $ 500 milioni (USD)\", \"$ 5 - $ 25 milioni (USD)\", \"Meno di $ 1 milione (USD)\", \"$ 25 - $ 100 milioni (USD)\"]}, \"expectation_type\": \"expect_column_values_to_be_in_set\"}"
      ]
     },
     "execution_count": 19,
     "metadata": {},
     "output_type": "execute_result"
    }
   ],
   "source": [
    "entrate_value_list = ['Più di $ 10 miliardi (USD)', '$ 1 - $ 5 miliardi (USD)', 'Sconosciuto/Non applicabile', '$ 100 - $ 500 milioni (USD)',\n",
    "       '$ 5 - $ 25 milioni (USD)', 'Meno di $ 1 milione (USD)',\n",
    "       '$ 25 - $ 100 milioni (USD)']\n",
    "    \n",
    "expectation_configuration = ExpectationConfiguration(\n",
    "   expectation_type=\"expect_column_values_to_be_in_set\",\n",
    "   kwargs={\n",
    "        \"column\": 'entrate',\n",
    "       \"value_set\" : entrate_value_list\n",
    "   },\n",
    "   # Note optional comments omitted\n",
    ")\n",
    "suite.add_expectation(expectation_configuration=expectation_configuration)"
   ]
  },
  {
   "cell_type": "markdown",
   "id": "acd423d0",
   "metadata": {},
   "source": [
    "### job_age\n",
    "  \n",
    "    Questa Expectation verifica che la colonna job_age rispetti al regex ^\\d+\\s*(g|[dh]|day(?:s)?|\\+)?$|^Oltre\\s+\\d+\\s*g$\n"
   ]
  },
  {
   "cell_type": "code",
   "execution_count": 20,
   "id": "a543b6d0",
   "metadata": {},
   "outputs": [
    {
     "data": {
      "text/plain": [
       "{\"meta\": {}, \"kwargs\": {\"column\": \"job_age\", \"regex\": \" ^\\\\d+\\\\s*(g|[dh]|day(?:s)?|\\\\+)?$|^Oltre\\\\s+\\\\d+\\\\s*g$\"}, \"expectation_type\": \"expect_column_values_to_match_regex\"}"
      ]
     },
     "execution_count": 20,
     "metadata": {},
     "output_type": "execute_result"
    }
   ],
   "source": [
    "expectation_configuration = ExpectationConfiguration(\n",
    "   expectation_type=\"expect_column_values_to_match_regex\",\n",
    "   kwargs={\n",
    "        \"column\": 'job_age',\n",
    "       \"regex\": ' ^\\d+\\s*(g|[dh]|day(?:s)?|\\+)?$|^Oltre\\s+\\d+\\s*g$'\n",
    "   },\n",
    "   # Note optional comments omitted\n",
    ")\n",
    "suite.add_expectation(expectation_configuration=expectation_configuration)"
   ]
  },
  {
   "cell_type": "markdown",
   "id": "0d987b85",
   "metadata": {},
   "source": [
    "### tipo\n",
    "  \n",
    "    Questa Expectation verifica che la colonna tipo si valorizzata almeno il 70% delle volte con uno dei seguenti valori:\n",
    "        - Azienda - Settore privato\t\n",
    "        - Azienda quotata in borsa\n",
    "        \n"
   ]
  },
  {
   "cell_type": "code",
   "execution_count": 21,
   "id": "118a715e",
   "metadata": {},
   "outputs": [
    {
     "data": {
      "text/plain": [
       "{\"meta\": {}, \"kwargs\": {\"column\": \"tipo\", \"value_set\": [\"Azienda - Settore privato\", \"Azienda quotata in borsa\"], \"mostly\": 0.8}, \"expectation_type\": \"expect_column_values_to_be_in_set\"}"
      ]
     },
     "execution_count": 21,
     "metadata": {},
     "output_type": "execute_result"
    }
   ],
   "source": [
    " #expect_column_values_to_be_in_set\n",
    "    \n",
    "expectation_configuration = ExpectationConfiguration(\n",
    "   expectation_type=\"expect_column_values_to_be_in_set\",\n",
    "   kwargs={\n",
    "        \"column\": 'tipo',\n",
    "       \"value_set\" : ['Azienda - Settore privato', 'Azienda quotata in borsa'],\n",
    "       \"mostly\":0.8\n",
    "   },\n",
    "   # Note optional comments omitted\n",
    ")\n",
    "suite.add_expectation(expectation_configuration=expectation_configuration)"
   ]
  },
  {
   "cell_type": "code",
   "execution_count": 22,
   "id": "1744691b",
   "metadata": {},
   "outputs": [],
   "source": [
    "# print(context.get_expectation_suite(expectation_suite_name=expectation_suite_name))\n",
    "context.save_expectation_suite(expectation_suite=suite, expectation_suite_name=expectation_suite_name)\n",
    "\n",
    "suite_identifier = ExpectationSuiteIdentifier(expectation_suite_name=expectation_suite_name)\n",
    "context.build_data_docs(resource_identifiers=[suite_identifier])\n",
    "context.open_data_docs(resource_identifier=suite_identifier)"
   ]
  },
  {
   "cell_type": "code",
   "execution_count": 23,
   "id": "cb5b13ed",
   "metadata": {},
   "outputs": [
    {
     "name": "stdout",
     "output_type": "stream",
     "text": [
      "http://localhost:9000/view/great_expectations/uncommitted/data_docs/local_site/expectations/Main.html\n"
     ]
    }
   ],
   "source": [
    "print('http://localhost:9000/view/great_expectations/uncommitted/data_docs/local_site/expectations/'+ expectation_suite_name +'.html')"
   ]
  }
 ],
 "metadata": {
  "kernelspec": {
   "display_name": "Python 3 (ipykernel)",
   "language": "python",
   "name": "python3"
  },
  "language_info": {
   "codemirror_mode": {
    "name": "ipython",
    "version": 3
   },
   "file_extension": ".py",
   "mimetype": "text/x-python",
   "name": "python",
   "nbconvert_exporter": "python",
   "pygments_lexer": "ipython3",
   "version": "3.10.9"
  }
 },
 "nbformat": 4,
 "nbformat_minor": 5
}
