{
 "cells": [
  {
   "cell_type": "code",
   "execution_count": 1,
   "id": "03b4d822",
   "metadata": {},
   "outputs": [],
   "source": [
    "## potrebbe essere interessante parsarlo in un dataframe per avere i risultati come dati tabellari\n",
    "import json\n",
    "import os\n",
    "import sys\n",
    "import pandas as pd\n",
    "sys.path.append('../../')\n",
    "\n",
    "# with open(path, \"r\") as read_file:\n",
    "#     data = json.load(read_file)\n",
    "# \n",
    "# print(data)"
   ]
  },
  {
   "cell_type": "code",
   "execution_count": 19,
   "id": "10471ac3",
   "metadata": {},
   "outputs": [],
   "source": [
    "path = \"../great_expectations/uncommitted/validations/Main/\""
   ]
  },
  {
   "cell_type": "code",
   "execution_count": 39,
   "id": "b43001b0",
   "metadata": {},
   "outputs": [
    {
     "name": "stdout",
     "output_type": "stream",
     "text": [
      "../great_expectations/uncommitted/validations/Main/efd6048b7c47bfd83f7ceb6ebe9a8231.json\n",
      "../great_expectations/uncommitted/validations/Main/97d7545684674b50fe8cbe7c68cd9ad0.json\n"
     ]
    }
   ],
   "source": [
    "for cartella, sottocartelle, files in os.walk(path):\n",
    "    for file in files:\n",
    "        file_path = os.path.join(path, file)\n",
    "        print(file_path)"
   ]
  },
  {
   "cell_type": "code",
   "execution_count": 31,
   "id": "294bb26e",
   "metadata": {},
   "outputs": [],
   "source": [
    "path_data = \"../great_expectations/uncommitted/validations/Main/20230208-195522-scraping_all_londra_080223/20230208T195522.324469Z/97d7545684674b50fe8cbe7c68cd9ad0.json\""
   ]
  },
  {
   "cell_type": "code",
   "execution_count": 61,
   "id": "940a2b4e",
   "metadata": {},
   "outputs": [],
   "source": [
    "def create_df_results():\n",
    "    df_append = pd.DataFrame()\n",
    "    df_expectations = pd.DataFrame() \n",
    "    expectation_type=[]\n",
    "    element_count=[]\n",
    "    missing_count=[]\n",
    "    missing_percent=[]\n",
    "    partial_unexpected_counts=[]\n",
    "    partial_unexpected_index_list=[]\n",
    "    partial_unexpected_list=[]\n",
    "    unexpected_count=[]\n",
    "    unexpected_percent=[]\n",
    "    unexpected_percent_nonmissing=[]\n",
    "    unexpected_percent_total=[]\n",
    "    column=[]\n",
    "    column_list=[]\n",
    "    for cartella, sottocartelle, files in os.walk(path):\n",
    "        for file in files:\n",
    "            file_path = os.path.join(path, file)\n",
    "            with open(path_data, \"r\") as read_file:\n",
    "                data = json.load(read_file)\n",
    "            \n",
    "\n",
    "                \n",
    "                for e in data['results']:\n",
    "                \n",
    "                    try:\n",
    "                        expectation_type.append(e['expectation_config']['expectation_type'])\n",
    "                    except:\n",
    "                        expectation_type.append(None)\n",
    "                    try:\n",
    "                        column.append(e['expectation_config']['kwargs']['column'])\n",
    "                    except:\n",
    "                        column.append(e['expectation_config']['kwargs']['column_list'][0])    \n",
    "                    try:\n",
    "                        column_list.append(e['expectation_config']['kwargs']['column_list'])\n",
    "                    except:\n",
    "                        column_list.append(None)          \n",
    "                    try:\n",
    "                        element_count.append(e['result']['element_count'])\n",
    "                    except:\n",
    "                        element_count.append(None)\n",
    "                    try:\n",
    "                        missing_count.append(e['result']['missing_count'])\n",
    "                    except:\n",
    "                        missing_count.append(None)\n",
    "                    try:\n",
    "                        missing_percent.append(e['result']['missing_percent'])\n",
    "                    except:\n",
    "                        missing_percent.append(None)\n",
    "                    try:\n",
    "                        partial_unexpected_counts.append(e['result']['partial_unexpected_counts'])\n",
    "                    except:\n",
    "                        partial_unexpected_counts.append(None)\n",
    "                    try:\n",
    "                        partial_unexpected_index_list.append(e['result']['partial_unexpected_index_list'])\n",
    "                    except:\n",
    "                        partial_unexpected_index_list.append(None)\n",
    "                    try:\n",
    "                        partial_unexpected_list.append(e['result']['partial_unexpected_list'])\n",
    "                    except:\n",
    "                        partial_unexpected_list.append(None)\n",
    "                    try:\n",
    "                        unexpected_count.append(e['result']['unexpected_count'])\n",
    "                    except:\n",
    "                        unexpected_count.append(None)\n",
    "                    try:\n",
    "                        unexpected_percent.append(e['result']['unexpected_percent'])\n",
    "                    except:\n",
    "                        unexpected_percent.append(None)\n",
    "                    try:\n",
    "                        unexpected_percent_nonmissing.append(e['result']['unexpected_percent_nonmissing'])\n",
    "                    except:\n",
    "                        unexpected_percent_nonmissing.append(None)\n",
    "                    try:\n",
    "                        unexpected_percent_total.append(e['result']['unexpected_percent_total'])\n",
    "                    except:\n",
    "                        unexpected_percent_total.append(None)\n",
    "                \n",
    "                \n",
    "                dataframe_type=data['meta']['active_batch_definition']['data_asset_name']\n",
    "                timestamp_run =data['meta']['batch_markers']['ge_load_time']\n",
    "                \n",
    "                df_expectations['column'] = column\n",
    "                df_expectations['column_list'] = column_list\n",
    "                df_expectations['expectation_type']=expectation_type\n",
    "                df_expectations['element_count'] = element_count\n",
    "                df_expectations['missing_count'] = missing_count\n",
    "                df_expectations['missing_percent'] = missing_percent\n",
    "                df_expectations['partial_unexpected_counts'] = partial_unexpected_counts\n",
    "                df_expectations['partial_unexpected_index_list'] = partial_unexpected_index_list\n",
    "                df_expectations['partial_unexpected_list'] = partial_unexpected_list\n",
    "                df_expectations['unexpected_count'] = unexpected_count\n",
    "                df_expectations['unexpected_percent'] = unexpected_percent\n",
    "                df_expectations['unexpected_percent_nonmissing'] = unexpected_percent_nonmissing\n",
    "                df_expectations['unexpected_percent_total'] = unexpected_percent_total\n",
    "                df_expectations['dataframe_type']=dataframe_type\n",
    "                df_expectations['timestamp_run']=timestamp_run\n",
    "    \n",
    "            df_append = df_append(df_expectations).reset_index(drop=True)\n",
    "            #df_append = pd.concat([df_append, df_expectations], axis=0)\n",
    "        return df_append\n",
    "        "
   ]
  },
  {
   "cell_type": "code",
   "execution_count": 62,
   "id": "0ae920a4",
   "metadata": {},
   "outputs": [
    {
     "data": {
      "text/html": [
       "<div>\n",
       "<style scoped>\n",
       "    .dataframe tbody tr th:only-of-type {\n",
       "        vertical-align: middle;\n",
       "    }\n",
       "\n",
       "    .dataframe tbody tr th {\n",
       "        vertical-align: top;\n",
       "    }\n",
       "\n",
       "    .dataframe thead th {\n",
       "        text-align: right;\n",
       "    }\n",
       "</style>\n",
       "<table border=\"1\" class=\"dataframe\">\n",
       "  <thead>\n",
       "    <tr style=\"text-align: right;\">\n",
       "      <th></th>\n",
       "    </tr>\n",
       "  </thead>\n",
       "  <tbody>\n",
       "  </tbody>\n",
       "</table>\n",
       "</div>"
      ],
      "text/plain": [
       "Empty DataFrame\n",
       "Columns: []\n",
       "Index: []"
      ]
     },
     "execution_count": 62,
     "metadata": {},
     "output_type": "execute_result"
    }
   ],
   "source": [
    "create_df_results()"
   ]
  },
  {
   "cell_type": "code",
   "execution_count": null,
   "id": "fe11ff71",
   "metadata": {},
   "outputs": [],
   "source": []
  }
 ],
 "metadata": {
  "kernelspec": {
   "display_name": "Python 3 (ipykernel)",
   "language": "python",
   "name": "python3"
  },
  "language_info": {
   "codemirror_mode": {
    "name": "ipython",
    "version": 3
   },
   "file_extension": ".py",
   "mimetype": "text/x-python",
   "name": "python",
   "nbconvert_exporter": "python",
   "pygments_lexer": "ipython3",
   "version": "3.10.8"
  }
 },
 "nbformat": 4,
 "nbformat_minor": 5
}
