{
 "cells": [
  {
   "cell_type": "markdown",
   "id": "4dbe9c58",
   "metadata": {},
   "source": [
    "# Data Quality con Great Expectations"
   ]
  },
  {
   "cell_type": "code",
   "execution_count": 1,
   "id": "890ba078",
   "metadata": {},
   "outputs": [],
   "source": [
    "# ! pip install great_expectations"
   ]
  },
  {
   "cell_type": "code",
   "execution_count": 2,
   "id": "f03c8fb5",
   "metadata": {},
   "outputs": [
    {
     "name": "stderr",
     "output_type": "stream",
     "text": [
      "/opt/conda/lib/python3.10/inspect.py:469: FutureWarning: pandas.Float64Index is deprecated and will be removed from pandas in a future version. Use pandas.Index with the appropriate dtype instead.\n",
      "  value = getattr(object, key)\n",
      "/opt/conda/lib/python3.10/inspect.py:469: FutureWarning: pandas.Int64Index is deprecated and will be removed from pandas in a future version. Use pandas.Index with the appropriate dtype instead.\n",
      "  value = getattr(object, key)\n",
      "/opt/conda/lib/python3.10/inspect.py:469: FutureWarning: pandas.UInt64Index is deprecated and will be removed from pandas in a future version. Use pandas.Index with the appropriate dtype instead.\n",
      "  value = getattr(object, key)\n"
     ]
    },
    {
     "name": "stdout",
     "output_type": "stream",
     "text": [
      "2023-02-08T19:55:20+0000 - INFO - Great Expectations logging enabled at 20 level by JupyterUX module.\n"
     ]
    }
   ],
   "source": [
    "import os\n",
    "import sys\n",
    "import pandas as pd\n",
    "import datetime\n",
    "import re\n",
    "from ruamel import yaml\n",
    "from ruamel.yaml import YAML\n",
    "sys.path.append('../../')\n",
    "\n",
    "## Ge\n",
    "import great_expectations as gx\n",
    "import great_expectations as gx\n",
    "import great_expectations.jupyter_ux\n",
    "from great_expectations.cli.datasource import sanitize_yaml_and_save_datasource, check_if_datasource_name_exists\n",
    "from great_expectations.core.batch import RuntimeBatchRequest\n",
    "from great_expectations.core.expectation_configuration import ExpectationConfiguration\n",
    "from great_expectations.data_context.types.resource_identifiers import ExpectationSuiteIdentifier\n",
    "from great_expectations.exceptions import DataContextError\n",
    "from great_expectations.checkpoint.types.checkpoint_result import CheckpointResult\n",
    "\n",
    "\n",
    "from pprint import pprint\n",
    "\n",
    "\n"
   ]
  },
  {
   "cell_type": "markdown",
   "id": "de564720",
   "metadata": {},
   "source": [
    "# Data Quality \n",
    "\n",
    "Dopo aver completato la fase di Data Ingestion tramite lo scraping il secondo step è quello di valutare la qualità dei dati raccolti.  \n",
    "Il dataframe studiato presenta 18 colonne. Ogni colonna presenta delle differenze dalle altre e ci si aspetta determinati valori da queste.\n",
    "\n",
    "Dopo aver settato:\n",
    "1. la datasource\n",
    "2. suite (e le relative expectations)\n",
    "3. il checkpoint\n",
    "\n",
    "Si condurrà una validazione del sample"
   ]
  },
  {
   "cell_type": "code",
   "execution_count": 3,
   "id": "3ebc7707",
   "metadata": {
    "scrolled": true
   },
   "outputs": [
    {
     "name": "stdout",
     "output_type": "stream",
     "text": [
      "scraping_all_amsterdam_company_template.csv\n",
      "scraping_all_amsterdam_job_template.csv\n",
      "scraping_all_amsterdam_template.csv\n",
      "scraping_all_londra_080223.csv\n",
      "scraping_all_londra_company_080223.csv\n",
      "scraping_all_londra_job_080223.csv\n"
     ]
    }
   ],
   "source": [
    "for e in os.listdir('../data'):\n",
    "    print(e)"
   ]
  },
  {
   "cell_type": "code",
   "execution_count": 4,
   "id": "17a9925d",
   "metadata": {},
   "outputs": [],
   "source": [
    "df = pd.read_csv('../data/scraping_all_londra_080223.csv')"
   ]
  },
  {
   "cell_type": "code",
   "execution_count": 5,
   "id": "64241788",
   "metadata": {},
   "outputs": [
    {
     "data": {
      "text/plain": [
       "['Unnamed: 0',\n",
       " 'company',\n",
       " 'job_title',\n",
       " 'location',\n",
       " 'company_rating',\n",
       " 'job_age',\n",
       " 'job_link',\n",
       " 'Opportunità di carriera',\n",
       " 'Stipendio e benefit',\n",
       " 'Cultura e valori',\n",
       " 'Dirigenti senior',\n",
       " 'Equilibrio lavoro/vita privata',\n",
       " 'Sede centrale',\n",
       " 'Dimensioni',\n",
       " 'Fondata nel',\n",
       " 'Tipo',\n",
       " 'Settore',\n",
       " 'Segmento',\n",
       " 'Entrate']"
      ]
     },
     "execution_count": 5,
     "metadata": {},
     "output_type": "execute_result"
    }
   ],
   "source": [
    "list(df.columns)"
   ]
  },
  {
   "cell_type": "markdown",
   "id": "3ce4b92c",
   "metadata": {},
   "source": [
    "## Istruzioni operative\n",
    "E' necessario dichiare il data_asset_name e la expectation_suite_name che si vuole utilizzare"
   ]
  },
  {
   "cell_type": "code",
   "execution_count": 6,
   "id": "63caa254",
   "metadata": {},
   "outputs": [],
   "source": [
    "# inserisci qua il nome del file senza .csv\n",
    "data_asset_name = 'scraping_all_londra_080223'"
   ]
  },
  {
   "cell_type": "code",
   "execution_count": 7,
   "id": "0c421425",
   "metadata": {},
   "outputs": [],
   "source": [
    "expectation_suite_name = 'Main'"
   ]
  },
  {
   "cell_type": "code",
   "execution_count": 8,
   "id": "d073d071",
   "metadata": {
    "scrolled": false
   },
   "outputs": [
    {
     "name": "stdout",
     "output_type": "stream",
     "text": [
      "2023-02-08T19:55:20+0000 - INFO - FileDataContext loading zep config\n",
      "2023-02-08T19:55:20+0000 - INFO - GxConfig.parse_yaml() failed with errors - [{'loc': ('xdatasources',), 'msg': 'field required', 'type': 'value_error.missing'}]\n",
      "2023-02-08T19:55:20+0000 - INFO - GxConfig.parse_yaml() returning empty `xdatasources`\n",
      "2023-02-08T19:55:20+0000 - INFO - Loading 'datasources' ->\n",
      "{}\n",
      "2023-02-08T19:55:20+0000 - INFO - Loaded 'datasources' ->\n",
      "{}\n",
      "2023-02-08T19:55:21+0000 - INFO - Usage statistics is disabled; skipping initialization.\n"
     ]
    }
   ],
   "source": [
    "context = gx.get_context()"
   ]
  },
  {
   "cell_type": "markdown",
   "id": "159591fd",
   "metadata": {},
   "source": [
    "## Configurazione della datasource "
   ]
  },
  {
   "cell_type": "code",
   "execution_count": 9,
   "id": "614a11f4",
   "metadata": {},
   "outputs": [],
   "source": [
    "datasource_config: dict = {\n",
    "    \"name\": \"glassdoor_scraping\",\n",
    "    \"class_name\": \"Datasource\",\n",
    "    \"module_name\": \"great_expectations.datasource\",\n",
    "    \"execution_engine\": {\n",
    "        \"class_name\": \"PandasExecutionEngine\",\n",
    "        \"module_name\": \"great_expectations.execution_engine\",\n",
    "    },\n",
    "     \"data_connectors\": {\n",
    "        \"all\": {\n",
    "            \"class_name\": \"InferredAssetFilesystemDataConnector\",\n",
    "            \"base_directory\": \"../data\",\n",
    "            \"default_regex\": {\"pattern\": \"(.*)\\\\.csv\",\n",
    "            \"group_names\": [\"data_asset_name\"]},\n",
    "            #\"batch_spec_passthrough\": {\n",
    "            #    \"reader_method\": \"read_csv\",\n",
    "            #    \"reader_options\": {\n",
    "            #        \"header\": True,\n",
    "            #        \"inferSchema\": True,\n",
    "            #    },\n",
    "            #},\n",
    "        }\n",
    "    },\n",
    "}"
   ]
  },
  {
   "cell_type": "code",
   "execution_count": 10,
   "id": "b80f30bc",
   "metadata": {},
   "outputs": [
    {
     "name": "stdout",
     "output_type": "stream",
     "text": [
      "Attempting to instantiate class from config...\n",
      "\tInstantiating as a Datasource, since class_name is Datasource\n",
      "\tSuccessfully instantiated Datasource\n",
      "\n",
      "\n",
      "ExecutionEngine class name: PandasExecutionEngine\n",
      "Data Connectors:\n",
      "\tall : InferredAssetFilesystemDataConnector\n",
      "\n",
      "\tAvailable data_asset_names (3 of 6):\n",
      "\t\tscraping_all_amsterdam_company_template (1 of 1): ['scraping_all_amsterdam_company_template.csv']\n",
      "\t\tscraping_all_amsterdam_job_template (1 of 1): ['scraping_all_amsterdam_job_template.csv']\n",
      "\t\tscraping_all_amsterdam_template (1 of 1): ['scraping_all_amsterdam_template.csv']\n",
      "\n",
      "\tUnmatched data_references (0 of 0):[]\n",
      "\n"
     ]
    },
    {
     "data": {
      "text/plain": [
       "<great_expectations.datasource.new_datasource.Datasource at 0x7f45107edab0>"
      ]
     },
     "execution_count": 10,
     "metadata": {},
     "output_type": "execute_result"
    }
   ],
   "source": [
    "#check configurazione\n",
    "context.test_yaml_config(yaml.dump(datasource_config))"
   ]
  },
  {
   "cell_type": "code",
   "execution_count": 11,
   "id": "f9da15c6",
   "metadata": {},
   "outputs": [
    {
     "name": "stdout",
     "output_type": "stream",
     "text": [
      "The datasource glassdoor_scraping already exists in your Data Context!\n"
     ]
    }
   ],
   "source": [
    "## try to add\n",
    "try:\n",
    "    context.get_datasource(datasource_config[\"name\"])\n",
    "except ValueError:\n",
    "    context.add_datasource(**datasource_config)\n",
    "else:\n",
    "    print(\n",
    "        f\"The datasource {datasource_config['name']} already exists in your Data Context!\"\n",
    "    )"
   ]
  },
  {
   "cell_type": "code",
   "execution_count": 12,
   "id": "01028d79",
   "metadata": {},
   "outputs": [],
   "source": [
    "# context.add_datasource(**datasource_config) # usa questo comando per sovrascrive la data source "
   ]
  },
  {
   "cell_type": "code",
   "execution_count": 13,
   "id": "307f3a99",
   "metadata": {},
   "outputs": [
    {
     "data": {
      "text/plain": [
       "[{'data_connectors': {'all': {'class_name': 'InferredAssetFilesystemDataConnector',\n",
       "    'module_name': 'great_expectations.datasource.data_connector',\n",
       "    'default_regex': {'group_names': ['data_asset_name'],\n",
       "     'pattern': '(.*)\\\\.csv'},\n",
       "    'base_directory': '../data'}},\n",
       "  'name': 'glassdoor_scraping',\n",
       "  'class_name': 'Datasource',\n",
       "  'module_name': 'great_expectations.datasource',\n",
       "  'execution_engine': {'class_name': 'PandasExecutionEngine',\n",
       "   'module_name': 'great_expectations.execution_engine'}}]"
      ]
     },
     "execution_count": 13,
     "metadata": {},
     "output_type": "execute_result"
    }
   ],
   "source": [
    "context.list_datasources()"
   ]
  },
  {
   "cell_type": "markdown",
   "id": "5ff734a9",
   "metadata": {},
   "source": [
    "## Creazione della Suite\n",
    "Dopo aver configurato la data source creaimo le suite e le aspettive"
   ]
  },
  {
   "cell_type": "code",
   "execution_count": 14,
   "id": "dffabb53",
   "metadata": {},
   "outputs": [
    {
     "name": "stdout",
     "output_type": "stream",
     "text": [
      "2023-02-08T19:55:21+0000 - INFO - FileDataContext loading zep config\n",
      "2023-02-08T19:55:21+0000 - INFO - GxConfig.parse_yaml() failed with errors - [{'loc': ('xdatasources',), 'msg': 'field required', 'type': 'value_error.missing'}]\n",
      "2023-02-08T19:55:21+0000 - INFO - GxConfig.parse_yaml() returning empty `xdatasources`\n",
      "2023-02-08T19:55:21+0000 - INFO - Loading 'datasources' ->\n",
      "{}\n",
      "2023-02-08T19:55:21+0000 - INFO - Loaded 'datasources' ->\n",
      "{}\n",
      "2023-02-08T19:55:21+0000 - INFO - Usage statistics is disabled; skipping initialization.\n",
      "Loaded ExpectationSuite \"Main\" containing 4 expectations.\n"
     ]
    }
   ],
   "source": [
    "context = gx.get_context()\n",
    "\n",
    "\n",
    "# Feel free to change the name of your suite here. Renaming this will not remove the other one.\n",
    "#expectation_suite_name = \"Main\"\n",
    "try:\n",
    "    suite = context.get_expectation_suite(expectation_suite_name=expectation_suite_name)\n",
    "    print(f'Loaded ExpectationSuite \"{suite.expectation_suite_name}\" containing {len(suite.expectations)} expectations.')\n",
    "except DataContextError:\n",
    "    suite = context.create_expectation_suite(expectation_suite_name=expectation_suite_name)\n",
    "    print(f'Created ExpectationSuite \"{suite.expectation_suite_name}\".')"
   ]
  },
  {
   "cell_type": "markdown",
   "id": "a376791d",
   "metadata": {},
   "source": [
    "### 1 Table Expectation"
   ]
  },
  {
   "cell_type": "markdown",
   "id": "05cfe379",
   "metadata": {},
   "source": [
    "#### Questa Expectation verifica che le colonne nella tabella abbiano questo ordine\n",
    "- company\n",
    "- job_title\n",
    "- location\n",
    "- company_rating\n",
    "- job_age\n",
    "- job_link\n",
    "- Sedeentrale'\n",
    "- Dimensioni\n",
    "- Fondatael'\n",
    "- Tipo\n",
    "- Entrate\n",
    "- Opportunitài carriera'\n",
    "- Stipendio benefit'\n",
    "- Cultura valori'\n",
    "- Dirigentienior'\n",
    "- Equilibrioavoro/vita privata'\n",
    "- Settore\n",
    "- Segmento"
   ]
  },
  {
   "cell_type": "code",
   "execution_count": 15,
   "id": "41680a8d",
   "metadata": {},
   "outputs": [
    {
     "data": {
      "text/plain": [
       "{\"meta\": {\"notes\": {\"format\": \"markdown\", \"content\": \"\"}}, \"expectation_type\": \"expect_table_columns_to_match_ordered_list\", \"kwargs\": {\"column_list\": [\"company\", \"job_title\", \"location\", \"company_rating\", \"job_age\", \"job_link\", \"Sede centrale\", \"Dimensioni\", \"Fondata nel\", \"Tipo\", \"Entrate\", \"Opportunit\\u00e0 di carriera\", \"Stipendio e benefit\", \"Cultura e valori\", \"Dirigenti senior\", \"Equilibrio lavoro/vita privata\", \"Settore\", \"Segmento\"]}}"
      ]
     },
     "execution_count": 15,
     "metadata": {},
     "output_type": "execute_result"
    }
   ],
   "source": [
    "# Create an Expectation\n",
    "expectation_configuration = ExpectationConfiguration(\n",
    "   # Name of expectation type being added\n",
    "   expectation_type=\"expect_table_columns_to_match_ordered_list\",\n",
    "   # These are the arguments of the expectation\n",
    "   # The keys allowed in the dictionary are Parameters and\n",
    "   # Keyword Arguments of this Expectation Type\n",
    "   kwargs={\n",
    "      \"column_list\": [\n",
    "                    'company',\n",
    "                    'job_title',\n",
    "                    'location',\n",
    "                    'company_rating',\n",
    "                    'job_age',\n",
    "                    'job_link',\n",
    "                    'Sede centrale',\n",
    "                    'Dimensioni',\n",
    "                    'Fondata nel',\n",
    "                    'Tipo',\n",
    "                    'Entrate',\n",
    "                    'Opportunità di carriera',\n",
    "                    'Stipendio e benefit',\n",
    "                    'Cultura e valori',\n",
    "                    'Dirigenti senior',\n",
    "                    'Equilibrio lavoro/vita privata',\n",
    "                    'Settore',\n",
    "                    'Segmento']\n",
    "   },\n",
    "   # This is how you can optionally add a comment about this expectation.\n",
    "   # It will be rendered in Data Docs.\n",
    "   # See this guide for details:\n",
    "   # `How to add comments to Expectations and display them in Data Docs`.\n",
    "   meta={\n",
    "      \"notes\": {\n",
    "         \"format\": \"markdown\",\n",
    "         \"content\": \"\"\n",
    "      }\n",
    "   }\n",
    ")\n",
    "# Add the Expectation to the suite\n",
    "suite.add_expectation(expectation_configuration=expectation_configuration)"
   ]
  },
  {
   "cell_type": "markdown",
   "id": "b42eeea1",
   "metadata": {},
   "source": [
    "### 2. Column Expectation"
   ]
  },
  {
   "cell_type": "markdown",
   "id": "b4883fb3",
   "metadata": {},
   "source": [
    "#### Company"
   ]
  },
  {
   "cell_type": "markdown",
   "id": "15bab990",
   "metadata": {},
   "source": [
    "##### company  \n",
    "    Questa Expectation verifica che la colonna company sia di tipo stringa"
   ]
  },
  {
   "cell_type": "code",
   "execution_count": 16,
   "id": "58e51acb",
   "metadata": {},
   "outputs": [
    {
     "data": {
      "text/plain": [
       "{\"meta\": {}, \"expectation_type\": \"expect_column_values_to_be_in_type_list\", \"kwargs\": {\"column\": \"company\", \"type_list\": [\"str\"]}}"
      ]
     },
     "execution_count": 16,
     "metadata": {},
     "output_type": "execute_result"
    }
   ],
   "source": [
    "expectation_configuration = ExpectationConfiguration(\n",
    "   expectation_type=\"expect_column_values_to_be_in_type_list\",\n",
    "   kwargs={\n",
    "        \"column\": \"company\",\n",
    "      \"type_list\": ['str'],\n",
    "   },\n",
    "   # Note optional comments omitted\n",
    ")\n",
    "suite.add_expectation(expectation_configuration=expectation_configuration)"
   ]
  },
  {
   "cell_type": "markdown",
   "id": "4d598d52",
   "metadata": {},
   "source": [
    "##### company  \n",
    "    Questa Expectation verifica che la colonna company non sia MAI nulla"
   ]
  },
  {
   "cell_type": "code",
   "execution_count": 17,
   "id": "de0b9cc7",
   "metadata": {},
   "outputs": [
    {
     "data": {
      "text/plain": [
       "{\"meta\": {}, \"expectation_type\": \"expect_column_values_to_not_be_null\", \"kwargs\": {\"column\": \"company\"}}"
      ]
     },
     "execution_count": 17,
     "metadata": {},
     "output_type": "execute_result"
    }
   ],
   "source": [
    "expectation_configuration = ExpectationConfiguration(\n",
    "   expectation_type=\"expect_column_values_to_not_be_null\",\n",
    "   kwargs={\n",
    "      \"column\": \"company\",\n",
    "   },\n",
    "   # Note optional comments omitted\n",
    ")\n",
    "suite.add_expectation(expectation_configuration=expectation_configuration)"
   ]
  },
  {
   "cell_type": "markdown",
   "id": "f48bcc84",
   "metadata": {},
   "source": [
    "##### company  \n",
    "    Questa Expectation verifica che la colonna company non sia MAI valorizzata con i numeri che vanno da 1 a 10"
   ]
  },
  {
   "cell_type": "code",
   "execution_count": 18,
   "id": "409bada7",
   "metadata": {},
   "outputs": [
    {
     "data": {
      "text/plain": [
       "{\"meta\": {}, \"expectation_type\": \"expect_column_values_to_not_be_in_set\", \"kwargs\": {\"column\": \"company\", \"value_set\": [1, 2, 3, 4, 5, 6, 7, 8, 9, 10]}}"
      ]
     },
     "execution_count": 18,
     "metadata": {},
     "output_type": "execute_result"
    }
   ],
   "source": [
    "expectation_configuration = ExpectationConfiguration(\n",
    "   expectation_type=\"expect_column_values_to_not_be_in_set\",\n",
    "   kwargs={\n",
    "      \"column\": \"company\",\n",
    "      \"value_set\": [1,2,3,4,5,6,7,8,9,10]\n",
    "   },\n",
    "   # Note optional comments omitted\n",
    ")\n",
    "suite.add_expectation(expectation_configuration=expectation_configuration)"
   ]
  },
  {
   "cell_type": "code",
   "execution_count": null,
   "id": "1e4527d4",
   "metadata": {},
   "outputs": [],
   "source": []
  },
  {
   "cell_type": "markdown",
   "id": "74ffa1f8",
   "metadata": {},
   "source": [
    "### Salvataggio delle suite e creazione della documentazione\n",
    "rimuovere il commento dalla prima riga per la costruzione della suite"
   ]
  },
  {
   "cell_type": "code",
   "execution_count": 19,
   "id": "048cd21e",
   "metadata": {},
   "outputs": [],
   "source": [
    "# print(context.get_expectation_suite(expectation_suite_name=expectation_suite_name))\n",
    "context.save_expectation_suite(expectation_suite=suite, expectation_suite_name=expectation_suite_name)\n",
    "\n",
    "suite_identifier = ExpectationSuiteIdentifier(expectation_suite_name=expectation_suite_name)\n",
    "context.build_data_docs(resource_identifiers=[suite_identifier])\n",
    "context.open_data_docs(resource_identifier=suite_identifier)"
   ]
  },
  {
   "cell_type": "markdown",
   "id": "1299fd26",
   "metadata": {},
   "source": [
    "### Apri questo link per vedere le expectations create"
   ]
  },
  {
   "cell_type": "code",
   "execution_count": 20,
   "id": "7b58023e",
   "metadata": {},
   "outputs": [
    {
     "name": "stdout",
     "output_type": "stream",
     "text": [
      "http://localhost:9000/view/great_expectations/uncommitted/data_docs/local_site/expectations/Main.html\n"
     ]
    }
   ],
   "source": [
    "print('http://localhost:9000/view/great_expectations/uncommitted/data_docs/local_site/expectations/'+ expectation_suite_name +'.html')"
   ]
  },
  {
   "cell_type": "markdown",
   "id": "327d6aed",
   "metadata": {},
   "source": [
    "Se non si sta utilizzando il notebook dal docker si può arrivare al sito tramite il percorso 'great_expectations\\uncommitted\\data_docs\\local_site'"
   ]
  },
  {
   "cell_type": "markdown",
   "id": "1a586ad7",
   "metadata": {},
   "source": [
    "## Creazione di un checkpoint"
   ]
  },
  {
   "cell_type": "code",
   "execution_count": 21,
   "id": "9bcac569",
   "metadata": {},
   "outputs": [],
   "source": [
    "## checkpoint\n",
    "yaml = YAML()"
   ]
  },
  {
   "cell_type": "code",
   "execution_count": 22,
   "id": "f136b6c7",
   "metadata": {},
   "outputs": [],
   "source": [
    "my_checkpoint_name = \"main_checkpoint\" # This was populated from your CLI command.\n",
    "\n",
    "yaml_config = f\"\"\"\n",
    "name: {my_checkpoint_name}\n",
    "config_version: 1.0\n",
    "class_name: SimpleCheckpoint\n",
    "run_name_template: \"%Y%m%d-%H%M%S-{data_asset_name}\"\n",
    "validations:\n",
    "  - batch_request:\n",
    "      datasource_name: glassdoor_scraping \n",
    "      data_connector_name: all\n",
    "      data_asset_name: {data_asset_name}\n",
    "      data_connector_query:\n",
    "        index: -1\n",
    "    expectation_suite_name: Main\n",
    "\"\"\""
   ]
  },
  {
   "cell_type": "code",
   "execution_count": 23,
   "id": "8944b051",
   "metadata": {},
   "outputs": [
    {
     "name": "stdout",
     "output_type": "stream",
     "text": [
      "{'glassdoor_scraping': {'all': ['scraping_all_londra_job_080223',\n",
      "                                'scraping_all_londra_080223',\n",
      "                                'scraping_all_amsterdam_job_template',\n",
      "                                'scraping_all_londra_company_080223',\n",
      "                                'scraping_all_amsterdam_company_template',\n",
      "                                'scraping_all_amsterdam_template']}}\n"
     ]
    }
   ],
   "source": [
    "# Run this cell to print out the names of your Datasources, Data Connectors and Data Assets\n",
    "pprint(context.get_available_data_asset_names())"
   ]
  },
  {
   "cell_type": "code",
   "execution_count": 24,
   "id": "28bced6e",
   "metadata": {},
   "outputs": [
    {
     "data": {
      "text/plain": [
       "['Main']"
      ]
     },
     "execution_count": 24,
     "metadata": {},
     "output_type": "execute_result"
    }
   ],
   "source": [
    "context.list_expectation_suite_names()"
   ]
  },
  {
   "cell_type": "code",
   "execution_count": 25,
   "id": "360c0a5e",
   "metadata": {},
   "outputs": [
    {
     "name": "stdout",
     "output_type": "stream",
     "text": [
      "Attempting to instantiate class from config...\n",
      "\tInstantiating as a SimpleCheckpoint, since class_name is SimpleCheckpoint\n",
      "\tSuccessfully instantiated SimpleCheckpoint\n",
      "\n",
      "\n",
      "Checkpoint class name: SimpleCheckpoint\n"
     ]
    }
   ],
   "source": [
    "main_checkpoint = context.test_yaml_config(yaml_config=yaml_config)"
   ]
  },
  {
   "cell_type": "code",
   "execution_count": 26,
   "id": "407ddd9d",
   "metadata": {
    "scrolled": false
   },
   "outputs": [],
   "source": [
    "#print(main_checkpoint.get_config(mode=\"yaml\"))"
   ]
  },
  {
   "cell_type": "code",
   "execution_count": 27,
   "id": "e716b81e",
   "metadata": {},
   "outputs": [
    {
     "data": {
      "text/plain": [
       "['main_checkpoint']"
      ]
     },
     "execution_count": 27,
     "metadata": {},
     "output_type": "execute_result"
    }
   ],
   "source": [
    "# aggiungere un checkpoint\n",
    "# se il checkpoint è già presente verrà sovrascritto\n",
    "context.add_checkpoint(**yaml.load(yaml_config))\n",
    "context.list_checkpoints()"
   ]
  },
  {
   "cell_type": "markdown",
   "id": "048a9712",
   "metadata": {},
   "source": [
    "[Come aggiungere dati o suite di convalida a un Checkpoint](https://docs.greatexpectations.io/docs/guides/validation/checkpoints/how_to_add_validations_data_or_suites_to_a_checkpoint"
   ]
  },
  {
   "cell_type": "code",
   "execution_count": 28,
   "id": "7f476abb",
   "metadata": {},
   "outputs": [
    {
     "name": "stdout",
     "output_type": "stream",
     "text": [
      "2023-02-08T19:55:22+0000 - INFO - \t4 expectation(s) included in expectation_suite.\n"
     ]
    },
    {
     "data": {
      "application/vnd.jupyter.widget-view+json": {
       "model_id": "31adb2a879264729bee0c3f26bbc26d2",
       "version_major": 2,
       "version_minor": 0
      },
      "text/plain": [
       "Calculating Metrics:   0%|          | 0/18 [00:00<?, ?it/s]"
      ]
     },
     "metadata": {},
     "output_type": "display_data"
    }
   ],
   "source": [
    "try:\n",
    "    results = context.run_checkpoint(\n",
    "        checkpoint_name=\"main_checkpoint\",\n",
    "        expectation_suite_name = 'Main'\n",
    "    )\n",
    "except:\n",
    "    print('ko')"
   ]
  },
  {
   "cell_type": "code",
   "execution_count": 29,
   "id": "8260f167",
   "metadata": {},
   "outputs": [],
   "source": [
    "# A questo punto la validazione è completata, puoi consultare i risultati"
   ]
  },
  {
   "cell_type": "code",
   "execution_count": 30,
   "id": "8d5f9eed",
   "metadata": {},
   "outputs": [],
   "source": [
    "a = re.findall('[0-9]{8}-[0-9]{6}-' + data_asset_name + '/[0-9]{8}T[0-9]{6}.[0-9]{6}Z/[\\S]{32}', str(list(results['run_results'])[0]))[0]\n",
    "b = expectation_suite_name + '/' + a\n",
    "path = r\"../great_expectations/uncommitted/validations/\" + b + '.json'"
   ]
  },
  {
   "cell_type": "code",
   "execution_count": 31,
   "id": "b69dc732",
   "metadata": {
    "scrolled": true
   },
   "outputs": [
    {
     "name": "stdout",
     "output_type": "stream",
     "text": [
      "{'evaluation_parameters': {}, 'meta': {'active_batch_definition': {'batch_identifiers': {}, 'data_asset_name': 'scraping_all_londra_080223', 'data_connector_name': 'all', 'datasource_name': 'glassdoor_scraping'}, 'batch_markers': {'ge_load_time': '20230208T195522.349144Z', 'pandas_data_fingerprint': 'd88db22d02c578e9c3a63872d9728ed6'}, 'batch_spec': {'path': '/home/jovyan/great_expectations/../data/scraping_all_londra_080223.csv'}, 'checkpoint_id': None, 'checkpoint_name': 'main_checkpoint', 'expectation_suite_name': 'Main', 'great_expectations_version': '0.15.47', 'run_id': {'run_name': '20230208-195522-scraping_all_londra_080223', 'run_time': '2023-02-08T19:55:22.324469+00:00'}, 'validation_id': None, 'validation_time': '20230208T195522.376969Z'}, 'results': [{'exception_info': {'exception_message': None, 'exception_traceback': None, 'raised_exception': False}, 'expectation_config': {'expectation_type': 'expect_table_columns_to_match_ordered_list', 'kwargs': {'batch_id': '97d7545684674b50fe8cbe7c68cd9ad0', 'column_list': ['company', 'job_title', 'location', 'company_rating', 'job_age', 'job_link', 'Sede centrale', 'Dimensioni', 'Fondata nel', 'Tipo', 'Entrate', 'Opportunità di carriera', 'Stipendio e benefit', 'Cultura e valori', 'Dirigenti senior', 'Equilibrio lavoro/vita privata', 'Settore', 'Segmento']}, 'meta': {'notes': {'content': '', 'format': 'markdown'}}}, 'meta': {}, 'result': {'details': {'mismatched': [{'Expected': 'company', 'Expected Column Position': 0, 'Found': 'Unnamed: 0'}, {'Expected': 'job_title', 'Expected Column Position': 1, 'Found': 'company'}, {'Expected': 'location', 'Expected Column Position': 2, 'Found': 'job_title'}, {'Expected': 'company_rating', 'Expected Column Position': 3, 'Found': 'location'}, {'Expected': 'job_age', 'Expected Column Position': 4, 'Found': 'company_rating'}, {'Expected': 'job_link', 'Expected Column Position': 5, 'Found': 'job_age'}, {'Expected': 'Sede centrale', 'Expected Column Position': 6, 'Found': 'job_link'}, {'Expected': 'Dimensioni', 'Expected Column Position': 7, 'Found': 'Opportunità di carriera'}, {'Expected': 'Fondata nel', 'Expected Column Position': 8, 'Found': 'Stipendio e benefit'}, {'Expected': 'Tipo', 'Expected Column Position': 9, 'Found': 'Cultura e valori'}, {'Expected': 'Entrate', 'Expected Column Position': 10, 'Found': 'Dirigenti senior'}, {'Expected': 'Opportunità di carriera', 'Expected Column Position': 11, 'Found': 'Equilibrio lavoro/vita privata'}, {'Expected': 'Stipendio e benefit', 'Expected Column Position': 12, 'Found': 'Sede centrale'}, {'Expected': 'Cultura e valori', 'Expected Column Position': 13, 'Found': 'Dimensioni'}, {'Expected': 'Dirigenti senior', 'Expected Column Position': 14, 'Found': 'Fondata nel'}, {'Expected': 'Equilibrio lavoro/vita privata', 'Expected Column Position': 15, 'Found': 'Tipo'}, {'Expected': None, 'Expected Column Position': 18, 'Found': 'Entrate'}]}, 'observed_value': ['Unnamed: 0', 'company', 'job_title', 'location', 'company_rating', 'job_age', 'job_link', 'Opportunità di carriera', 'Stipendio e benefit', 'Cultura e valori', 'Dirigenti senior', 'Equilibrio lavoro/vita privata', 'Sede centrale', 'Dimensioni', 'Fondata nel', 'Tipo', 'Settore', 'Segmento', 'Entrate']}, 'success': False}, {'exception_info': {'exception_message': None, 'exception_traceback': None, 'raised_exception': False}, 'expectation_config': {'expectation_type': 'expect_column_values_to_be_in_type_list', 'kwargs': {'batch_id': '97d7545684674b50fe8cbe7c68cd9ad0', 'column': 'company', 'type_list': ['str']}, 'meta': {}}, 'meta': {}, 'result': {'element_count': 900, 'missing_count': 0, 'missing_percent': 0.0, 'partial_unexpected_counts': [], 'partial_unexpected_index_list': [], 'partial_unexpected_list': [], 'unexpected_count': 0, 'unexpected_percent': 0.0, 'unexpected_percent_nonmissing': 0.0, 'unexpected_percent_total': 0.0}, 'success': True}, {'exception_info': {'exception_message': None, 'exception_traceback': None, 'raised_exception': False}, 'expectation_config': {'expectation_type': 'expect_column_values_to_not_be_null', 'kwargs': {'batch_id': '97d7545684674b50fe8cbe7c68cd9ad0', 'column': 'company'}, 'meta': {}}, 'meta': {}, 'result': {'element_count': 900, 'partial_unexpected_counts': [], 'partial_unexpected_index_list': [], 'partial_unexpected_list': [], 'unexpected_count': 0, 'unexpected_percent': 0.0}, 'success': True}, {'exception_info': {'exception_message': None, 'exception_traceback': None, 'raised_exception': False}, 'expectation_config': {'expectation_type': 'expect_column_values_to_not_be_in_set', 'kwargs': {'batch_id': '97d7545684674b50fe8cbe7c68cd9ad0', 'column': 'company', 'value_set': [1, 2, 3, 4, 5, 6, 7, 8, 9, 10]}, 'meta': {}}, 'meta': {}, 'result': {'element_count': 900, 'missing_count': 0, 'missing_percent': 0.0, 'partial_unexpected_counts': [], 'partial_unexpected_index_list': [], 'partial_unexpected_list': [], 'unexpected_count': 0, 'unexpected_percent': 0.0, 'unexpected_percent_nonmissing': 0.0, 'unexpected_percent_total': 0.0}, 'success': True}], 'statistics': {'evaluated_expectations': 4, 'success_percent': 75.0, 'successful_expectations': 3, 'unsuccessful_expectations': 1}, 'success': False}\n"
     ]
    }
   ],
   "source": [
    "## potrebbe essere interessante parsarlo in un dataframe per avere i risultati come dati tabellari\n",
    "import json\n",
    "\n",
    "with open(path, \"r\") as read_file:\n",
    "    data = json.load(read_file)\n",
    "\n",
    "print(data)"
   ]
  },
  {
   "cell_type": "markdown",
   "id": "3cfade0d",
   "metadata": {},
   "source": [
    "### Apri questo link per vedere le expectations create"
   ]
  },
  {
   "cell_type": "code",
   "execution_count": 32,
   "id": "db533c2e",
   "metadata": {},
   "outputs": [
    {
     "name": "stdout",
     "output_type": "stream",
     "text": [
      "http://localhost:9000/view/great_expectations/uncommitted/data_docs/local_site/expectations/Main.html\n"
     ]
    }
   ],
   "source": [
    "print('http://localhost:9000/view/great_expectations/uncommitted/data_docs/local_site/expectations/'+ expectation_suite_name +'.html')"
   ]
  },
  {
   "cell_type": "markdown",
   "id": "6ed863e2",
   "metadata": {},
   "source": [
    "### Se non stai usando docker vai in questo path "
   ]
  },
  {
   "cell_type": "code",
   "execution_count": 33,
   "id": "28047781",
   "metadata": {},
   "outputs": [
    {
     "name": "stdout",
     "output_type": "stream",
     "text": [
      "great_expectations/uncommitted/data_docs/local_site/expectations/Main.html\n"
     ]
    }
   ],
   "source": [
    "print(\"great_expectations/uncommitted/data_docs/local_site/expectations/\"+ expectation_suite_name +'.html')"
   ]
  },
  {
   "cell_type": "markdown",
   "id": "1a0e1642",
   "metadata": {},
   "source": [
    "### Apri questo link per vedere i risultati\n"
   ]
  },
  {
   "cell_type": "code",
   "execution_count": 34,
   "id": "feb37384",
   "metadata": {
    "scrolled": true
   },
   "outputs": [
    {
     "name": "stdout",
     "output_type": "stream",
     "text": [
      "http://localhost:9000/view/great_expectations/uncommitted/data_docs/local_site/validations/Main/20230208-195522-scraping_all_londra_080223/20230208T195522.324469Z/97d7545684674b50fe8cbe7c68cd9ad0.html\n"
     ]
    }
   ],
   "source": [
    "print( \"http://localhost:9000/view/great_expectations/uncommitted/data_docs/local_site/validations/\" + b + '.html')"
   ]
  },
  {
   "cell_type": "markdown",
   "id": "52bbcf60",
   "metadata": {},
   "source": [
    "### Se non stai usando docker vai in questo path "
   ]
  },
  {
   "cell_type": "code",
   "execution_count": 35,
   "id": "8f291378",
   "metadata": {},
   "outputs": [
    {
     "name": "stdout",
     "output_type": "stream",
     "text": [
      "great_expectations/uncommitted/data_docs/local_site/validations/Main/20230208-195522-scraping_all_londra_080223/20230208T195522.324469Z/97d7545684674b50fe8cbe7c68cd9ad0.html\n"
     ]
    }
   ],
   "source": [
    "print(\"great_expectations/uncommitted/data_docs/local_site/validations/\" + b + '.html')"
   ]
  }
 ],
 "metadata": {
  "kernelspec": {
   "display_name": "Python 3 (ipykernel)",
   "language": "python",
   "name": "python3"
  },
  "language_info": {
   "codemirror_mode": {
    "name": "ipython",
    "version": 3
   },
   "file_extension": ".py",
   "mimetype": "text/x-python",
   "name": "python",
   "nbconvert_exporter": "python",
   "pygments_lexer": "ipython3",
   "version": "3.10.8"
  }
 },
 "nbformat": 4,
 "nbformat_minor": 5
}
