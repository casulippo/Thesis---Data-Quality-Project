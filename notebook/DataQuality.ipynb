{
 "cells": [
  {
   "cell_type": "markdown",
   "id": "4dbe9c58",
   "metadata": {},
   "source": [
    "# Data Quality con Great Expectations"
   ]
  },
  {
   "cell_type": "code",
   "execution_count": null,
   "id": "890ba078",
   "metadata": {},
   "outputs": [],
   "source": [
    "#! pip install great_expectations"
   ]
  },
  {
   "cell_type": "code",
   "execution_count": null,
   "id": "f03c8fb5",
   "metadata": {},
   "outputs": [],
   "source": [
    "import os\n",
    "import sys\n",
    "import pandas as pd\n",
    "import datetime\n",
    "from datetime import date\n",
    "import re\n",
    "from ruamel import yaml\n",
    "from ruamel.yaml import YAML\n",
    "sys.path.append('../../')\n",
    "\n",
    "## Ge\n",
    "import great_expectations as gx\n",
    "import great_expectations as gx\n",
    "import great_expectations.jupyter_ux\n",
    "from great_expectations.cli.datasource import sanitize_yaml_and_save_datasource, check_if_datasource_name_exists\n",
    "from great_expectations.core.batch import RuntimeBatchRequest\n",
    "from great_expectations.core.expectation_configuration import ExpectationConfiguration\n",
    "from great_expectations.data_context.types.resource_identifiers import ExpectationSuiteIdentifier\n",
    "from great_expectations.exceptions import DataContextError\n",
    "from great_expectations.checkpoint.types.checkpoint_result import CheckpointResult\n",
    "\n",
    "\n",
    "from pprint import pprint\n",
    "\n",
    "\n"
   ]
  },
  {
   "cell_type": "markdown",
   "id": "de564720",
   "metadata": {},
   "source": [
    "## Data Quality \n",
    "\n",
    "Dopo aver completato la fase di Data Ingestion tramite lo scraping il secondo step è quello di valutare la qualità dei dati raccolti.  \n",
    "Il dataframe studiato presenta 18 colonne. Ogni colonna presenta delle differenze dalle altre e ci si aspetta determinati valori da queste.\n",
    "\n",
    "Dopo aver settato:\n",
    "1. la datasource\n",
    "2. suite (e le relative expectations)\n",
    "3. il checkpoint\n",
    "\n",
    "Si condurrà una validazione del sample"
   ]
  },
  {
   "cell_type": "code",
   "execution_count": null,
   "id": "d95d9eb0",
   "metadata": {},
   "outputs": [],
   "source": []
  },
  {
   "cell_type": "code",
   "execution_count": null,
   "id": "aedef09f",
   "metadata": {},
   "outputs": [],
   "source": []
  },
  {
   "cell_type": "code",
   "execution_count": null,
   "id": "a9385bba",
   "metadata": {},
   "outputs": [],
   "source": [
    "path = '../data'\n",
    "data_asset_name  = 'scraping_all_20230216'\n",
    "\n",
    "file_name = data_asset_name +'.csv'\n",
    "\n",
    "expectation_suite_name = 'Main'\n",
    "print(file_name)\n",
    "\n",
    "df_append = pd.read_csv(path + '/' + file_name )"
   ]
  },
  {
   "cell_type": "markdown",
   "id": "3ce4b92c",
   "metadata": {},
   "source": [
    "## Istruzioni operative\n",
    "E' necessario dichiare il data_asset_name e la expectation_suite_name che si vuole utilizzare"
   ]
  },
  {
   "cell_type": "code",
   "execution_count": null,
   "id": "d073d071",
   "metadata": {
    "scrolled": false
   },
   "outputs": [],
   "source": [
    "context = gx.get_context()"
   ]
  },
  {
   "cell_type": "markdown",
   "id": "159591fd",
   "metadata": {},
   "source": [
    "## Configurazione della datasource "
   ]
  },
  {
   "cell_type": "code",
   "execution_count": null,
   "id": "614a11f4",
   "metadata": {},
   "outputs": [],
   "source": [
    "datasource_config: dict = {\n",
    "    \"name\": \"glassdoor_scraping\",\n",
    "    \"class_name\": \"Datasource\",\n",
    "    \"module_name\": \"great_expectations.datasource\",\n",
    "    \"execution_engine\": {\n",
    "        \"class_name\": \"PandasExecutionEngine\",\n",
    "        \"module_name\": \"great_expectations.execution_engine\",\n",
    "    },\n",
    "     \"data_connectors\": {\n",
    "        \"all\": {\n",
    "            \"class_name\": \"InferredAssetFilesystemDataConnector\",\n",
    "            \"base_directory\": \"../data\",\n",
    "            \"default_regex\": {\"pattern\": \"(.*)\\\\.csv\",\n",
    "            \"group_names\": [\"data_asset_name\"]},\n",
    "            #\"batch_spec_passthrough\": {\n",
    "            #    \"reader_method\": \"read_csv\",\n",
    "            #    \"reader_options\": {\n",
    "            #        \"header\": True,\n",
    "            #        \"inferSchema\": True,\n",
    "            #    },\n",
    "            #},\n",
    "        }\n",
    "    },\n",
    "}"
   ]
  },
  {
   "cell_type": "code",
   "execution_count": null,
   "id": "b80f30bc",
   "metadata": {},
   "outputs": [],
   "source": [
    "#check configurazione\n",
    "context.test_yaml_config(yaml.dump(datasource_config))"
   ]
  },
  {
   "cell_type": "code",
   "execution_count": null,
   "id": "f9da15c6",
   "metadata": {},
   "outputs": [],
   "source": [
    "## try to add\n",
    "try:\n",
    "    context.get_datasource(datasource_config[\"name\"])\n",
    "except ValueError:\n",
    "    context.add_datasource(**datasource_config)\n",
    "else:\n",
    "    print(\n",
    "        f\"The datasource {datasource_config['name']} already exists in your Data Context!\"\n",
    "    )"
   ]
  },
  {
   "cell_type": "code",
   "execution_count": null,
   "id": "01028d79",
   "metadata": {},
   "outputs": [],
   "source": [
    "# context.add_datasource(**datasource_config) # usa questo comando per sovrascrive la data source "
   ]
  },
  {
   "cell_type": "code",
   "execution_count": null,
   "id": "307f3a99",
   "metadata": {},
   "outputs": [],
   "source": [
    "context.list_datasources()"
   ]
  },
  {
   "cell_type": "markdown",
   "id": "5ff734a9",
   "metadata": {},
   "source": [
    "## Creazione della Suite\n",
    "Dopo aver configurato la data source creaimo le suite e le aspettive\n",
    "[Galleria delle expectations](https://greatexpectations.io/expectations/)"
   ]
  },
  {
   "cell_type": "code",
   "execution_count": null,
   "id": "dffabb53",
   "metadata": {},
   "outputs": [],
   "source": [
    "context = gx.get_context()\n",
    "\n",
    "\n",
    "# Feel free to change the name of your suite here. Renaming this will not remove the other one.\n",
    "#expectation_suite_name = \"Main\"\n",
    "try:\n",
    "    suite = context.get_expectation_suite(expectation_suite_name=expectation_suite_name)\n",
    "    print(f'Loaded ExpectationSuite \"{suite.expectation_suite_name}\" containing {len(suite.expectations)} expectations.')\n",
    "except DataContextError:\n",
    "    suite = context.create_expectation_suite(expectation_suite_name=expectation_suite_name)\n",
    "    print(f'Created ExpectationSuite \"{suite.expectation_suite_name}\".')"
   ]
  },
  {
   "cell_type": "markdown",
   "id": "a376791d",
   "metadata": {},
   "source": [
    "## 1 Table Expectation"
   ]
  },
  {
   "cell_type": "markdown",
   "id": "05cfe379",
   "metadata": {},
   "source": [
    "#### Questa Expectation verifica che le colonne nella tabella abbiano questo ordine\n",
    "- company\n",
    "- job_title\n",
    "- location\n",
    "- company_rating\n",
    "- job_age\n",
    "- job_link\n",
    "- Sedeentrale'\n",
    "- Dimensioni\n",
    "- Fondatael'\n",
    "- Tipo\n",
    "- Entrate\n",
    "- Opportunitài carriera'\n",
    "- Stipendio benefit'\n",
    "- Cultura valori'\n",
    "- Dirigentienior'\n",
    "- Equilibrioavoro/vita privata'\n",
    "- Settore\n",
    "- Segmento\n",
    "- scraping_date"
   ]
  },
  {
   "cell_type": "code",
   "execution_count": null,
   "id": "41680a8d",
   "metadata": {},
   "outputs": [],
   "source": [
    "# Create an Expectation\n",
    "expectation_configuration = ExpectationConfiguration(\n",
    "   # Name of expectation type being added\n",
    "   expectation_type=\"expect_table_columns_to_match_ordered_list\",\n",
    "   # These are the arguments of the expectation\n",
    "   # The keys allowed in the dictionary are Parameters and\n",
    "   # Keyword Arguments of this Expectation Type\n",
    "   kwargs={\n",
    "      \"column_list\": ['company',\n",
    "                     'job_title',\n",
    "                     'location',\n",
    "                     'company_rating',\n",
    "                     'job_age',\n",
    "                     'job_link',\n",
    "                     'run_date',\n",
    "                     'oppurtunita_carriera',\n",
    "                     'stipendio_e_benefit',\n",
    "                     'cultura_e_valori',\n",
    "                     'dirigenti_senior',\n",
    "                     'equilibrio_lavoro_vita_privata',\n",
    "                     'sede_centrale',\n",
    "                     'dimensioni',\n",
    "                     'tipo',\n",
    "                     'entrate',\n",
    "                     'fondata_nel',\n",
    "                     'settore',\n",
    "                     'segmento',\n",
    "                     'scraping_date']\n",
    "   },\n",
    "   # This is how you can optionally add a comment about this expectation.\n",
    "   # It will be rendered in Data Docs.\n",
    "   # See this guide for details:\n",
    "   # `How to add comments to Expectations and display them in Data Docs`.\n",
    "   meta={\n",
    "      \"notes\": {\n",
    "         \"format\": \"markdown\",\n",
    "         \"content\": \"\"\n",
    "      }\n",
    "   }\n",
    ")\n",
    "# Add the Expectation to the suite\n",
    "suite.add_expectation(expectation_configuration=expectation_configuration)"
   ]
  },
  {
   "cell_type": "markdown",
   "id": "b42eeea1",
   "metadata": {},
   "source": [
    "## 2. Column Expectation"
   ]
  },
  {
   "cell_type": "markdown",
   "id": "b4883fb3",
   "metadata": {},
   "source": [
    "### Company"
   ]
  },
  {
   "cell_type": "markdown",
   "id": "15bab990",
   "metadata": {},
   "source": [
    "##### company  \n",
    "    Questa Expectation verifica che la colonna sia di tipo stringa"
   ]
  },
  {
   "cell_type": "code",
   "execution_count": null,
   "id": "58e51acb",
   "metadata": {},
   "outputs": [],
   "source": [
    "expectation_configuration = ExpectationConfiguration(\n",
    "   expectation_type=\"expect_column_values_to_be_in_type_list\",\n",
    "   kwargs={\n",
    "        \"column\": \"company\",\n",
    "      \"type_list\": ['str'],\n",
    "   },\n",
    "   # Note optional comments omitted\n",
    ")\n",
    "suite.add_expectation(expectation_configuration=expectation_configuration)"
   ]
  },
  {
   "cell_type": "markdown",
   "id": "62b2667f",
   "metadata": {},
   "source": [
    "### Job Title"
   ]
  },
  {
   "cell_type": "markdown",
   "id": "3e197ebc",
   "metadata": {},
   "source": [
    "##### job_title  \n",
    "    Questa Expectation verifica che la colonna si di tipo stringa"
   ]
  },
  {
   "cell_type": "code",
   "execution_count": null,
   "id": "4c9ada2d",
   "metadata": {},
   "outputs": [],
   "source": [
    "expectation_configuration = ExpectationConfiguration(\n",
    "   expectation_type=\"expect_column_values_to_be_in_type_list\",\n",
    "   kwargs={\n",
    "        \"column\": \"job_title\",\n",
    "      \"type_list\": ['str'],\n",
    "   },\n",
    "   # Note optional comments omitted\n",
    ")\n",
    "suite.add_expectation(expectation_configuration=expectation_configuration)"
   ]
  },
  {
   "cell_type": "markdown",
   "id": "2a42ab44",
   "metadata": {},
   "source": [
    "### Tutte le colonne"
   ]
  },
  {
   "cell_type": "markdown",
   "id": "2bdfb5e7",
   "metadata": {},
   "source": [
    "##### All_columns\n",
    "    Questa Expectation verifica che le colonne non siano mai nulle"
   ]
  },
  {
   "cell_type": "code",
   "execution_count": null,
   "id": "370a11a6",
   "metadata": {},
   "outputs": [],
   "source": [
    "columns = list(df_append.columns)\n",
    "for e in columns:\n",
    "    \n",
    "    expectation_configuration = ExpectationConfiguration(\n",
    "       expectation_type=\"expect_column_values_to_not_be_null\",\n",
    "       kwargs={\n",
    "          \"column\": e,\n",
    "       },\n",
    "       # Note optional comments omitted\n",
    "    )\n",
    "    suite.add_expectation(expectation_configuration=expectation_configuration)"
   ]
  },
  {
   "cell_type": "markdown",
   "id": "6e7f2765",
   "metadata": {},
   "source": [
    "### Colonne di tipo stringa"
   ]
  },
  {
   "cell_type": "markdown",
   "id": "97d53113",
   "metadata": {},
   "source": [
    "##### string_columns\n",
    "    Questa Expectation verifica che le colonne di tipo stringa siano stringhe"
   ]
  },
  {
   "cell_type": "code",
   "execution_count": null,
   "id": "43a8b246",
   "metadata": {},
   "outputs": [],
   "source": [
    "string_columns = [\n",
    "    'company', 'job_title', 'location', 'job_age',\n",
    "       'job_link', 'sede_centrale', 'dimensioni', 'tipo', 'settore', 'segmento', 'entrate']\n",
    "\n",
    "for e in string_columns:\n",
    "    \n",
    "    expectation_configuration = ExpectationConfiguration(\n",
    "       expectation_type=\"expect_column_values_to_be_in_type_list\",\n",
    "       kwargs={\n",
    "            \"column\": e,\n",
    "          \"type_list\": ['str'],\n",
    "       },\n",
    "       # Note optional comments omitted\n",
    "    )\n",
    "    suite.add_expectation(expectation_configuration=expectation_configuration)"
   ]
  },
  {
   "cell_type": "markdown",
   "id": "37cc41a3",
   "metadata": {},
   "source": [
    "### Colonne di tipo float"
   ]
  },
  {
   "cell_type": "markdown",
   "id": "627ffcf1",
   "metadata": {},
   "source": [
    "##### float_columns\n",
    "    Questa Expectation verifica che le colonne di tipo float siano float"
   ]
  },
  {
   "cell_type": "code",
   "execution_count": null,
   "id": "3881f2a2",
   "metadata": {},
   "outputs": [],
   "source": [
    "columns_float = [\n",
    "        'company_rating','oppurtunita_carriera', 'stipendio_e_benefit',\n",
    "       'cultura_e_valori', 'dirigenti_senior',\n",
    "       'equilibrio_lavoro_vita_privata']\n",
    "for e in columns_float:\n",
    "    \n",
    "    expectation_configuration = ExpectationConfiguration(\n",
    "       expectation_type=\"expect_column_values_to_be_in_type_list\",\n",
    "       kwargs={\n",
    "            \"column\": e,\n",
    "          \"type_list\": ['float'],\n",
    "       },\n",
    "       # Note optional comments omitted\n",
    "    )\n",
    "    suite.add_expectation(expectation_configuration=expectation_configuration)"
   ]
  },
  {
   "cell_type": "markdown",
   "id": "757d0ebd",
   "metadata": {},
   "source": [
    "##### float_columns\n",
    "    Questa Expectation verifica che le colonne di tipo float siano valorizzati con un numero maggiore di zero"
   ]
  },
  {
   "cell_type": "code",
   "execution_count": null,
   "id": "5733a7ef",
   "metadata": {},
   "outputs": [],
   "source": [
    "for e in columns_float:\n",
    "    \n",
    "    expectation_configuration = ExpectationConfiguration(\n",
    "       expectation_type=\"expect_column_min_to_be_between\",\n",
    "       kwargs={\n",
    "            \"column\": e,\n",
    "          \"min_value\": 0,\n",
    "       },\n",
    "       # Note optional comments omitted\n",
    "    )\n",
    "    suite.add_expectation(expectation_configuration=expectation_configuration)"
   ]
  },
  {
   "cell_type": "markdown",
   "id": "7cab39b7",
   "metadata": {},
   "source": [
    "### Colonne dei rating\n",
    "Le colonne \"rating\" sono le seguenti:\n",
    "- company_rating\n",
    "- oppurtunita_carriera \n",
    "- stipendio_e_benefit\n",
    "- cultura_e_valori \n",
    "- dirigenti_senior\n",
    "- equilibrio_lavoro_vita_privata"
   ]
  },
  {
   "cell_type": "markdown",
   "id": "121f271d",
   "metadata": {},
   "source": [
    "##### rating_columns\n",
    "    Questa Expectation verifica che le colonne di tipo float siano valorizzati con un numero maggiore di zero"
   ]
  },
  {
   "cell_type": "code",
   "execution_count": null,
   "id": "5a163f65",
   "metadata": {},
   "outputs": [],
   "source": [
    "rating_columns = [\n",
    "            'company_rating', 'oppurtunita_carriera', 'stipendio_e_benefit',\n",
    "           'cultura_e_valori', 'dirigenti_senior',\n",
    "           'equilibrio_lavoro_vita_privata']\n",
    "for e in columns_float:\n",
    "    \n",
    "    expectation_configuration = ExpectationConfiguration(\n",
    "       expectation_type=\"expect_column_values_to_be_between\",\n",
    "       kwargs={\n",
    "            \"column\": e,\n",
    "            \"min_value\":0.0,\n",
    "            \"max_value\":5.0\n",
    "       },\n",
    "       # Note optional comments omitted\n",
    "    )\n",
    "    suite.add_expectation(expectation_configuration=expectation_configuration)"
   ]
  },
  {
   "cell_type": "markdown",
   "id": "dc983834",
   "metadata": {},
   "source": [
    "### fondata_nel"
   ]
  },
  {
   "cell_type": "markdown",
   "id": "da34b047",
   "metadata": {},
   "source": [
    "##### fondata_nel\n",
    "    Questa Expectation verifica che la colonna fondata_nel rispetti al regex [0-9]{4}"
   ]
  },
  {
   "cell_type": "code",
   "execution_count": null,
   "id": "e04f8426",
   "metadata": {},
   "outputs": [],
   "source": [
    "expectation_configuration = ExpectationConfiguration(\n",
    "   expectation_type=\"expect_column_values_to_match_regex\",\n",
    "   kwargs={\n",
    "        \"column\": 'fondata_nel',\n",
    "       \"regex\":\"[0-9]{4}\"\n",
    "   },\n",
    "   # Note optional comments omitted\n",
    ")\n",
    "suite.add_expectation(expectation_configuration=expectation_configuration)"
   ]
  },
  {
   "cell_type": "markdown",
   "id": "61148f2d",
   "metadata": {},
   "source": [
    "### scraping_date"
   ]
  },
  {
   "cell_type": "markdown",
   "id": "7b82501e",
   "metadata": {},
   "source": [
    "##### scraping_date\n",
    "    Questa Expectation verifica che i valori dell colonna scrapinp_date siano datetime64[ns]"
   ]
  },
  {
   "cell_type": "code",
   "execution_count": null,
   "id": "84697d74",
   "metadata": {},
   "outputs": [],
   "source": [
    "expectation_configuration = ExpectationConfiguration(\n",
    "   expectation_type=\"expect_column_values_to_be_in_type_list\",\n",
    "   kwargs={\n",
    "        \"column\": 'scraping_date',\n",
    "      \"type_list\": ['str'],\n",
    "   },\n",
    "   # Note optional comments omitted\n",
    ")\n",
    "suite.add_expectation(expectation_configuration=expectation_configuration)"
   ]
  },
  {
   "cell_type": "markdown",
   "id": "5fe7b239",
   "metadata": {},
   "source": [
    "##### scraping_date\n",
    "    Questa Expectation verifica che la colonna scraping_date rispetti il formato %Y-%m-%d\n",
    "\n"
   ]
  },
  {
   "cell_type": "code",
   "execution_count": null,
   "id": "31c3e15b",
   "metadata": {},
   "outputs": [],
   "source": [
    "expectation_configuration = ExpectationConfiguration(\n",
    "   expectation_type=\"expect_column_values_to_match_strftime_format\",\n",
    "   kwargs={\n",
    "        \"column\": 'scraping_date',\n",
    "         \"strftime_format\":\"%Y-%m-%d\"\n",
    "   },\n",
    "   # Note optional comments omitted\n",
    ")\n",
    "suite.add_expectation(expectation_configuration=expectation_configuration)"
   ]
  },
  {
   "cell_type": "markdown",
   "id": "74ffa1f8",
   "metadata": {},
   "source": [
    "### Salvataggio delle suite e creazione della documentazione\n",
    "rimuovere il commento dalla prima riga per la costruzione della suite"
   ]
  },
  {
   "cell_type": "code",
   "execution_count": null,
   "id": "048cd21e",
   "metadata": {},
   "outputs": [],
   "source": [
    "# print(context.get_expectation_suite(expectation_suite_name=expectation_suite_name))\n",
    "context.save_expectation_suite(expectation_suite=suite, expectation_suite_name=expectation_suite_name)\n",
    "\n",
    "suite_identifier = ExpectationSuiteIdentifier(expectation_suite_name=expectation_suite_name)\n",
    "context.build_data_docs(resource_identifiers=[suite_identifier])\n",
    "context.open_data_docs(resource_identifier=suite_identifier)"
   ]
  },
  {
   "cell_type": "markdown",
   "id": "1299fd26",
   "metadata": {},
   "source": [
    "### Apri questo link per vedere le expectations create"
   ]
  },
  {
   "cell_type": "code",
   "execution_count": null,
   "id": "7b58023e",
   "metadata": {},
   "outputs": [],
   "source": [
    "print('http://localhost:9000/view/great_expectations/uncommitted/data_docs/local_site/expectations/'+ expectation_suite_name +'.html')"
   ]
  },
  {
   "cell_type": "markdown",
   "id": "327d6aed",
   "metadata": {},
   "source": [
    "Se non si sta utilizzando il notebook dal docker si può arrivare al sito tramite il percorso 'great_expectations\\uncommitted\\data_docs\\local_site'"
   ]
  },
  {
   "cell_type": "markdown",
   "id": "1a586ad7",
   "metadata": {},
   "source": [
    "## Creazione di un checkpoint"
   ]
  },
  {
   "cell_type": "code",
   "execution_count": null,
   "id": "9bcac569",
   "metadata": {},
   "outputs": [],
   "source": [
    "## checkpoint\n",
    "yaml = YAML()"
   ]
  },
  {
   "cell_type": "code",
   "execution_count": null,
   "id": "f136b6c7",
   "metadata": {},
   "outputs": [],
   "source": [
    "my_checkpoint_name = \"main_checkpoint\" # This was populated from your CLI command.\n",
    "\n",
    "yaml_config = f\"\"\"\n",
    "name: {my_checkpoint_name}\n",
    "config_version: 1.0\n",
    "class_name: SimpleCheckpoint\n",
    "run_name_template: \"%Y%m%d-%H%M%S-{data_asset_name}\"\n",
    "validations:\n",
    "  - batch_request:\n",
    "      datasource_name: glassdoor_scraping \n",
    "      data_connector_name: all\n",
    "      data_asset_name: {data_asset_name}\n",
    "      data_connector_query:\n",
    "        index: -1\n",
    "    expectation_suite_name: Main\n",
    "\"\"\""
   ]
  },
  {
   "cell_type": "code",
   "execution_count": null,
   "id": "8944b051",
   "metadata": {},
   "outputs": [],
   "source": [
    "# Run this cell to print out the names of your Datasources, Data Connectors and Data Assets\n",
    "pprint(context.get_available_data_asset_names())"
   ]
  },
  {
   "cell_type": "code",
   "execution_count": null,
   "id": "28bced6e",
   "metadata": {},
   "outputs": [],
   "source": [
    "context.list_expectation_suite_names()"
   ]
  },
  {
   "cell_type": "code",
   "execution_count": null,
   "id": "360c0a5e",
   "metadata": {},
   "outputs": [],
   "source": [
    "main_checkpoint = context.test_yaml_config(yaml_config=yaml_config)"
   ]
  },
  {
   "cell_type": "code",
   "execution_count": null,
   "id": "407ddd9d",
   "metadata": {
    "scrolled": false
   },
   "outputs": [],
   "source": [
    "#print(main_checkpoint.get_config(mode=\"yaml\"))\n"
   ]
  },
  {
   "cell_type": "code",
   "execution_count": null,
   "id": "e716b81e",
   "metadata": {},
   "outputs": [],
   "source": [
    "context.add_or_update_checkpoint(**yaml.load(yaml_config))\n",
    "context.list_checkpoints()"
   ]
  },
  {
   "cell_type": "markdown",
   "id": "048a9712",
   "metadata": {},
   "source": [
    "[Come aggiungere dati o suite di convalida a un Checkpoint](https://docs.greatexpectations.io/docs/guides/validation/checkpoints/how_to_add_validations_data_or_suites_to_a_checkpoint"
   ]
  },
  {
   "cell_type": "code",
   "execution_count": null,
   "id": "7f476abb",
   "metadata": {},
   "outputs": [],
   "source": [
    "try:\n",
    "    results = context.run_checkpoint(\n",
    "        checkpoint_name=\"main_checkpoint\",\n",
    "        expectation_suite_name = 'Main'\n",
    "    )\n",
    "except:\n",
    "    print('ko')"
   ]
  },
  {
   "cell_type": "code",
   "execution_count": null,
   "id": "71b6683c",
   "metadata": {},
   "outputs": [],
   "source": [
    "results = context.run_checkpoint(\n",
    "    checkpoint_name=\"main_checkpoint\",\n",
    "    expectation_suite_name = 'Main'\n",
    ")\n"
   ]
  },
  {
   "cell_type": "code",
   "execution_count": null,
   "id": "8260f167",
   "metadata": {},
   "outputs": [],
   "source": [
    "# A questo punto la validazione è completata, puoi consultare i risultati"
   ]
  },
  {
   "cell_type": "code",
   "execution_count": null,
   "id": "8d5f9eed",
   "metadata": {},
   "outputs": [],
   "source": [
    "a = re.findall('[0-9]{8}-[0-9]{6}-' + data_asset_name + '/[0-9]{8}T[0-9]{6}.[0-9]{6}Z/[\\S]{32}', str(list(results['run_results'])[0]))[0]\n",
    "b = expectation_suite_name + '/' + a\n",
    "path = r\"../great_expectations/uncommitted/validations/\" + b + '.json'"
   ]
  },
  {
   "cell_type": "markdown",
   "id": "3cfade0d",
   "metadata": {},
   "source": [
    "### Apri questo link per vedere le expectations create"
   ]
  },
  {
   "cell_type": "code",
   "execution_count": null,
   "id": "db533c2e",
   "metadata": {},
   "outputs": [],
   "source": [
    "print('http://localhost:9000/view/great_expectations/uncommitted/data_docs/local_site/expectations/'+ expectation_suite_name +'.html')"
   ]
  },
  {
   "cell_type": "markdown",
   "id": "6ed863e2",
   "metadata": {},
   "source": [
    "### Se non stai usando docker vai in questo path "
   ]
  },
  {
   "cell_type": "code",
   "execution_count": null,
   "id": "28047781",
   "metadata": {},
   "outputs": [],
   "source": [
    "print(\"great_expectations/uncommitted/data_docs/local_site/expectations/\"+ expectation_suite_name +'.html')"
   ]
  },
  {
   "cell_type": "markdown",
   "id": "1a0e1642",
   "metadata": {},
   "source": [
    "### Apri questo link per vedere i risultati\n"
   ]
  },
  {
   "cell_type": "code",
   "execution_count": null,
   "id": "feb37384",
   "metadata": {
    "scrolled": true
   },
   "outputs": [],
   "source": [
    "print( \"http://localhost:9000/view/great_expectations/uncommitted/data_docs/local_site/validations/\" + b + '.html')"
   ]
  },
  {
   "cell_type": "markdown",
   "id": "52bbcf60",
   "metadata": {},
   "source": [
    "### Se non stai usando docker vai in questo path "
   ]
  },
  {
   "cell_type": "code",
   "execution_count": null,
   "id": "8f291378",
   "metadata": {},
   "outputs": [],
   "source": [
    "print(\"great_expectations/uncommitted/data_docs/local_site/validations/\" + b + '.html')"
   ]
  }
 ],
 "metadata": {
  "kernelspec": {
   "display_name": "Python 3 (ipykernel)",
   "language": "python",
   "name": "python3"
  },
  "language_info": {
   "codemirror_mode": {
    "name": "ipython",
    "version": 3
   },
   "file_extension": ".py",
   "mimetype": "text/x-python",
   "name": "python",
   "nbconvert_exporter": "python",
   "pygments_lexer": "ipython3",
   "version": "3.10.9"
  }
 },
 "nbformat": 4,
 "nbformat_minor": 5
}
