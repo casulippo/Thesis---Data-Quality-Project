{
 "cells": [
  {
   "cell_type": "code",
   "execution_count": null,
   "id": "03b4d822",
   "metadata": {},
   "outputs": [],
   "source": [
    "import os\n",
    "import sys\n",
    "sys.path.insert(0, '../funzioni')\n",
    "from funzioni import *\n",
    "import json\n",
    "import os\n",
    "import sys\n",
    "import re\n",
    "import pandas as pd\n",
    "sys.path.append('../../')\n",
    "\n",
    "import matplotlib.pyplot as plt"
   ]
  },
  {
   "cell_type": "markdown",
   "id": "6568b756",
   "metadata": {},
   "source": [
    "## Data quality run"
   ]
  },
  {
   "cell_type": "code",
   "execution_count": null,
   "id": "02340ec7",
   "metadata": {},
   "outputs": [],
   "source": [
    "run_dataq()"
   ]
  },
  {
   "cell_type": "code",
   "execution_count": null,
   "id": "fcfbf994",
   "metadata": {},
   "outputs": [],
   "source": [
    "df  = parse_json()\n",
    "df"
   ]
  },
  {
   "cell_type": "code",
   "execution_count": null,
   "id": "70870547",
   "metadata": {},
   "outputs": [],
   "source": [
    "df_scrapingdate = df.iloc[:,:-3].groupby('scraping_date').agg({'element_count':max,'unexpected_percent':'mean', 'unexpected_percent_nonmissing':'mean', 'missing_percent':'mean' })\n",
    "df_scrapingdate"
   ]
  },
  {
   "cell_type": "code",
   "execution_count": null,
   "id": "6d937d71",
   "metadata": {},
   "outputs": [],
   "source": [
    "df_scrapingdate_column = df.iloc[:,:-3].groupby(['scraping_date', 'column']).agg({'element_count':max,'unexpected_percent':'mean', 'unexpected_percent_nonmissing':'mean', 'missing_percent':'mean' }).reset_index()\n",
    "df_scrapingdate_column"
   ]
  },
  {
   "cell_type": "code",
   "execution_count": null,
   "id": "302d1f60",
   "metadata": {},
   "outputs": [],
   "source": [
    "fig, ax = plt.subplots()\n",
    "\n",
    "# Cicla attraverso le colonne uniche del dataframe\n",
    "for col in df['column'].unique():\n",
    "    # Seleziona solo le righe del dataframe corrispondenti alla colonna attuale\n",
    "    sub_df = df_scrapingdate_column[df_scrapingdate_column['column'] == col]\n",
    "        \n",
    "    # Traccia una linea per il numero di elementi per data di scraping\n",
    "    ax.plot(sub_df['scraping_date'], sub_df['unexpected_percent_nonmissing'], label=col+' - unexpected_percent_nonmissing')\n",
    "    # Traccia una linea per la percentuale di valori imprevisti per data di scraping\n",
    "    #ax.plot(sub_df['scraping_date'], sub_df['unexpected_percent'], label=col+' - Unexpected Percent')\n",
    "    # Traccia una linea per la percentuale di valori mancanti per data di scraping\n",
    "    #ax.plot(sub_df['scraping_date'], sub_df['missing_percent'], label=col+' - Missing Percent')\n",
    "\n",
    "# Aggiungi legenda, etichette degli assi e titolo del grafico\n",
    "#ax.legend()\n",
    "ax.set_xlabel('Scraping Date')\n",
    "ax.set_ylabel('Count/Percent')\n",
    "ax.set_title('Count and Percent by Column and Scraping Date')\n",
    "\n",
    "# Mostra il grafico\n",
    "plt.show()"
   ]
  },
  {
   "cell_type": "code",
   "execution_count": null,
   "id": "0936eada",
   "metadata": {},
   "outputs": [],
   "source": [
    "df_column = df.iloc[:,:-3].groupby(['column']).agg({'element_count':'mean','unexpected_percent':'mean', 'unexpected_percent_nonmissing':'mean', 'missing_percent':'mean' }).reset_index()\n",
    "df_column"
   ]
  },
  {
   "cell_type": "code",
   "execution_count": null,
   "id": "a1cb3ac9",
   "metadata": {},
   "outputs": [],
   "source": [
    "df_expectation = df.iloc[:,:-3].groupby(['expectation_type']).agg({'element_count':max,'unexpected_percent':'mean', 'unexpected_percent_nonmissing':'mean', 'missing_percent':'mean' }).reset_index()\n",
    "df_expectation"
   ]
  },
  {
   "cell_type": "code",
   "execution_count": null,
   "id": "a82ffcff",
   "metadata": {},
   "outputs": [],
   "source": []
  },
  {
   "cell_type": "code",
   "execution_count": null,
   "id": "7744ee15",
   "metadata": {},
   "outputs": [],
   "source": []
  }
 ],
 "metadata": {
  "kernelspec": {
   "display_name": "Python 3 (ipykernel)",
   "language": "python",
   "name": "python3"
  },
  "language_info": {
   "codemirror_mode": {
    "name": "ipython",
    "version": 3
   },
   "file_extension": ".py",
   "mimetype": "text/x-python",
   "name": "python",
   "nbconvert_exporter": "python",
   "pygments_lexer": "ipython3",
   "version": "3.10.9"
  }
 },
 "nbformat": 4,
 "nbformat_minor": 5
}
