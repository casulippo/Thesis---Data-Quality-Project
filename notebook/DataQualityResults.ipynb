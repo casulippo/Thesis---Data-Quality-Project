{
 "cells": [
  {
   "cell_type": "code",
   "execution_count": 1,
   "id": "03b4d822",
   "metadata": {},
   "outputs": [],
   "source": [
    "import os\n",
    "import sys\n",
    "sys.path.insert(0, '../funzioni')\n",
    "from funzioni import *\n",
    "import json\n",
    "import os\n",
    "import sys\n",
    "import re\n",
    "import pandas as pd\n",
    "sys.path.append('../../')"
   ]
  },
  {
   "cell_type": "code",
   "execution_count": 2,
   "id": "02340ec7",
   "metadata": {},
   "outputs": [
    {
     "name": "stdout",
     "output_type": "stream",
     "text": [
      "Questa la documentazione sulla suite: Main \n",
      " http://localhost:9000/view/great_expectations/uncommitted/data_docs/local_site/expectations/Main.html\n"
     ]
    },
    {
     "data": {
      "application/vnd.jupyter.widget-view+json": {
       "model_id": "1c1a7b4cbbcb42518a242f18f885e913",
       "version_major": 2,
       "version_minor": 0
      },
      "text/plain": [
       "Calculating Metrics:   0%|          | 0/189 [00:00<?, ?it/s]"
      ]
     },
     "metadata": {},
     "output_type": "display_data"
    },
    {
     "name": "stdout",
     "output_type": "stream",
     "text": [
      "Consulta i risultati del data_asset_name \"scraping_all_20230216\" al link:\n",
      "http://localhost:9000/view/great_expectations/uncommitted/data_docs/local_site/validations/Main/20230226-220618-scraping_all_20230216/20230226T220618.926535Z/c4e91d3d0445ea05aa5a84cca138ff6f.html\n"
     ]
    },
    {
     "data": {
      "application/vnd.jupyter.widget-view+json": {
       "model_id": "98794f62d28c41c3916ad3700b6134db",
       "version_major": 2,
       "version_minor": 0
      },
      "text/plain": [
       "Calculating Metrics:   0%|          | 0/189 [00:00<?, ?it/s]"
      ]
     },
     "metadata": {},
     "output_type": "display_data"
    },
    {
     "name": "stdout",
     "output_type": "stream",
     "text": [
      "Consulta i risultati del data_asset_name \"scraping_all_20230217\" al link:\n",
      "http://localhost:9000/view/great_expectations/uncommitted/data_docs/local_site/validations/Main/20230226-220622-scraping_all_20230217/20230226T220622.025063Z/3efa08eb01bba7de1266fd8bb26c5cf3.html\n"
     ]
    },
    {
     "data": {
      "application/vnd.jupyter.widget-view+json": {
       "model_id": "367bb5a5d9144094b6a21dd898d4c90c",
       "version_major": 2,
       "version_minor": 0
      },
      "text/plain": [
       "Calculating Metrics:   0%|          | 0/189 [00:00<?, ?it/s]"
      ]
     },
     "metadata": {},
     "output_type": "display_data"
    },
    {
     "name": "stdout",
     "output_type": "stream",
     "text": [
      "Consulta i risultati del data_asset_name \"scraping_all_20230219\" al link:\n",
      "http://localhost:9000/view/great_expectations/uncommitted/data_docs/local_site/validations/Main/20230226-220625-scraping_all_20230219/20230226T220625.344867Z/e9bd252c14835612b1e4ae4a3ac712c0.html\n"
     ]
    },
    {
     "data": {
      "application/vnd.jupyter.widget-view+json": {
       "model_id": "6e36fb5948ce405dad8ac6ccf394a4c3",
       "version_major": 2,
       "version_minor": 0
      },
      "text/plain": [
       "Calculating Metrics:   0%|          | 0/189 [00:00<?, ?it/s]"
      ]
     },
     "metadata": {},
     "output_type": "display_data"
    },
    {
     "name": "stdout",
     "output_type": "stream",
     "text": [
      "Consulta i risultati del data_asset_name \"scraping_all_20230224\" al link:\n",
      "http://localhost:9000/view/great_expectations/uncommitted/data_docs/local_site/validations/Main/20230226-220628-scraping_all_20230224/20230226T220628.614688Z/4d7cdc08e0ee331cce276f99b1b7442b.html\n"
     ]
    },
    {
     "data": {
      "application/vnd.jupyter.widget-view+json": {
       "model_id": "63e54dff7e6d4e43874d2bc97f1ed442",
       "version_major": 2,
       "version_minor": 0
      },
      "text/plain": [
       "Calculating Metrics:   0%|          | 0/189 [00:00<?, ?it/s]"
      ]
     },
     "metadata": {},
     "output_type": "display_data"
    },
    {
     "name": "stdout",
     "output_type": "stream",
     "text": [
      "Consulta i risultati del data_asset_name \"scraping_all_20230225\" al link:\n",
      "http://localhost:9000/view/great_expectations/uncommitted/data_docs/local_site/validations/Main/20230226-220632-scraping_all_20230225/20230226T220632.386092Z/44443cc4de44ba37642b43bd85f3a657.html\n",
      "Checkpoint aggiornati o aggiunti:\n",
      " ['checkpoint_20230216', 'checkpoint_20230217', 'checkpoint_20230219', 'checkpoint_20230224', 'checkpoint_20230225', 'main_checkpoint']\n"
     ]
    }
   ],
   "source": [
    "run_dataq()"
   ]
  },
  {
   "cell_type": "code",
   "execution_count": null,
   "id": "fcfbf994",
   "metadata": {},
   "outputs": [],
   "source": [
    "df  = parse_json()\n",
    "df"
   ]
  },
  {
   "cell_type": "code",
   "execution_count": null,
   "id": "70870547",
   "metadata": {},
   "outputs": [],
   "source": [
    "df_scrapingdate = df.iloc[:,:-3].groupby('scraping_date').agg({'element_count':max,'unexpected_percent':'mean', 'unexpected_percent_nonmissing':'mean', 'missing_percent':'mean' })\n",
    "df_scrapingdate"
   ]
  },
  {
   "cell_type": "code",
   "execution_count": null,
   "id": "6d937d71",
   "metadata": {},
   "outputs": [],
   "source": [
    "df_scrapingdate_column = df.iloc[:,:-3].groupby(['scraping_date', 'column']).agg({'element_count':max,'unexpected_percent':'mean', 'unexpected_percent_nonmissing':'mean', 'missing_percent':'mean' }).reset_index()\n",
    "df_scrapingdate_column"
   ]
  },
  {
   "cell_type": "code",
   "execution_count": null,
   "id": "0936eada",
   "metadata": {},
   "outputs": [],
   "source": [
    "df_column = df.iloc[:,:-3].groupby(['column']).agg({'element_count':'mean','unexpected_percent':'mean', 'unexpected_percent_nonmissing':'mean', 'missing_percent':'mean' }).reset_index()\n",
    "df_column"
   ]
  },
  {
   "cell_type": "code",
   "execution_count": null,
   "id": "a1cb3ac9",
   "metadata": {},
   "outputs": [],
   "source": [
    "df_expectation = df.iloc[:,:-3].groupby(['expectation_type']).agg({'element_count':max,'unexpected_percent':'mean', 'unexpected_percent_nonmissing':'mean', 'missing_percent':'mean' }).reset_index()\n",
    "df_expectation"
   ]
  },
  {
   "cell_type": "code",
   "execution_count": null,
   "id": "e12abaa9",
   "metadata": {},
   "outputs": [],
   "source": []
  },
  {
   "cell_type": "code",
   "execution_count": null,
   "id": "23de0e06",
   "metadata": {},
   "outputs": [],
   "source": []
  }
 ],
 "metadata": {
  "kernelspec": {
   "display_name": "Python 3 (ipykernel)",
   "language": "python",
   "name": "python3"
  },
  "language_info": {
   "codemirror_mode": {
    "name": "ipython",
    "version": 3
   },
   "file_extension": ".py",
   "mimetype": "text/x-python",
   "name": "python",
   "nbconvert_exporter": "python",
   "pygments_lexer": "ipython3",
   "version": "3.10.9"
  }
 },
 "nbformat": 4,
 "nbformat_minor": 5
}
