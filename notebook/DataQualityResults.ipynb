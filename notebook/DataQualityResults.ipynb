{
 "cells": [
  {
   "cell_type": "code",
   "execution_count": null,
   "id": "03b4d822",
   "metadata": {},
   "outputs": [],
   "source": [
    "import os\n",
    "import sys\n",
    "sys.path.insert(0, '../funzioni')\n",
    "from funzioni import *\n",
    "import json\n",
    "import os\n",
    "import sys\n",
    "import re\n",
    "import pandas as pd\n",
    "sys.path.append('../../')\n",
    "\n",
    "import matplotlib.pyplot as plt"
   ]
  },
  {
   "cell_type": "markdown",
   "id": "6c3259a1",
   "metadata": {},
   "source": [
    "## Data Ingestion Analysys"
   ]
  },
  {
   "cell_type": "code",
   "execution_count": null,
   "id": "957e5fb3",
   "metadata": {},
   "outputs": [],
   "source": [
    "import pandas as pd\n",
    "import os\n",
    "df_append = pd.DataFrame()\n",
    "path = '../data'\n",
    "file_list = os.listdir(path)\n",
    "file_da_escludere = ['data_backup', 'company_overview.csv', 'jobs']\n",
    "file_list = list(set(file_list) - set(file_da_escludere))\n",
    "for e in file_list:\n",
    "    file_path = path + '/' + e\n",
    "    df = pd.read_csv(file_path).drop_duplicates().reset_index(drop=True)\n",
    "    df_append = df_append.append(df).drop_duplicates().reset_index(drop=True)\n",
    "dfr = df_append\n",
    "df_1 = df_append.groupby(['scraping_date'])[['job_link']].count().reset_index().rename(columns={'job_link':'total_rows'})\n",
    "df_2 = df_append[df_append['oppurtunita_carriera'].isna()].\\\n",
    "groupby(['scraping_date'])[['job_link']].count().reset_index().rename(columns={'job_link':'ko_schedevalutazione'})\n",
    "df_eval = df_1.merge(df_2, on = 'scraping_date')\n",
    "df_eval['ratio'] = df_eval['ko_schedevalutazione']/df_eval['total_rows']*100\n",
    "df_eval"
   ]
  },
  {
   "cell_type": "code",
   "execution_count": null,
   "id": "e6319992",
   "metadata": {},
   "outputs": [],
   "source": [
    "fig, ax = plt.subplots(figsize=(30, 5))\n",
    "\n",
    "ax.plot(df_eval['scraping_date'], df_eval['total_rows'], label='Offerte ottenute')\n",
    "ax.plot(df_eval['scraping_date'], df_eval['ko_schedevalutazione'],  label='Offerte ottenute senza scheda di valutazione')\n",
    "#ax2 = plt.twinx()\n",
    "#ax.plot(df_eval['scraping_date'], df_eval['ratio'], color='red', label='ratio')\n",
    "#ax.plot(df_eval['scraping_date'], df_eval['ratio'], 'ro' label='Offerte ottenute senza scheda di valutazione')\n",
    "\n",
    "plt.xlabel('Scraping Date')\n",
    "#plt.ylabel('ko_schedevalutazione ')\n",
    "#plt.title('Grafico a linee')\n",
    "plt.legend()\n",
    "plt.show()"
   ]
  },
  {
   "cell_type": "code",
   "execution_count": null,
   "id": "8eb26013",
   "metadata": {},
   "outputs": [],
   "source": [
    "fig, ax = plt.subplots(figsize=(30, 5))\n",
    "\n",
    "ax.bar(df_eval['scraping_date'], df_eval['ratio'], color='green')\n",
    "ax.plot(df_eval['scraping_date'], df_eval['ratio'], color='red')\n",
    "\n",
    "plt.xlabel('Scraping Date')\n",
    "plt.ylabel('Rapporto %')\n",
    "plt.title('Rapporto tra Offerte ottenute senza scheda di valutazione / Offerte ottenute')\n",
    "\n",
    "\n",
    "plt.legend()\n",
    "plt.show()"
   ]
  },
  {
   "cell_type": "markdown",
   "id": "6568b756",
   "metadata": {},
   "source": [
    "## Data quality run"
   ]
  },
  {
   "cell_type": "code",
   "execution_count": null,
   "id": "02340ec7",
   "metadata": {},
   "outputs": [],
   "source": [
    "run_dataq()"
   ]
  },
  {
   "cell_type": "code",
   "execution_count": null,
   "id": "fcfbf994",
   "metadata": {},
   "outputs": [],
   "source": [
    "df  = parse_json()\n",
    "df1 = df[df['expectation_type'] != 'expect_table_columns_to_match_ordered_list'].iloc[:,:-3][['scraping_date','column','expectation_type','element_count','unexpected_percent', 'unexpected_percent_nonmissing', 'missing_percent']]\n",
    "df_scrapingdate = df1.groupby(['scraping_date','expectation_type']).agg({'element_count':max,'unexpected_percent':'mean', 'unexpected_percent_nonmissing':'mean', 'missing_percent':'mean' }).reset_index()\n",
    "df_scrapingdate.head()"
   ]
  },
  {
   "cell_type": "code",
   "execution_count": null,
   "id": "302d1f60",
   "metadata": {},
   "outputs": [],
   "source": [
    "fig, ax = plt.subplots()\n",
    "\n",
    "# Cicla attraverso le colonne uniche del dataframe\n",
    "for col in df_scrapingdate['expectation_type'].unique():\n",
    "    # Seleziona solo le righe del dataframe corrispondenti alla colonna attuale\n",
    "    sub_df = df_scrapingdate[df_scrapingdate['expectation_type'] == col]\n",
    "        \n",
    "    # Traccia una linea per il numero di elementi per data di scraping\n",
    "    ax.plot(sub_df['scraping_date'], sub_df['unexpected_percent_nonmissing'], label=col+' - unexpected_percent_nonmissing')\n",
    "    # Traccia una linea per la percentuale di valori imprevisti per data di scraping\n",
    "    #ax.plot(sub_df['scraping_date'], sub_df['unexpected_percent'], label=col+' - Unexpected Percent')\n",
    "    # Traccia una linea per la percentuale di valori mancanti per data di scraping\n",
    "    #ax.plot(sub_df['scraping_date'], sub_df['missing_percent'], label=col+' - Missing Percent')\n",
    "\n",
    "# Aggiungi legenda, etichette degli assi e titolo del grafico\n",
    "#ax.legend()\n",
    "\n",
    "ax.set_xlabel('Scraping Date')\n",
    "ax.set_ylabel('Count/Percent')\n",
    "ax.set_title('Count and Percent by Column and Scraping Date')\n",
    "\n",
    "# Mostra il grafico\n",
    "plt.show()"
   ]
  }
 ],
 "metadata": {
  "kernelspec": {
   "display_name": "Python 3 (ipykernel)",
   "language": "python",
   "name": "python3"
  },
  "language_info": {
   "codemirror_mode": {
    "name": "ipython",
    "version": 3
   },
   "file_extension": ".py",
   "mimetype": "text/x-python",
   "name": "python",
   "nbconvert_exporter": "python",
   "pygments_lexer": "ipython3",
   "version": "3.10.9"
  }
 },
 "nbformat": 4,
 "nbformat_minor": 5
}
