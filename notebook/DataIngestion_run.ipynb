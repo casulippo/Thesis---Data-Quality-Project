{
 "cells": [
  {
   "cell_type": "code",
   "execution_count": null,
   "metadata": {},
   "outputs": [],
   "source": [
    "import sys\n",
    "sys.path.insert(0, '../funzioni')\n",
    "from funzioni_ingestion import *\n",
    "\n",
    "def check_and_scrape_company_pages(df_company_overview, df, file_path):\n",
    "    old_links = list(df_company_overview['job_link'].unique())\n",
    "    links = list(df['job_link'].unique())\n",
    "    new_links = list(set(links) - set(old_links))\n",
    "    print('Pagine su cui fare scraping', len(new_links))\n",
    "    df_scraping_company=pd.DataFrame()\n",
    "    n=5\n",
    "    for i in range(0, len(new_links), n):\n",
    "        df_fitt = scraping_company_page(new_links, end_n_page = i+n, start_n_page=i)\n",
    "        df_scraping_company = df_scraping_company.append(df_fitt).reset_index(drop=True)\n",
    "        df_company_overview.append(df_scraping_company).reset_index(drop=True).to_csv('../data/company_overview.csv', index=False)\n",
    "        print('Lista parziale', len(df_scraping_company),'Lista totale', len(df_company_overview))\n",
    "    df_final = df.merge(df_scraping_company, how='left', on ='job_link').drop_duplicates().reset_index(drop=True)\n",
    "    df_final.to_csv(file_path, index=False)\n",
    "\n",
    "def run_scraping(url=None, file_esclusi=['']):\n",
    "    import time\n",
    "    from datetime import date\n",
    "    path_overview = '../data/company_overview.csv'\n",
    "    path = '../data'\n",
    "    today = date.today()\n",
    "\n",
    "    data = today.strftime(\"%Y%m%d\")\n",
    "    data_file = today.strftime(\"%Y-%m-%d\")\n",
    "    \n",
    "    if url == None:\n",
    "        print('Ricerco solo schede di valutazione')\n",
    "        df_company_overview = pd.read_csv(path_overview)\n",
    "        file_list = os.listdir(path)\n",
    "        #file_list.remove(['company_overview.csv', 'data_backup'] + file_esclusi)\n",
    "        file_da_escludere = ['data_backup', 'company_overview.csv']\n",
    "        file_list = list(set(file_list) - set(file_da_escludere) - set(file_esclusi))\n",
    "        for e in file_list:\n",
    "            df_partial_company=pd.DataFrame()\n",
    "            file_path = path + '/' + e\n",
    "            df = pd.read_csv(file_path).drop_duplicates().reset_index(drop=True)\n",
    "            check_and_scrape_company_pages(df_company_overview, df, file_path)\n",
    "            print('Ho completato il file nel path', file_path)\n",
    "    else:\n",
    "        print('Faccio lo scraping del link che mi hai chiesto e poi ricerco le schede di valutazione')\n",
    "        df_job_scraping = scraping_job_page(url, n_page = 1)\n",
    "        df_company_overview = pd.read_csv(path_overview)\n",
    "        df_job_scraping['scraping_date'] = data_file\n",
    "        file_path=path +\"jobs/scraping_job_\" + data + '.csv'\n",
    "        df_job_scraping.to_csv(file_path, index=False)\n",
    "        check_and_scrape_company_pages(df_company_overview, df_job_scraping, file_path)"
   ]
  },
  {
   "cell_type": "code",
   "execution_count": null,
   "metadata": {},
   "outputs": [],
   "source": [
    "run_scraping()"
   ]
  },
  {
   "cell_type": "code",
   "execution_count": null,
   "metadata": {},
   "outputs": [],
   "source": []
  },
  {
   "cell_type": "code",
   "execution_count": null,
   "metadata": {},
   "outputs": [],
   "source": [
    "df_append = pd.DataFrame()\n",
    "path = '../data'\n",
    "file_list = os.listdir(path)\n",
    "file_list.remove('company_overview.csv')\n",
    "file_list.remove('data_backup')\n",
    "for e in file_list:\n",
    "    file_path = path + '/' + e\n",
    "    df = pd.read_csv(file_path).drop_duplicates().reset_index(drop=True)\n",
    "    df_append = df_append.append(df).drop_duplicates().reset_index(drop=True)\n",
    "df_1 = df_append.groupby(['scraping_date'])[['job_link']].count().reset_index().rename(columns={'job_link':'total_row'})\n",
    "df_2 = df_append[df_append['oppurtunita_carriera'].isna()].\\\n",
    "groupby(['scraping_date'])[['job_link']].count().reset_index().rename(columns={'job_link':'ko_evaluation'})\n",
    "df_eval = df_1.merge(df_2, on = 'scraping_date')\n",
    "df_eval['ratio'] = df_eval['ko_evaluation']/df_eval['total_row']*100\n",
    "df_eval"
   ]
  },
  {
   "cell_type": "code",
   "execution_count": null,
   "metadata": {},
   "outputs": [],
   "source": []
  }
 ],
 "metadata": {
  "kernelspec": {
   "display_name": "Python 3",
   "language": "python",
   "name": "python3"
  },
  "language_info": {
   "codemirror_mode": {
    "name": "ipython",
    "version": 3
   },
   "file_extension": ".py",
   "mimetype": "text/x-python",
   "name": "python",
   "nbconvert_exporter": "python",
   "pygments_lexer": "ipython3",
   "version": "3.8.5"
  }
 },
 "nbformat": 4,
 "nbformat_minor": 4
}
