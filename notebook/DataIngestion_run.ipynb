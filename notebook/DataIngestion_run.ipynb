{
 "cells": [
  {
   "cell_type": "code",
   "execution_count": 1,
   "metadata": {},
   "outputs": [
    {
     "name": "stderr",
     "output_type": "stream",
     "text": [
      "C:\\Users\\Casulippo\\anaconda3\\lib\\site-packages\\requests\\__init__.py:89: RequestsDependencyWarning: urllib3 (1.26.14) or chardet (3.0.4) doesn't match a supported version!\n",
      "  warnings.warn(\"urllib3 ({}) or chardet ({}) doesn't match a supported \"\n"
     ]
    }
   ],
   "source": [
    "import sys\n",
    "sys.path.insert(0, '../funzioni')\n",
    "from funzioni_ingestion import *\n",
    "\n",
    "def check_and_scrape_company_pages(df_company_overview, df, file_path):\n",
    "    old_links = list(df_company_overview['job_link'].unique())\n",
    "    links = list(df['job_link'].unique())\n",
    "    new_links = list(set(links) - set(old_links))\n",
    "    print('Pagine su cui fare scraping', len(new_links))\n",
    "    df_scraping_company=pd.DataFrame()\n",
    "    n=5\n",
    "    for i in range(0, len(new_links), n):\n",
    "        df_fitt = scraping_company_page(new_links, end_n_page = i+n, start_n_page=i)\n",
    "        df_scraping_company = df_scraping_company.append(df_fitt).reset_index(drop=True)\n",
    "        df_company_overview.append(df_scraping_company).reset_index(drop=True).to_csv('../data/company_overview.csv', index=False)\n",
    "        print('Lista parziale', len(df_scraping_company),'Lista totale', len(df_company_overview))\n",
    "    df_final = df.merge(df_scraping_company, how='left', on ='job_link').drop_duplicates().reset_index(drop=True)\n",
    "    df_final.to_csv(file_path, index=False)\n",
    "\n",
    "def run_scraping(url=None, file_esclusi=['']):\n",
    "    import time\n",
    "    from datetime import date\n",
    "    path_overview = '../data/company_overview.csv'\n",
    "    path = '../data'\n",
    "    today = date.today()\n",
    "\n",
    "    data = today.strftime(\"%Y%m%d\")\n",
    "    data_file = today.strftime(\"%Y-%m-%d\")\n",
    "    \n",
    "    if url == None:\n",
    "        print('Ricerco solo schede di valutazione')\n",
    "        df_company_overview = pd.read_csv(path_overview)\n",
    "        file_list = os.listdir(path)\n",
    "        #file_list.remove(['company_overview.csv', 'data_backup'] + file_esclusi)\n",
    "        file_da_escludere = ['data_backup', 'company_overview.csv']\n",
    "        file_list = list(set(file_list) - set(file_da_escludere) - set(file_esclusi))\n",
    "        for e in file_list:\n",
    "            df_partial_company=pd.DataFrame()\n",
    "            file_path = path + '/' + e\n",
    "            df = pd.read_csv(file_path).drop_duplicates().reset_index(drop=True)\n",
    "            check_and_scrape_company_pages(df_company_overview, df, file_path)\n",
    "    else:\n",
    "        print('Faccio lo scraping del link che mi hai chiesto e poi ricerco le schede di valutazione')\n",
    "        df_job_scraping = scraping_job_page(url, n_page = 1)\n",
    "        df_company_overview = pd.read_csv(path_overview)\n",
    "        df_job_scraping['scraping_date'] = data_file\n",
    "        file_path=path +\"jobs/scraping_job_\" + data + '.csv'\n",
    "        df_job_scraping.to_csv(file_path, index=False)\n",
    "        check_and_scrape_company_pages(df_company_overview, df_job_scraping, file_path)"
   ]
  },
  {
   "cell_type": "code",
   "execution_count": null,
   "metadata": {},
   "outputs": [],
   "source": [
    "run_scraping(url = 'https://www.glassdoor.it/Lavoro/modena-part-time-lavori-SRCH_IL.0,6_IC2794785_KO7,16.htm')"
   ]
  },
  {
   "cell_type": "code",
   "execution_count": 2,
   "metadata": {},
   "outputs": [],
   "source": [
    "df_append = pd.DataFrame()\n",
    "path = '../data'\n",
    "file_list = os.listdir(path)\n",
    "file_list.remove('company_overview.csv')\n",
    "file_list.remove('data_backup')\n",
    "for e in file_list:\n",
    "    file_path = path + '/' + e\n",
    "    df = pd.read_csv(file_path).drop_duplicates().reset_index(drop=True)\n",
    "    df_append = df_append.append(df).drop_duplicates().reset_index(drop=True)"
   ]
  },
  {
   "cell_type": "code",
   "execution_count": 3,
   "metadata": {},
   "outputs": [
    {
     "data": {
      "text/html": [
       "<div>\n",
       "<style scoped>\n",
       "    .dataframe tbody tr th:only-of-type {\n",
       "        vertical-align: middle;\n",
       "    }\n",
       "\n",
       "    .dataframe tbody tr th {\n",
       "        vertical-align: top;\n",
       "    }\n",
       "\n",
       "    .dataframe thead th {\n",
       "        text-align: right;\n",
       "    }\n",
       "</style>\n",
       "<table border=\"1\" class=\"dataframe\">\n",
       "  <thead>\n",
       "    <tr style=\"text-align: right;\">\n",
       "      <th></th>\n",
       "      <th>scraping_date</th>\n",
       "      <th>total_row</th>\n",
       "      <th>ko_evaluation</th>\n",
       "      <th>ratio</th>\n",
       "    </tr>\n",
       "  </thead>\n",
       "  <tbody>\n",
       "    <tr>\n",
       "      <th>0</th>\n",
       "      <td>2023-02-16</td>\n",
       "      <td>1380</td>\n",
       "      <td>1001</td>\n",
       "      <td>72.536232</td>\n",
       "    </tr>\n",
       "    <tr>\n",
       "      <th>1</th>\n",
       "      <td>2023-02-17</td>\n",
       "      <td>2700</td>\n",
       "      <td>2072</td>\n",
       "      <td>76.740741</td>\n",
       "    </tr>\n",
       "    <tr>\n",
       "      <th>2</th>\n",
       "      <td>2023-02-19</td>\n",
       "      <td>900</td>\n",
       "      <td>900</td>\n",
       "      <td>100.000000</td>\n",
       "    </tr>\n",
       "    <tr>\n",
       "      <th>3</th>\n",
       "      <td>2023-02-24</td>\n",
       "      <td>900</td>\n",
       "      <td>900</td>\n",
       "      <td>100.000000</td>\n",
       "    </tr>\n",
       "    <tr>\n",
       "      <th>4</th>\n",
       "      <td>2023-02-25</td>\n",
       "      <td>900</td>\n",
       "      <td>900</td>\n",
       "      <td>100.000000</td>\n",
       "    </tr>\n",
       "    <tr>\n",
       "      <th>5</th>\n",
       "      <td>2023-02-26</td>\n",
       "      <td>360</td>\n",
       "      <td>133</td>\n",
       "      <td>36.944444</td>\n",
       "    </tr>\n",
       "    <tr>\n",
       "      <th>6</th>\n",
       "      <td>2023-02-27</td>\n",
       "      <td>870</td>\n",
       "      <td>870</td>\n",
       "      <td>100.000000</td>\n",
       "    </tr>\n",
       "  </tbody>\n",
       "</table>\n",
       "</div>"
      ],
      "text/plain": [
       "  scraping_date  total_row  ko_evaluation       ratio\n",
       "0    2023-02-16       1380           1001   72.536232\n",
       "1    2023-02-17       2700           2072   76.740741\n",
       "2    2023-02-19        900            900  100.000000\n",
       "3    2023-02-24        900            900  100.000000\n",
       "4    2023-02-25        900            900  100.000000\n",
       "5    2023-02-26        360            133   36.944444\n",
       "6    2023-02-27        870            870  100.000000"
      ]
     },
     "execution_count": 3,
     "metadata": {},
     "output_type": "execute_result"
    }
   ],
   "source": [
    "df_1 = df_append.groupby(['scraping_date'])[['job_link']].count().reset_index().rename(columns={'job_link':'total_row'})\n",
    "df_2 = df_append[df_append['oppurtunita_carriera'].isna()].\\\n",
    "groupby(['scraping_date'])[['job_link']].count().reset_index().rename(columns={'job_link':'ko_evaluation'})\n",
    "df_eval = df_1.merge(df_2, on = 'scraping_date')\n",
    "df_eval['ratio'] = df_eval['ko_evaluation']/df_eval['total_row']*100\n",
    "df_eval"
   ]
  },
  {
   "cell_type": "code",
   "execution_count": null,
   "metadata": {},
   "outputs": [],
   "source": []
  }
 ],
 "metadata": {
  "kernelspec": {
   "display_name": "Python 3",
   "language": "python",
   "name": "python3"
  },
  "language_info": {
   "codemirror_mode": {
    "name": "ipython",
    "version": 3
   },
   "file_extension": ".py",
   "mimetype": "text/x-python",
   "name": "python",
   "nbconvert_exporter": "python",
   "pygments_lexer": "ipython3",
   "version": "3.8.5"
  }
 },
 "nbformat": 4,
 "nbformat_minor": 4
}
